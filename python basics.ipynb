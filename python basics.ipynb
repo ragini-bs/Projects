{
 "cells": [
  {
   "cell_type": "markdown",
   "id": "16e71626",
   "metadata": {},
   "source": [
    "A. 1.Declare two variables, `x` and `y`, and assign them integer values.\n",
    "Swap the values of these variables without using any temporary\n",
    "variable."
   ]
  },
  {
   "cell_type": "code",
   "execution_count": 1,
   "id": "316126b4",
   "metadata": {},
   "outputs": [],
   "source": [
    "X=2\n",
    "Y=3"
   ]
  },
  {
   "cell_type": "code",
   "execution_count": 2,
   "id": "7f62e52a",
   "metadata": {},
   "outputs": [
    {
     "data": {
      "text/plain": [
       "3"
      ]
     },
     "execution_count": 2,
     "metadata": {},
     "output_type": "execute_result"
    }
   ],
   "source": [
    "X,Y=Y,X\n",
    "X\n"
   ]
  },
  {
   "cell_type": "code",
   "execution_count": 3,
   "id": "fee8de97",
   "metadata": {},
   "outputs": [
    {
     "data": {
      "text/plain": [
       "2"
      ]
     },
     "execution_count": 3,
     "metadata": {},
     "output_type": "execute_result"
    }
   ],
   "source": [
    "Y"
   ]
  },
  {
   "cell_type": "markdown",
   "id": "34eeb50a",
   "metadata": {},
   "source": [
    "2.Create a program that calculates the area of a rectangle. Take the length and width as inputs from the user and store them in variables. Calculate and display the area."
   ]
  },
  {
   "cell_type": "code",
   "execution_count": 4,
   "id": "a26a1cbb",
   "metadata": {},
   "outputs": [],
   "source": [
    "X=4  # LENGTH\n",
    "Y=5   #  WIDTH"
   ]
  },
  {
   "cell_type": "code",
   "execution_count": 5,
   "id": "9d07a609",
   "metadata": {},
   "outputs": [],
   "source": [
    "#AREA OF RECTANGLE IS LENGTH*WIDTH\n",
    "A=X*Y"
   ]
  },
  {
   "cell_type": "code",
   "execution_count": 6,
   "id": "544ca9ea",
   "metadata": {},
   "outputs": [
    {
     "data": {
      "text/plain": [
       "20"
      ]
     },
     "execution_count": 6,
     "metadata": {},
     "output_type": "execute_result"
    }
   ],
   "source": [
    "A"
   ]
  },
  {
   "cell_type": "markdown",
   "id": "dc58ec92",
   "metadata": {},
   "source": [
    "3.Write a Python program that converts temperature from Celsius to Fahrenheit. Take the temperature in Celsius as input, store it in a variable, convert it to Fahrenheit, and display the result."
   ]
  },
  {
   "cell_type": "code",
   "execution_count": 7,
   "id": "dddcd8dc",
   "metadata": {},
   "outputs": [],
   "source": [
    "C=80  # TEMP IN CELSIUS"
   ]
  },
  {
   "cell_type": "code",
   "execution_count": 8,
   "id": "da634c9b",
   "metadata": {},
   "outputs": [],
   "source": [
    "# FORMULA TO CONVET TEMP FROM CELCIUS TO FARANITE °F = (°C x 1.8) + 32"
   ]
  },
  {
   "cell_type": "code",
   "execution_count": 9,
   "id": "96518fb9",
   "metadata": {},
   "outputs": [],
   "source": [
    "F=80*1.8+32"
   ]
  },
  {
   "cell_type": "code",
   "execution_count": 10,
   "id": "de71197c",
   "metadata": {},
   "outputs": [
    {
     "data": {
      "text/plain": [
       "176.0"
      ]
     },
     "execution_count": 10,
     "metadata": {},
     "output_type": "execute_result"
    }
   ],
   "source": [
    "F"
   ]
  },
  {
   "cell_type": "markdown",
   "id": "6e2fc99e",
   "metadata": {},
   "source": [
    "B.1. Write a Python program that takes a string as input and prints the length of the string."
   ]
  },
  {
   "cell_type": "code",
   "execution_count": 13,
   "id": "f83586c3",
   "metadata": {},
   "outputs": [
    {
     "name": "stdout",
     "output_type": "stream",
     "text": [
      "ragini\n"
     ]
    }
   ],
   "source": [
    "x= input()"
   ]
  },
  {
   "cell_type": "code",
   "execution_count": 14,
   "id": "1ec183d8",
   "metadata": {},
   "outputs": [
    {
     "data": {
      "text/plain": [
       "'ragini'"
      ]
     },
     "execution_count": 14,
     "metadata": {},
     "output_type": "execute_result"
    }
   ],
   "source": [
    "x"
   ]
  },
  {
   "cell_type": "code",
   "execution_count": 15,
   "id": "f3033302",
   "metadata": {},
   "outputs": [
    {
     "data": {
      "text/plain": [
       "6"
      ]
     },
     "execution_count": 15,
     "metadata": {},
     "output_type": "execute_result"
    }
   ],
   "source": [
    "len(x)"
   ]
  },
  {
   "cell_type": "markdown",
   "id": "7beb7a57",
   "metadata": {},
   "source": [
    "2. Create a program that takes a sentence from the user and counts the\n",
    "number of vowels (a, e, i, o, u) in the string."
   ]
  },
  {
   "cell_type": "code",
   "execution_count": 16,
   "id": "9c1a8530",
   "metadata": {},
   "outputs": [],
   "source": [
    "x=\"iam creating a sentence which is useful to us\""
   ]
  },
  {
   "cell_type": "code",
   "execution_count": 17,
   "id": "8464f67b",
   "metadata": {},
   "outputs": [
    {
     "data": {
      "text/plain": [
       "0"
      ]
     },
     "execution_count": 17,
     "metadata": {},
     "output_type": "execute_result"
    }
   ],
   "source": [
    "x.count(\"a,e,i,o,u\")"
   ]
  },
  {
   "cell_type": "markdown",
   "id": "077df9bd",
   "metadata": {},
   "source": [
    "3. Given a string, reverse the order of characters using string slicing and\n",
    "print the reversed string."
   ]
  },
  {
   "cell_type": "code",
   "execution_count": 20,
   "id": "e0eacc20",
   "metadata": {},
   "outputs": [],
   "source": [
    "x=\"iam creating a sentence which is useful to us\""
   ]
  },
  {
   "cell_type": "code",
   "execution_count": 21,
   "id": "65ca81e7",
   "metadata": {},
   "outputs": [
    {
     "data": {
      "text/plain": [
       "'su ot lufesu si hcihw ecnetnes a gnitaerc mai'"
      ]
     },
     "execution_count": 21,
     "metadata": {},
     "output_type": "execute_result"
    }
   ],
   "source": [
    "x[::-1]"
   ]
  },
  {
   "cell_type": "markdown",
   "id": "f7d22fa3",
   "metadata": {},
   "source": [
    "4. Write a program that takes a string as input and checks if it is a\n",
    "palindrome (reads the same forwards and backwards)."
   ]
  },
  {
   "cell_type": "code",
   "execution_count": 22,
   "id": "8f6e1896",
   "metadata": {},
   "outputs": [
    {
     "name": "stdout",
     "output_type": "stream",
     "text": [
      "Murder for a jar of red rum\n"
     ]
    }
   ],
   "source": [
    "x=input()"
   ]
  },
  {
   "cell_type": "code",
   "execution_count": 23,
   "id": "646bcb85",
   "metadata": {},
   "outputs": [
    {
     "data": {
      "text/plain": [
       "'Murder for a jar of red rum'"
      ]
     },
     "execution_count": 23,
     "metadata": {},
     "output_type": "execute_result"
    }
   ],
   "source": [
    "x"
   ]
  },
  {
   "cell_type": "code",
   "execution_count": 24,
   "id": "bafd3585",
   "metadata": {},
   "outputs": [
    {
     "data": {
      "text/plain": [
       "'mur der fo raj a rof redruM'"
      ]
     },
     "execution_count": 24,
     "metadata": {},
     "output_type": "execute_result"
    }
   ],
   "source": [
    "x[::-1]"
   ]
  },
  {
   "cell_type": "markdown",
   "id": "4a6ba90f",
   "metadata": {},
   "source": [
    "5. Create a program that takes a string as input and removes all the\n",
    "spaces from it. Print the modified string without spaces."
   ]
  },
  {
   "cell_type": "code",
   "execution_count": 25,
   "id": "1752bdc9",
   "metadata": {},
   "outputs": [
    {
     "name": "stdout",
     "output_type": "stream",
     "text": [
      "Murder for a jar of red rum x x\n"
     ]
    }
   ],
   "source": [
    "x=input()"
   ]
  },
  {
   "cell_type": "code",
   "execution_count": 26,
   "id": "8711db60",
   "metadata": {},
   "outputs": [
    {
     "data": {
      "text/plain": [
       "str"
      ]
     },
     "execution_count": 26,
     "metadata": {},
     "output_type": "execute_result"
    }
   ],
   "source": [
    "type(x)"
   ]
  },
  {
   "cell_type": "code",
   "execution_count": 27,
   "id": "14d2957e",
   "metadata": {},
   "outputs": [
    {
     "data": {
      "text/plain": [
       "'Murder for a jar of red rum x x'"
      ]
     },
     "execution_count": 27,
     "metadata": {},
     "output_type": "execute_result"
    }
   ],
   "source": [
    "x"
   ]
  },
  {
   "cell_type": "code",
   "execution_count": 32,
   "id": "f30644c7",
   "metadata": {},
   "outputs": [],
   "source": [
    "x = x.replace (\" \", \"\")"
   ]
  },
  {
   "cell_type": "code",
   "execution_count": 33,
   "id": "25d8de9d",
   "metadata": {},
   "outputs": [
    {
     "data": {
      "text/plain": [
       "'Murderforajarofredrumxx'"
      ]
     },
     "execution_count": 33,
     "metadata": {},
     "output_type": "execute_result"
    }
   ],
   "source": [
    "x"
   ]
  },
  {
   "cell_type": "code",
   "execution_count": null,
   "id": "94e4b6c3",
   "metadata": {},
   "outputs": [],
   "source": []
  }
 ],
 "metadata": {
  "kernelspec": {
   "display_name": "Python 3 (ipykernel)",
   "language": "python",
   "name": "python3"
  },
  "language_info": {
   "codemirror_mode": {
    "name": "ipython",
    "version": 3
   },
   "file_extension": ".py",
   "mimetype": "text/x-python",
   "name": "python",
   "nbconvert_exporter": "python",
   "pygments_lexer": "ipython3",
   "version": "3.9.7"
  }
 },
 "nbformat": 4,
 "nbformat_minor": 5
}
