{
 "cells": [
  {
   "cell_type": "markdown",
   "id": "ad7128ec",
   "metadata": {},
   "source": [
    "Problem 1: Reverse a singly linked list.\n",
    "Input: 1 -> 2 -> 3 -> 4 -> 5\n",
    "Output: 5 -> 4 -> 3 -> 2 -> 1    "
   ]
  },
  {
   "cell_type": "code",
   "execution_count": 1,
   "id": "63753f8e",
   "metadata": {},
   "outputs": [
    {
     "name": "stdout",
     "output_type": "stream",
     "text": [
      "Original linked list:\n",
      "1 -> 2 -> 3 -> 4 -> 5 -> None\n",
      "Reversed linked list:\n",
      "5 -> 4 -> 3 -> 2 -> 1 -> None\n"
     ]
    }
   ],
   "source": [
    "class ListNode:\n",
    "    def __init__(self, val=0, next=None):\n",
    "        self.val = val\n",
    "        self.next = next\n",
    "\n",
    "def reverse_linked_list(head):\n",
    "    prev = None\n",
    "    current = head\n",
    "    while current is not None:\n",
    "        next_node = current.next  # Store the next node\n",
    "        current.next = prev  # Reverse the pointer\n",
    "        prev = current  # Move prev to current node\n",
    "        current = next_node  # Move current to next node\n",
    "    head = prev  # Update head to the last node, which is now the first node of the reversed list\n",
    "    return head\n",
    "\n",
    "def print_linked_list(head):\n",
    "    current = head\n",
    "    while current is not None:\n",
    "        print(current.val, end=\" -> \")\n",
    "        current = current.next\n",
    "    print(\"None\")\n",
    "\n",
    "# Example usage\n",
    "if __name__ == \"__main__\":\n",
    "    # Create the linked list: 1 -> 2 -> 3 -> 4 -> 5\n",
    "    head = ListNode(1)\n",
    "    head.next = ListNode(2)\n",
    "    head.next.next = ListNode(3)\n",
    "    head.next.next.next = ListNode(4)\n",
    "    head.next.next.next.next = ListNode(5)\n",
    "\n",
    "    print(\"Original linked list:\")\n",
    "    print_linked_list(head)\n",
    "\n",
    "    # Reverse the linked list\n",
    "    head = reverse_linked_list(head)\n",
    "\n",
    "    print(\"Reversed linked list:\")\n",
    "    print_linked_list(head)\n",
    "\n",
    "\n"
   ]
  },
  {
   "cell_type": "markdown",
   "id": "60b8c718",
   "metadata": {},
   "source": [
    "Problem 2: Merge two sorted linked lists into one sorted linked list.Input: List 1: 1 -> 3 -> 5, List 2: 2 -> 4 -> 6\n",
    "Output: 1 -> 2 -> 3 -> 4 -> 5 -> 6"
   ]
  },
  {
   "cell_type": "code",
   "execution_count": 2,
   "id": "0f76ea2d",
   "metadata": {},
   "outputs": [
    {
     "name": "stdout",
     "output_type": "stream",
     "text": [
      "First sorted linked list:\n",
      "1 -> 3 -> 5 -> None\n",
      "Second sorted linked list:\n",
      "2 -> 4 -> 6 -> None\n",
      "Merged sorted linked list:\n",
      "1 -> 2 -> 3 -> 4 -> 5 -> 6 -> None\n"
     ]
    }
   ],
   "source": [
    "class ListNode:\n",
    "    def __init__(self, val=0, next=None):\n",
    "        self.val = val\n",
    "        self.next = next\n",
    "\n",
    "def merge_two_lists(l1, l2):\n",
    "    dummy_head = ListNode()  # Dummy head to simplify the code\n",
    "    current = dummy_head\n",
    "\n",
    "    while l1 and l2:\n",
    "        if l1.val < l2.val:\n",
    "            current.next = l1\n",
    "            l1 = l1.next\n",
    "        else:\n",
    "            current.next = l2\n",
    "            l2 = l2.next\n",
    "        current = current.next\n",
    "\n",
    "    # Append remaining nodes from list 1 or list 2 if any\n",
    "    if l1:\n",
    "        current.next = l1\n",
    "    if l2:\n",
    "        current.next = l2\n",
    "\n",
    "    return dummy_head.next\n",
    "\n",
    "def print_linked_list(head):\n",
    "    current = head\n",
    "    while current is not None:\n",
    "        print(current.val, end=\" -> \")\n",
    "        current = current.next\n",
    "    print(\"None\")\n",
    "\n",
    "# Example usage\n",
    "if __name__ == \"__main__\":\n",
    "    # Create the first sorted linked list: 1 -> 3 -> 5\n",
    "    list1_head = ListNode(1)\n",
    "    list1_head.next = ListNode(3)\n",
    "    list1_head.next.next = ListNode(5)\n",
    "\n",
    "    # Create the second sorted linked list: 2 -> 4 -> 6\n",
    "    list2_head = ListNode(2)\n",
    "    list2_head.next = ListNode(4)\n",
    "    list2_head.next.next = ListNode(6)\n",
    "\n",
    "    print(\"First sorted linked list:\")\n",
    "    print_linked_list(list1_head)\n",
    "\n",
    "    print(\"Second sorted linked list:\")\n",
    "    print_linked_list(list2_head)\n",
    "\n",
    "    # Merge the two sorted linked lists\n",
    "    merged_head = merge_two_lists(list1_head, list2_head)\n",
    "\n",
    "    print(\"Merged sorted linked list:\")\n",
    "    print_linked_list(merged_head)\n"
   ]
  },
  {
   "cell_type": "markdown",
   "id": "33c0d6e8",
   "metadata": {},
   "source": [
    "3: Remove the nth node from the end of a linked list.Input: 1 -> 2 -> 3 -> 4 -> 5, n = 2\n",
    "Output: 1 -> 2 -> 3 -> 5"
   ]
  },
  {
   "cell_type": "code",
   "execution_count": 3,
   "id": "3c9fa9b5",
   "metadata": {},
   "outputs": [
    {
     "name": "stdout",
     "output_type": "stream",
     "text": [
      "Original linked list:\n",
      "1 -> 2 -> 3 -> 4 -> 5 -> None\n",
      "Linked list after removing 2th node from the end:\n",
      "1 -> 2 -> 3 -> 5 -> None\n"
     ]
    }
   ],
   "source": [
    "class ListNode:\n",
    "    def __init__(self, val=0, next=None):\n",
    "        self.val = val\n",
    "        self.next = next\n",
    "\n",
    "def remove_nth_from_end(head, n):\n",
    "    dummy = ListNode(0)\n",
    "    dummy.next = head\n",
    "    first = second = dummy\n",
    "\n",
    "    # Advance the first pointer to the nth node from the beginning\n",
    "    for _ in range(n + 1):\n",
    "        first = first.next\n",
    "\n",
    "    # Move both pointers together until the first pointer reaches the end\n",
    "    while first is not None:\n",
    "        first = first.next\n",
    "        second = second.next\n",
    "\n",
    "    # Remove the nth node from the end\n",
    "    second.next = second.next.next\n",
    "\n",
    "    return dummy.next\n",
    "\n",
    "def print_linked_list(head):\n",
    "    current = head\n",
    "    while current is not None:\n",
    "        print(current.val, end=\" -> \")\n",
    "        current = current.next\n",
    "    print(\"None\")\n",
    "\n",
    "# Example usage\n",
    "if __name__ == \"__main__\":\n",
    "    # Create the linked list: 1 -> 2 -> 3 -> 4 -> 5\n",
    "    head = ListNode(1)\n",
    "    head.next = ListNode(2)\n",
    "    head.next.next = ListNode(3)\n",
    "    head.next.next.next = ListNode(4)\n",
    "    head.next.next.next.next = ListNode(5)\n",
    "\n",
    "    print(\"Original linked list:\")\n",
    "    print_linked_list(head)\n",
    "\n",
    "    # Remove the 2nd node from the end\n",
    "    n = 2\n",
    "    head = remove_nth_from_end(head, n)\n",
    "\n",
    "    print(f\"Linked list after removing {n}th node from the end:\")\n",
    "    print_linked_list(head)\n"
   ]
  },
  {
   "cell_type": "markdown",
   "id": "e945b2b1",
   "metadata": {},
   "source": [
    "Problem 4: Find the intersection point of two linked lists.Input: List 1: 1 -> 2 -> 3 -> 4, List 2: 9 -> 8 -> 3 -> 4\n",
    "Output: Node with value 3"
   ]
  },
  {
   "cell_type": "code",
   "execution_count": 4,
   "id": "4e2841fa",
   "metadata": {},
   "outputs": [
    {
     "name": "stdout",
     "output_type": "stream",
     "text": [
      "The intersection point is at node with value: 3\n"
     ]
    }
   ],
   "source": [
    "class ListNode:\n",
    "    def __init__(self, val=0, next=None):\n",
    "        self.val = val\n",
    "        self.next = next\n",
    "\n",
    "def get_intersection_node(headA, headB):\n",
    "    # Get the length of both lists\n",
    "    lenA = get_length(headA)\n",
    "    lenB = get_length(headB)\n",
    "\n",
    "    # Move the pointer of the longer list by the difference in lengths\n",
    "    while lenA > lenB:\n",
    "        headA = headA.next\n",
    "        lenA -= 1\n",
    "    while lenB > lenA:\n",
    "        headB = headB.next\n",
    "        lenB -= 1\n",
    "\n",
    "    # Traverse both lists simultaneously until intersection is found\n",
    "    while headA != headB:\n",
    "        headA = headA.next\n",
    "        headB = headB.next\n",
    "\n",
    "    return headA\n",
    "\n",
    "def get_length(head):\n",
    "    length = 0\n",
    "    while head:\n",
    "        length += 1\n",
    "        head = head.next\n",
    "    return length\n",
    "\n",
    "# Example usage\n",
    "if __name__ == \"__main__\":\n",
    "    # Create the first linked list: 1 -> 2 -> 3 -> 4\n",
    "    list1_head = ListNode(1)\n",
    "    list1_head.next = ListNode(2)\n",
    "    list1_head.next.next = ListNode(3)\n",
    "    list1_head.next.next.next = ListNode(4)\n",
    "\n",
    "    # Create the second linked list: 9 -> 8 -> 3 -> 4\n",
    "    list2_head = ListNode(9)\n",
    "    list2_head.next = ListNode(8)\n",
    "    list2_head.next.next = list1_head.next.next  # Point to the common node 3\n",
    "    # Alternatively, you can create the node again: list2_head.next.next = ListNode(3)\n",
    "    list2_head.next.next.next = ListNode(4)\n",
    "\n",
    "    intersection_node = get_intersection_node(list1_head, list2_head)\n",
    "\n",
    "    if intersection_node:\n",
    "        print(f\"The intersection point is at node with value: {intersection_node.val}\")\n",
    "    else:\n",
    "        print(\"There is no intersection point.\")\n"
   ]
  },
  {
   "cell_type": "markdown",
   "id": "c933e355",
   "metadata": {},
   "source": [
    "Problem 5: Remove duplicates from a sorted linked list.Input: 1 -> 1 -> 2 -> 3 -> 3\n",
    "Output: 1 -> 2 -> 3"
   ]
  },
  {
   "cell_type": "code",
   "execution_count": 5,
   "id": "17eb0bd5",
   "metadata": {},
   "outputs": [
    {
     "name": "stdout",
     "output_type": "stream",
     "text": [
      "Original linked list:\n",
      "1 -> 1 -> 2 -> 3 -> 3 -> None\n",
      "Linked list after removing duplicates:\n",
      "1 -> 2 -> 3 -> None\n"
     ]
    }
   ],
   "source": [
    "class ListNode:\n",
    "    def __init__(self, val=0, next=None):\n",
    "        self.val = val\n",
    "        self.next = next\n",
    "\n",
    "def delete_duplicates(head):\n",
    "    current = head\n",
    "    while current and current.next:\n",
    "        if current.val == current.next.val:\n",
    "            current.next = current.next.next  # Skip the duplicate node\n",
    "        else:\n",
    "            current = current.next  # Move to the next node\n",
    "    return head\n",
    "\n",
    "def print_linked_list(head):\n",
    "    current = head\n",
    "    while current is not None:\n",
    "        print(current.val, end=\" -> \")\n",
    "        current = current.next\n",
    "    print(\"None\")\n",
    "\n",
    "# Example usage\n",
    "if __name__ == \"__main__\":\n",
    "    # Create the sorted linked list: 1 -> 1 -> 2 -> 3 -> 3\n",
    "    head = ListNode(1)\n",
    "    head.next = ListNode(1)\n",
    "    head.next.next = ListNode(2)\n",
    "    head.next.next.next = ListNode(3)\n",
    "    head.next.next.next.next = ListNode(3)\n",
    "\n",
    "    print(\"Original linked list:\")\n",
    "    print_linked_list(head)\n",
    "\n",
    "    # Remove duplicates\n",
    "    head = delete_duplicates(head)\n",
    "\n",
    "    print(\"Linked list after removing duplicates:\")\n",
    "    print_linked_list(head)\n"
   ]
  },
  {
   "cell_type": "markdown",
   "id": "7f2af2a2",
   "metadata": {},
   "source": [
    "Problem 6: Add two numbers represented by linked lists (where each node contains a single digit).Input: List 1: 2 -> 4 -> 3, List 2: 5 -> 6 -> 4 (represents 342 + 465)\n",
    "Output: 7 -> 0 -> 8 (represents 807)"
   ]
  },
  {
   "cell_type": "code",
   "execution_count": 6,
   "id": "f84fc28a",
   "metadata": {},
   "outputs": [
    {
     "name": "stdout",
     "output_type": "stream",
     "text": [
      "First linked list:\n",
      "2 -> 4 -> 3 -> None\n",
      "Second linked list:\n",
      "5 -> 6 -> 4 -> None\n",
      "Sum of the two numbers represented by the linked lists:\n",
      "7 -> 0 -> 8 -> None\n"
     ]
    }
   ],
   "source": [
    "class ListNode:\n",
    "    def __init__(self, val=0, next=None):\n",
    "        self.val = val\n",
    "        self.next = next\n",
    "\n",
    "def add_two_numbers(l1, l2):\n",
    "    dummy_head = ListNode()\n",
    "    current = dummy_head\n",
    "    carry = 0\n",
    "\n",
    "    while l1 or l2 or carry:\n",
    "        sum_val = (l1.val if l1 else 0) + (l2.val if l2 else 0) + carry\n",
    "        carry = sum_val // 10  # Calculate carry for next step\n",
    "        current.next = ListNode(sum_val % 10)  # Create a new node with the sum modulo 10\n",
    "        current = current.next\n",
    "\n",
    "        # Move to the next nodes in the input lists, if available\n",
    "        l1 = l1.next if l1 else None\n",
    "        l2 = l2.next if l2 else None\n",
    "\n",
    "    return dummy_head.next\n",
    "\n",
    "def print_linked_list(head):\n",
    "    current = head\n",
    "    while current is not None:\n",
    "        print(current.val, end=\" -> \")\n",
    "        current = current.next\n",
    "    print(\"None\")\n",
    "\n",
    "# Example usage\n",
    "if __name__ == \"__main__\":\n",
    "    # Create the first linked list: 2 -> 4 -> 3\n",
    "    list1_head = ListNode(2)\n",
    "    list1_head.next = ListNode(4)\n",
    "    list1_head.next.next = ListNode(3)\n",
    "\n",
    "    # Create the second linked list: 5 -> 6 -> 4\n",
    "    list2_head = ListNode(5)\n",
    "    list2_head.next = ListNode(6)\n",
    "    list2_head.next.next = ListNode(4)\n",
    "\n",
    "    print(\"First linked list:\")\n",
    "    print_linked_list(list1_head)\n",
    "\n",
    "    print(\"Second linked list:\")\n",
    "    print_linked_list(list2_head)\n",
    "\n",
    "    # Add the two numbers represented by the linked lists\n",
    "    result_head = add_two_numbers(list1_head, list2_head)\n",
    "\n",
    "    print(\"Sum of the two numbers represented by the linked lists:\")\n",
    "    print_linked_list(result_head)\n"
   ]
  },
  {
   "cell_type": "markdown",
   "id": "a8b53bac",
   "metadata": {},
   "source": [
    "Problem 7: Swap nodes in pairs in a linked list.Input: 1 -> 2 -> 3 -> 4\n",
    "Output: 2 -> 1 -> 4 -> 3"
   ]
  },
  {
   "cell_type": "code",
   "execution_count": 7,
   "id": "4560cb80",
   "metadata": {},
   "outputs": [
    {
     "name": "stdout",
     "output_type": "stream",
     "text": [
      "Original linked list:\n",
      "1 -> 2 -> 3 -> 4 -> None\n",
      "Linked list after swapping nodes in pairs:\n",
      "2 -> 1 -> 4 -> 3 -> None\n"
     ]
    }
   ],
   "source": [
    "class ListNode:\n",
    "    def __init__(self, val=0, next=None):\n",
    "        self.val = val\n",
    "        self.next = next\n",
    "\n",
    "def swap_pairs(head):\n",
    "    dummy = ListNode(0)\n",
    "    dummy.next = head\n",
    "    prev = dummy\n",
    "\n",
    "    while prev.next and prev.next.next:\n",
    "        # Nodes to be swapped\n",
    "        first = prev.next\n",
    "        second = prev.next.next\n",
    "\n",
    "        # Swapping\n",
    "        prev.next = second\n",
    "        first.next = second.next\n",
    "        second.next = first\n",
    "\n",
    "        # Move to the next pair\n",
    "        prev = first\n",
    "\n",
    "    return dummy.next\n",
    "\n",
    "def print_linked_list(head):\n",
    "    current = head\n",
    "    while current is not None:\n",
    "        print(current.val, end=\" -> \")\n",
    "        current = current.next\n",
    "    print(\"None\")\n",
    "\n",
    "# Example usage\n",
    "if __name__ == \"__main__\":\n",
    "    # Create the linked list: 1 -> 2 -> 3 -> 4\n",
    "    head = ListNode(1)\n",
    "    head.next = ListNode(2)\n",
    "    head.next.next = ListNode(3)\n",
    "    head.next.next.next = ListNode(4)\n",
    "\n",
    "    print(\"Original linked list:\")\n",
    "    print_linked_list(head)\n",
    "\n",
    "    # Swap nodes in pairs\n",
    "    head = swap_pairs(head)\n",
    "\n",
    "    print(\"Linked list after swapping nodes in pairs:\")\n",
    "    print_linked_list(head)\n"
   ]
  },
  {
   "cell_type": "markdown",
   "id": "b68f239c",
   "metadata": {},
   "source": [
    "Problem 8: Reverse nodes in a linked list in groups of k.\n",
    "    Input: 1 -> 2 -> 3 -> 4 -> 5, k = 3\n",
    "Output: 3 -> 2 -> 1 -> 4 -> 5"
   ]
  },
  {
   "cell_type": "code",
   "execution_count": 8,
   "id": "2b6c7d27",
   "metadata": {},
   "outputs": [
    {
     "name": "stdout",
     "output_type": "stream",
     "text": [
      "Original linked list:\n",
      "1 -> 2 -> 3 -> 4 -> 5 -> None\n",
      "Linked list after reversing nodes in groups of 3:\n",
      "3 -> 2 -> 1 -> 4 -> 5 -> None\n"
     ]
    }
   ],
   "source": [
    "class ListNode:\n",
    "    def __init__(self, val=0, next=None):\n",
    "        self.val = val\n",
    "        self.next = next\n",
    "\n",
    "def reverse_k_group(head, k):\n",
    "    # Helper function to reverse a sublist from start to end (inclusive)\n",
    "    def reverse_sublist(start, end):\n",
    "        prev = None\n",
    "        current = start\n",
    "        while current != end:\n",
    "            next_node = current.next\n",
    "            current.next = prev\n",
    "            prev = current\n",
    "            current = next_node\n",
    "        return prev\n",
    "\n",
    "    dummy = ListNode(0)\n",
    "    dummy.next = head\n",
    "    prev_group_end = dummy\n",
    "\n",
    "    while True:\n",
    "        # Find the end of the k-group\n",
    "        group_end = prev_group_end\n",
    "        for _ in range(k):\n",
    "            group_end = group_end.next\n",
    "            if not group_end:\n",
    "                return dummy.next  # Reached the end of the list\n",
    "\n",
    "        next_group_start = group_end.next\n",
    "\n",
    "        # Reverse the current k-group\n",
    "        group_start = prev_group_end.next\n",
    "        reversed_head = reverse_sublist(group_start, next_group_start)\n",
    "\n",
    "        # Connect the reversed sublist to the previous sublist\n",
    "        prev_group_end.next = reversed_head\n",
    "        group_start.next = next_group_start\n",
    "\n",
    "        # Move prev_group_end to the next k-group\n",
    "        prev_group_end = group_start\n",
    "\n",
    "    return dummy.next\n",
    "\n",
    "def print_linked_list(head):\n",
    "    current = head\n",
    "    while current is not None:\n",
    "        print(current.val, end=\" -> \")\n",
    "        current = current.next\n",
    "    print(\"None\")\n",
    "\n",
    "# Example usage\n",
    "if __name__ == \"__main__\":\n",
    "    # Create the linked list: 1 -> 2 -> 3 -> 4 -> 5\n",
    "    head = ListNode(1)\n",
    "    head.next = ListNode(2)\n",
    "    head.next.next = ListNode(3)\n",
    "    head.next.next.next = ListNode(4)\n",
    "    head.next.next.next.next = ListNode(5)\n",
    "\n",
    "    print(\"Original linked list:\")\n",
    "    print_linked_list(head)\n",
    "\n",
    "    k = 3\n",
    "    # Reverse nodes in groups of k\n",
    "    head = reverse_k_group(head, k)\n",
    "\n",
    "    print(f\"Linked list after reversing nodes in groups of {k}:\")\n",
    "    print_linked_list(head)\n"
   ]
  },
  {
   "cell_type": "markdown",
   "id": "4da97ddb",
   "metadata": {},
   "source": [
    "Problem 9: Determine if a linked list is a palindrome.Input: 1 -> 2 -> 2 -> 1\n",
    "Output: True"
   ]
  },
  {
   "cell_type": "code",
   "execution_count": 9,
   "id": "c52ca38a",
   "metadata": {},
   "outputs": [
    {
     "name": "stdout",
     "output_type": "stream",
     "text": [
      "Original linked list:\n",
      "1 -> 2 -> 2 -> 1 -> None\n",
      "True\n"
     ]
    }
   ],
   "source": [
    "class ListNode:\n",
    "    def __init__(self, val=0, next=None):\n",
    "        self.val = val\n",
    "        self.next = next\n",
    "\n",
    "def is_palindrome(head):\n",
    "    # Helper function to reverse a linked list\n",
    "    def reverse_linked_list(node):\n",
    "        prev = None\n",
    "        current = node\n",
    "        while current:\n",
    "            next_node = current.next\n",
    "            current.next = prev\n",
    "            prev = current\n",
    "            current = next_node\n",
    "        return prev\n",
    "\n",
    "    # Helper function to find the middle of the linked list\n",
    "    def find_middle(node):\n",
    "        slow = fast = node\n",
    "        while fast and fast.next:\n",
    "            slow = slow.next\n",
    "            fast = fast.next.next\n",
    "        return slow\n",
    "\n",
    "    # Find the middle of the linked list\n",
    "    middle = find_middle(head)\n",
    "\n",
    "    # Reverse the second half of the linked list\n",
    "    reversed_second_half = reverse_linked_list(middle)\n",
    "\n",
    "    # Compare the first half with the reversed second half\n",
    "    first_half = head\n",
    "    second_half = reversed_second_half\n",
    "    while second_half:\n",
    "        if first_half.val != second_half.val:\n",
    "            return False\n",
    "        first_half = first_half.next\n",
    "        second_half = second_half.next\n",
    "\n",
    "    return True\n",
    "\n",
    "# Example usage\n",
    "if __name__ == \"__main__\":\n",
    "    # Create the linked list: 1 -> 2 -> 2 -> 1\n",
    "    head = ListNode(1)\n",
    "    head.next = ListNode(2)\n",
    "    head.next.next = ListNode(2)\n",
    "    head.next.next.next = ListNode(1)\n",
    "\n",
    "    print(\"Original linked list:\")\n",
    "    current = head\n",
    "    while current:\n",
    "        print(current.val, end=\" -> \")\n",
    "        current = current.next\n",
    "    print(\"None\")\n",
    "\n",
    "    if is_palindrome(head):\n",
    "        print(\"True\")\n",
    "    else:\n",
    "        print(\"False\")\n"
   ]
  },
  {
   "cell_type": "markdown",
   "id": "178575e4",
   "metadata": {},
   "source": [
    "Problem 10: Rotate a linked list to the right by k places.Input: 1 -> 2 -> 3 -> 4 -> 5, k = 2\n",
    "Output: 4 -> 5 -> 1 -> 2 -> 3"
   ]
  },
  {
   "cell_type": "code",
   "execution_count": 10,
   "id": "629103d0",
   "metadata": {},
   "outputs": [
    {
     "name": "stdout",
     "output_type": "stream",
     "text": [
      "Original linked list:\n",
      "1 -> 2 -> 3 -> 4 -> 5 -> None\n",
      "Linked list after rotating to the right by 2 places:\n",
      "4 -> 5 -> 1 -> 2 -> 3 -> None\n"
     ]
    }
   ],
   "source": [
    "class ListNode:\n",
    "    def __init__(self, val=0, next=None):\n",
    "        self.val = val\n",
    "        self.next = next\n",
    "\n",
    "def rotate_right(head, k):\n",
    "    if not head:\n",
    "        return None\n",
    "\n",
    "    # Calculate the length of the linked list\n",
    "    length = 1\n",
    "    tail = head\n",
    "    while tail.next:\n",
    "        tail = tail.next\n",
    "        length += 1\n",
    "\n",
    "    # Adjust k to handle cases where k is larger than the length of the linked list\n",
    "    k %= length\n",
    "\n",
    "    if k == 0:\n",
    "        return head  # No rotation needed\n",
    "\n",
    "    # Find the new tail node (kth node from the end) and the new head node (k+1th node from the end)\n",
    "    new_tail_position = length - k\n",
    "    new_tail = head\n",
    "    for _ in range(new_tail_position - 1):\n",
    "        new_tail = new_tail.next\n",
    "\n",
    "    new_head = new_tail.next\n",
    "\n",
    "    # Set the next of the current tail node to None to break the original linked list\n",
    "    tail.next = head\n",
    "\n",
    "    # Set the next of the new tail node to None\n",
    "    new_tail.next = None\n",
    "\n",
    "    # Update the head of the linked list to the new head node\n",
    "    return new_head\n",
    "\n",
    "def print_linked_list(head):\n",
    "    current = head\n",
    "    while current is not None:\n",
    "        print(current.val, end=\" -> \")\n",
    "        current = current.next\n",
    "    print(\"None\")\n",
    "\n",
    "# Example usage\n",
    "if __name__ == \"__main__\":\n",
    "    # Create the linked list: 1 -> 2 -> 3 -> 4 -> 5\n",
    "    head = ListNode(1)\n",
    "    head.next = ListNode(2)\n",
    "    head.next.next = ListNode(3)\n",
    "    head.next.next.next = ListNode(4)\n",
    "    head.next.next.next.next = ListNode(5)\n",
    "\n",
    "    print(\"Original linked list:\")\n",
    "    print_linked_list(head)\n",
    "\n",
    "    k = 2\n",
    "    # Rotate the linked list to the right by k places\n",
    "    rotated_head = rotate_right(head, k)\n",
    "\n",
    "    print(f\"Linked list after rotating to the right by {k} places:\")\n",
    "    print_linked_list(rotated_head)\n"
   ]
  },
  {
   "cell_type": "markdown",
   "id": "e094966f",
   "metadata": {},
   "source": [
    "Problem 12: Rearrange a linked list such that all even positioned nodes are placed at the end.Input: 1 -> 2 -> 3 -> 4 -> 5\n",
    "Output: 1 -> 3 -> 5 -> 2 -> 4"
   ]
  },
  {
   "cell_type": "code",
   "execution_count": 11,
   "id": "d441edab",
   "metadata": {},
   "outputs": [
    {
     "name": "stdout",
     "output_type": "stream",
     "text": [
      "Original linked list:\n",
      "1 -> 2 -> 3 -> 4 -> 5 -> None\n",
      "Rearranged linked list:\n",
      "1 -> 3 -> 5 -> 2 -> 4 -> None\n"
     ]
    }
   ],
   "source": [
    "class ListNode:\n",
    "    def __init__(self, val=0, next=None):\n",
    "        self.val = val\n",
    "        self.next = next\n",
    "\n",
    "def rearrange_linked_list(head):\n",
    "    if not head or not head.next:\n",
    "        return head\n",
    "\n",
    "    odd_head = odd_tail = ListNode(None)\n",
    "    even_head = even_tail = ListNode(None)\n",
    "\n",
    "    current = head\n",
    "    is_odd = True\n",
    "    while current:\n",
    "        if is_odd:\n",
    "            odd_tail.next = current\n",
    "            odd_tail = odd_tail.next\n",
    "        else:\n",
    "            even_tail.next = current\n",
    "            even_tail = even_tail.next\n",
    "\n",
    "        current = current.next\n",
    "        is_odd = not is_odd\n",
    "\n",
    "    # Connect the last node of the odd-positioned list to the head of the even-positioned list\n",
    "    odd_tail.next = even_head.next\n",
    "\n",
    "    # Terminate the even-positioned list\n",
    "    even_tail.next = None\n",
    "\n",
    "    return odd_head.next\n",
    "\n",
    "def print_linked_list(head):\n",
    "    current = head\n",
    "    while current is not None:\n",
    "        print(current.val, end=\" -> \")\n",
    "        current = current.next\n",
    "    print(\"None\")\n",
    "\n",
    "# Example usage\n",
    "if __name__ == \"__main__\":\n",
    "    # Create the linked list: 1 -> 2 -> 3 -> 4 -> 5\n",
    "    head = ListNode(1)\n",
    "    head.next = ListNode(2)\n",
    "    head.next.next = ListNode(3)\n",
    "    head.next.next.next = ListNode(4)\n",
    "    head.next.next.next.next = ListNode(5)\n",
    "\n",
    "    print(\"Original linked list:\")\n",
    "    print_linked_list(head)\n",
    "\n",
    "    # Rearrange the linked list\n",
    "    rearranged_head = rearrange_linked_list(head)\n",
    "\n",
    "    print(\"Rearranged linked list:\")\n",
    "    print_linked_list(rearranged_head)\n"
   ]
  },
  {
   "cell_type": "markdown",
   "id": "2f0e40a6",
   "metadata": {},
   "source": [
    "Problem 13: Given a non-negative number represented as a linked list, add one to it.Input: 1 -> 2 -> 3 (represents the number 123)\n",
    "Output: 1 -> 2 -> 4 (represents the number 124)"
   ]
  },
  {
   "cell_type": "code",
   "execution_count": 12,
   "id": "2c308de3",
   "metadata": {},
   "outputs": [
    {
     "name": "stdout",
     "output_type": "stream",
     "text": [
      "Original linked list:\n",
      "1 -> 2 -> 3 -> None\n",
      "Linked list after adding one:\n",
      "1 -> 2 -> 4 -> None\n"
     ]
    }
   ],
   "source": [
    "class ListNode:\n",
    "    def __init__(self, val=0, next=None):\n",
    "        self.val = val\n",
    "        self.next = next\n",
    "\n",
    "def add_one(head):\n",
    "    # Reverse the linked list\n",
    "    prev = None\n",
    "    current = head\n",
    "    while current:\n",
    "        next_node = current.next\n",
    "        current.next = prev\n",
    "        prev = current\n",
    "        current = next_node\n",
    "\n",
    "    head = prev  # Update the head to the new head after reversing\n",
    "\n",
    "    carry = 1\n",
    "    current = head\n",
    "    while current:\n",
    "        # Add one to the current digit and handle carry if necessary\n",
    "        current.val += carry\n",
    "        carry = current.val // 10\n",
    "        current.val %= 10\n",
    "\n",
    "        if carry == 0:\n",
    "            break  # No need to continue if there's no carry\n",
    "\n",
    "        # Move to the next node\n",
    "        current = current.next\n",
    "\n",
    "    if carry:\n",
    "        # If carry remains after traversing the list, add a new node for it\n",
    "        current.next = ListNode(carry)\n",
    "\n",
    "    # Reverse the linked list back to its original order\n",
    "    prev = None\n",
    "    current = head\n",
    "    while current:\n",
    "        next_node = current.next\n",
    "        current.next = prev\n",
    "        prev = current\n",
    "        current = next_node\n",
    "\n",
    "    head = prev  # Update the head to the new head after reversing\n",
    "\n",
    "    return head\n",
    "\n",
    "def print_linked_list(head):\n",
    "    current = head\n",
    "    while current is not None:\n",
    "        print(current.val, end=\" -> \")\n",
    "        current = current.next\n",
    "    print(\"None\")\n",
    "\n",
    "# Example usage\n",
    "if __name__ == \"__main__\":\n",
    "    # Create the linked list representing the number 123\n",
    "    head = ListNode(1)\n",
    "    head.next = ListNode(2)\n",
    "    head.next.next = ListNode(3)\n",
    "\n",
    "    print(\"Original linked list:\")\n",
    "    print_linked_list(head)\n",
    "\n",
    "    # Add one to the number represented by the linked list\n",
    "    head = add_one(head)\n",
    "\n",
    "    print(\"Linked list after adding one:\")\n",
    "    print_linked_list(head)\n"
   ]
  },
  {
   "cell_type": "markdown",
   "id": "f84f0fda",
   "metadata": {},
   "source": [
    "Problem 14: Given a sorted array and a target value, return the index if the target is found. If not, return the\n",
    "index where it would be inserted.Input: nums = [1, 3, 5, 6], target = 5\n",
    "Output: 2"
   ]
  },
  {
   "cell_type": "code",
   "execution_count": 13,
   "id": "39219fc0",
   "metadata": {},
   "outputs": [
    {
     "name": "stdout",
     "output_type": "stream",
     "text": [
      "Sorted array: [1, 3, 5, 6]\n",
      "Target value: 5\n",
      "Index of the target value or the insertion point: 2\n"
     ]
    }
   ],
   "source": [
    "def search_insert_position(nums, target):\n",
    "    left = 0\n",
    "    right = len(nums) - 1\n",
    "\n",
    "    while left <= right:\n",
    "        mid = left + (right - left) // 2\n",
    "\n",
    "        if nums[mid] == target:\n",
    "            return mid\n",
    "        elif nums[mid] < target:\n",
    "            left = mid + 1\n",
    "        else:\n",
    "            right = mid - 1\n",
    "\n",
    "    # If the target is not found, the left pointer indicates the insertion position\n",
    "    return left\n",
    "\n",
    "# Example usage\n",
    "if __name__ == \"__main__\":\n",
    "    nums = [1, 3, 5, 6]\n",
    "    target = 5\n",
    "    print(\"Sorted array:\", nums)\n",
    "    print(\"Target value:\", target)\n",
    "    result = search_insert_position(nums, target)\n",
    "    print(\"Index of the target value or the insertion point:\", result)\n"
   ]
  },
  {
   "cell_type": "markdown",
   "id": "747e76e6",
   "metadata": {},
   "source": [
    "Problem 15: Find the minimum element in a rotated sorted array.Input: [4, 5, 6, 7, 0, 1, 2]\n",
    "Output: 0"
   ]
  },
  {
   "cell_type": "code",
   "execution_count": 14,
   "id": "0ac6146a",
   "metadata": {},
   "outputs": [
    {
     "name": "stdout",
     "output_type": "stream",
     "text": [
      "Input array: [4, 5, 6, 7, 0, 1, 2]\n",
      "Minimum element in the rotated sorted array: 0\n"
     ]
    }
   ],
   "source": [
    "def find_min(nums):\n",
    "    left = 0\n",
    "    right = len(nums) - 1\n",
    "\n",
    "    while left < right:\n",
    "        mid = left + (right - left) // 2\n",
    "\n",
    "        # If the mid element is greater than the rightmost element,\n",
    "        # the pivot lies to the right of the mid.\n",
    "        if nums[mid] > nums[right]:\n",
    "            left = mid + 1\n",
    "        # If the mid element is less than or equal to the rightmost element,\n",
    "        # the pivot lies to the left of or at the mid.\n",
    "        else:\n",
    "            right = mid\n",
    "\n",
    "    # At the end of the loop, left will point to the pivot element.\n",
    "    # The minimum element will be the element next to the pivot.\n",
    "    return nums[left]\n",
    "\n",
    "# Example usage\n",
    "if __name__ == \"__main__\":\n",
    "    nums = [4, 5, 6, 7, 0, 1, 2]\n",
    "    print(\"Input array:\", nums)\n",
    "    min_element = find_min(nums)\n",
    "    print(\"Minimum element in the rotated sorted array:\", min_element)\n"
   ]
  },
  {
   "cell_type": "markdown",
   "id": "eb5a32a9",
   "metadata": {},
   "source": [
    "Problem 16: Search for a target value in a rotated sorted array.Input: nums = [4, 5, 6, 7, 0, 1, 2], target = 0\n",
    "Output: 4"
   ]
  },
  {
   "cell_type": "code",
   "execution_count": 15,
   "id": "3e9d35bc",
   "metadata": {},
   "outputs": [
    {
     "name": "stdout",
     "output_type": "stream",
     "text": [
      "Input array: [4, 5, 6, 7, 0, 1, 2]\n",
      "Target value: 0\n",
      "Index of the target value: 4\n"
     ]
    }
   ],
   "source": [
    "def search_rotated_array(nums, target):\n",
    "    left = 0\n",
    "    right = len(nums) - 1\n",
    "\n",
    "    while left <= right:\n",
    "        mid = left + (right - left) // 2\n",
    "\n",
    "        if nums[mid] == target:\n",
    "            return mid\n",
    "\n",
    "        # Check if the left half of the array is sorted\n",
    "        if nums[left] <= nums[mid]:\n",
    "            # Check if the target falls within the sorted left half\n",
    "            if nums[left] <= target < nums[mid]:\n",
    "                right = mid - 1\n",
    "            else:\n",
    "                left = mid + 1\n",
    "        # Otherwise, the right half of the array is sorted\n",
    "        else:\n",
    "            # Check if the target falls within the sorted right half\n",
    "            if nums[mid] < target <= nums[right]:\n",
    "                left = mid + 1\n",
    "            else:\n",
    "                right = mid - 1\n",
    "\n",
    "    return -1  # Target not found\n",
    "\n",
    "# Example usage\n",
    "if __name__ == \"__main__\":\n",
    "    nums = [4, 5, 6, 7, 0, 1, 2]\n",
    "    target = 0\n",
    "    print(\"Input array:\", nums)\n",
    "    print(\"Target value:\", target)\n",
    "    result = search_rotated_array(nums, target)\n",
    "    if result != -1:\n",
    "        print(\"Index of the target value:\", result)\n",
    "    else:\n",
    "        print(\"Target value not found in the array.\")\n"
   ]
  },
  {
   "cell_type": "markdown",
   "id": "de95e516",
   "metadata": {},
   "source": [
    "Problem 17: Find the peak element in an array. A peak element is greater than its neighbors.Input: nums = [1, 2, 3, 1]\n",
    "Output: 2 (index of peak element)"
   ]
  },
  {
   "cell_type": "code",
   "execution_count": 16,
   "id": "e580db59",
   "metadata": {},
   "outputs": [
    {
     "name": "stdout",
     "output_type": "stream",
     "text": [
      "Input array: [1, 2, 3, 1]\n",
      "Peak element: 3 at index: 2\n"
     ]
    }
   ],
   "source": [
    "def find_peak_element(nums):\n",
    "    left = 0\n",
    "    right = len(nums) - 1\n",
    "\n",
    "    while left < right:\n",
    "        mid = left + (right - left) // 2\n",
    "\n",
    "        # If the mid element is greater than its neighbors,\n",
    "        # it is a peak element.\n",
    "        if nums[mid] > nums[mid + 1]:\n",
    "            right = mid\n",
    "        else:\n",
    "            left = mid + 1\n",
    "\n",
    "    # At the end of the loop, left will point to the peak element.\n",
    "    return left\n",
    "\n",
    "# Example usage\n",
    "if __name__ == \"__main__\":\n",
    "    nums = [1, 2, 3, 1]\n",
    "    print(\"Input array:\", nums)\n",
    "    peak_index = find_peak_element(nums)\n",
    "    print(\"Peak element:\", nums[peak_index], \"at index:\", peak_index)\n"
   ]
  },
  {
   "cell_type": "markdown",
   "id": "41810dd9",
   "metadata": {},
   "source": [
    "Problem 18: Given a m x n matrix where each row and column is sorted in ascending order, count the number\n",
    "of negative numbers.Input: grid = [[4, 3, 2, -1], [3, 2, 1, -1], [1, 1, -1, -2], [-1, -1, -2, -3]]\n",
    "Output: 8"
   ]
  },
  {
   "cell_type": "code",
   "execution_count": 17,
   "id": "511316c2",
   "metadata": {},
   "outputs": [
    {
     "name": "stdout",
     "output_type": "stream",
     "text": [
      "Input grid:\n",
      "[4, 3, 2, -1]\n",
      "[3, 2, 1, -1]\n",
      "[1, 1, -1, -2]\n",
      "[-1, -1, -2, -3]\n",
      "Number of negative numbers: 8\n"
     ]
    }
   ],
   "source": [
    "def count_negatives(grid):\n",
    "    rows = len(grid)\n",
    "    cols = len(grid[0])\n",
    "    \n",
    "    row = 0\n",
    "    col = cols - 1\n",
    "    count = 0\n",
    "    \n",
    "    while row < rows and col >= 0:\n",
    "        # If the current element is negative, all elements to its left are also negative\n",
    "        if grid[row][col] < 0:\n",
    "            count += (rows - row)  # Count all remaining rows in the current column\n",
    "            col -= 1  # Move to the left\n",
    "        else:\n",
    "            row += 1  # Move down to the next row\n",
    "    \n",
    "    return count\n",
    "\n",
    "# Example usage\n",
    "if __name__ == \"__main__\":\n",
    "    grid = [\n",
    "        [4, 3, 2, -1],\n",
    "        [3, 2, 1, -1],\n",
    "        [1, 1, -1, -2],\n",
    "        [-1, -1, -2, -3]\n",
    "    ]\n",
    "    print(\"Input grid:\")\n",
    "    for row in grid:\n",
    "        print(row)\n",
    "    num_negatives = count_negatives(grid)\n",
    "    print(\"Number of negative numbers:\", num_negatives)\n"
   ]
  },
  {
   "cell_type": "markdown",
   "id": "3760779c",
   "metadata": {},
   "source": [
    "Problem 19: Given a 2D matrix sorted in ascending order in each row, and the first integer of each row is\n",
    "greater than the last integer of the previous row, determine if a target value is present in the matrix.\n",
    "Input: matrix = [[1, 3, 5, 7], [10, 11, 16, 20], [23, 30, 34, 60]], target = 3\n",
    "Output: True"
   ]
  },
  {
   "cell_type": "code",
   "execution_count": 18,
   "id": "3d85a89d",
   "metadata": {},
   "outputs": [
    {
     "name": "stdout",
     "output_type": "stream",
     "text": [
      "True\n"
     ]
    }
   ],
   "source": [
    "def search_matrix(matrix, target):\n",
    "    if not matrix or not matrix[0]:\n",
    "        return False\n",
    "    \n",
    "    rows, cols = len(matrix), len(matrix[0])\n",
    "    left, right = 0, rows * cols - 1\n",
    "    \n",
    "    while left <= right:\n",
    "        mid = (left + right) // 2\n",
    "        mid_element = matrix[mid // cols][mid % cols]\n",
    "        \n",
    "        if mid_element == target:\n",
    "            return True\n",
    "        elif mid_element < target:\n",
    "            left = mid + 1\n",
    "        else:\n",
    "            right = mid - 1\n",
    "    \n",
    "    return False\n",
    "\n",
    "# Example usage\n",
    "matrix = [[1, 3, 5, 7], [10, 11, 16, 20], [23, 30, 34, 60]]\n",
    "target = 3\n",
    "print(search_matrix(matrix, target))  \n",
    "\n"
   ]
  },
  {
   "cell_type": "markdown",
   "id": "fad4dcef",
   "metadata": {},
   "source": [
    "Problem 20: Find Median in Two Sorted Arrays\n",
    "Problem: Given two sorted arrays, find the median of the combined sorted array.Input: nums1 = [1, 3], nums2 = [2]\n",
    "Output: 2.0"
   ]
  },
  {
   "cell_type": "code",
   "execution_count": 19,
   "id": "0bf73b28",
   "metadata": {},
   "outputs": [
    {
     "name": "stdout",
     "output_type": "stream",
     "text": [
      "2\n"
     ]
    }
   ],
   "source": [
    "def findMedianSortedArrays(nums1, nums2):\n",
    "    merged = []\n",
    "    i, j = 0, 0\n",
    "    \n",
    "    while i < len(nums1) and j < len(nums2):\n",
    "        if nums1[i] < nums2[j]:\n",
    "            merged.append(nums1[i])\n",
    "            i += 1\n",
    "        else:\n",
    "            merged.append(nums2[j])\n",
    "            j += 1\n",
    "    \n",
    "    while i < len(nums1):\n",
    "        merged.append(nums1[i])\n",
    "        i += 1\n",
    "    \n",
    "    while j < len(nums2):\n",
    "        merged.append(nums2[j])\n",
    "        j += 1\n",
    "    \n",
    "    n = len(merged)\n",
    "    if n % 2 == 0:\n",
    "        return (merged[n // 2 - 1] + merged[n // 2]) / 2\n",
    "    else:\n",
    "        return merged[n // 2]\n",
    "\n",
    "# Example usage\n",
    "nums1 = [1, 3]\n",
    "nums2 = [2]\n",
    "print(findMedianSortedArrays(nums1, nums2))  \n"
   ]
  },
  {
   "cell_type": "markdown",
   "id": "c88fdbc6",
   "metadata": {},
   "source": [
    "Problem 21: Given a sorted character array and a target letter, find the smallest letter in the array that is\n",
    "greater than the target.Input: letters = ['c', 'f', 'j'], target = a\n",
    "Output: 'c'"
   ]
  },
  {
   "cell_type": "code",
   "execution_count": 20,
   "id": "fc337104",
   "metadata": {},
   "outputs": [
    {
     "name": "stdout",
     "output_type": "stream",
     "text": [
      "c\n"
     ]
    }
   ],
   "source": [
    "def nextGreatestLetter(letters, target):\n",
    "    n = len(letters)\n",
    "    left, right = 0, n - 1\n",
    "    \n",
    "    while left <= right:\n",
    "        mid = left + (right - left) // 2\n",
    "        if letters[mid] <= target:\n",
    "            left = mid + 1\n",
    "        else:\n",
    "            right = mid - 1\n",
    "    \n",
    "    return letters[left % n]\n",
    "\n",
    "# Example usage\n",
    "letters = ['c', 'f', 'j']\n",
    "target = 'a'\n",
    "print(nextGreatestLetter(letters, target)) \n"
   ]
  },
  {
   "cell_type": "markdown",
   "id": "c4e9e0fc",
   "metadata": {},
   "source": [
    "Problem 22: Given an array with n objects colored red, white, or blue, sort them in-place so that objects of\n",
    "the same color are adjacent, with the colors in the order red, white, and blue.\n",
    "Input: nums = [2, 0, 2, 1, 1, 0]\n",
    "Output: [0, 0, 1, 1, 2, 2]"
   ]
  },
  {
   "cell_type": "code",
   "execution_count": 21,
   "id": "8a7b1a18",
   "metadata": {},
   "outputs": [
    {
     "name": "stdout",
     "output_type": "stream",
     "text": [
      "[0, 0, 1, 1, 2, 2]\n"
     ]
    }
   ],
   "source": [
    "def sortColors(nums):\n",
    "    red, white, blue = 0, 0, len(nums) - 1\n",
    "    \n",
    "    while white <= blue:\n",
    "        if nums[white] == 0:\n",
    "            nums[red], nums[white] = nums[white], nums[red]\n",
    "            red += 1\n",
    "            white += 1\n",
    "        elif nums[white] == 1:\n",
    "            white += 1\n",
    "        else:\n",
    "            nums[white], nums[blue] = nums[blue], nums[white]\n",
    "            blue -= 1\n",
    "\n",
    "# Example usage\n",
    "nums = [2, 0, 2, 1, 1, 0]\n",
    "sortColors(nums)\n",
    "print(nums)  \n"
   ]
  },
  {
   "cell_type": "markdown",
   "id": "ab065cf3",
   "metadata": {},
   "source": [
    "Problem 23: Find the kth largest element in an unsorted array.\n",
    "    Input: nums = [3, 2, 1, 5, 6, 4], k = 2\n",
    "Output: 5"
   ]
  },
  {
   "cell_type": "code",
   "execution_count": 22,
   "id": "279400cf",
   "metadata": {},
   "outputs": [
    {
     "name": "stdout",
     "output_type": "stream",
     "text": [
      "5\n"
     ]
    }
   ],
   "source": [
    "import heapq\n",
    "\n",
    "def findKthLargest(nums, k):\n",
    "    heap = []\n",
    "    for num in nums:\n",
    "        heapq.heappush(heap, num)\n",
    "        if len(heap) > k:\n",
    "            heapq.heappop(heap)\n",
    "    \n",
    "    return heapq.heappop(heap)\n",
    "\n",
    "# Example usage\n",
    "nums = [3, 2, 1, 5, 6, 4]\n",
    "k = 2\n",
    "print(findKthLargest(nums, k))  \n"
   ]
  },
  {
   "cell_type": "markdown",
   "id": "03b70f22",
   "metadata": {},
   "source": [
    "Problem 24: Given an unsorted array, reorder it in-place such that nums[0] <= nums[1] >= nums[2] <=\n",
    "nums[3]...Input: nums = [3, 5, 2, 1, 6, 4]\n",
    "Output: [3, 5, 1, 6, 2, 4]"
   ]
  },
  {
   "cell_type": "code",
   "execution_count": 23,
   "id": "dbf74492",
   "metadata": {},
   "outputs": [
    {
     "name": "stdout",
     "output_type": "stream",
     "text": [
      "[3, 5, 1, 6, 2, 4]\n"
     ]
    }
   ],
   "source": [
    "def reorder(nums):\n",
    "  # iterate through the array with a step of 2\n",
    "  for i in range(0, len(nums) - 1, 2):\n",
    "    # if the first element is larger than the second, swap them\n",
    "    if nums[i] > nums[i + 1]:\n",
    "      nums[i], nums[i + 1] = nums[i + 1], nums[i]\n",
    "    # if the third element exists and is smaller than the second, swap them\n",
    "    if i + 2 < len(nums) and nums[i + 1] < nums[i + 2]:\n",
    "      nums[i + 1], nums[i + 2] = nums[i + 2], nums[i + 1]\n",
    "\n",
    "# test the code\n",
    "nums = [3, 5, 2, 1, 6, 4]\n",
    "reorder(nums)\n",
    "print(nums) # [3, 5, 1, 6, 2, 4]\n"
   ]
  },
  {
   "cell_type": "markdown",
   "id": "1aa1761d",
   "metadata": {},
   "source": [
    "Problem 25: Given an array of integers, calculate the sum of all its elements.\n",
    "    Input: [1, 2, 3, 4, 5]\n",
    "Output: 15"
   ]
  },
  {
   "cell_type": "code",
   "execution_count": 24,
   "id": "70cbdbdb",
   "metadata": {},
   "outputs": [
    {
     "name": "stdout",
     "output_type": "stream",
     "text": [
      "15\n"
     ]
    }
   ],
   "source": [
    "def calculate_sum(nums):\n",
    "    sum = 0\n",
    "    for num in nums:\n",
    "        sum += num\n",
    "    return sum\n",
    "\n",
    "# Example usage\n",
    "nums = [1, 2, 3, 4, 5]\n",
    "print(calculate_sum(nums))  \n"
   ]
  },
  {
   "cell_type": "markdown",
   "id": "51747031",
   "metadata": {},
   "source": [
    "Problem 26: Find the maximum element in an array of integers.Input: [3, 7, 2, 9, 4, 1]\n",
    "Output: 9"
   ]
  },
  {
   "cell_type": "code",
   "execution_count": 25,
   "id": "7d26fbd4",
   "metadata": {},
   "outputs": [
    {
     "name": "stdout",
     "output_type": "stream",
     "text": [
      "9\n"
     ]
    }
   ],
   "source": [
    "def find_max(nums):\n",
    "    if not nums:\n",
    "        return None\n",
    "    \n",
    "    max_element = nums[0]\n",
    "    for num in nums:\n",
    "        if num > max_element:\n",
    "            max_element = num\n",
    "    return max_element\n",
    "\n",
    "# Example usage\n",
    "nums = [3, 7, 2, 9, 4, 1]\n",
    "print(find_max(nums))  \n"
   ]
  },
  {
   "cell_type": "markdown",
   "id": "ccdc8e92",
   "metadata": {},
   "source": [
    "Problem 27: Implement linear search to find the index of a target element in an array.Input: [5, 3, 8, 2, 7, 4], target = 8\n",
    "Output: 2"
   ]
  },
  {
   "cell_type": "code",
   "execution_count": 26,
   "id": "5f81ca5f",
   "metadata": {},
   "outputs": [
    {
     "name": "stdout",
     "output_type": "stream",
     "text": [
      "2\n"
     ]
    }
   ],
   "source": [
    "def linear_search(nums, target):\n",
    "    for i in range(len(nums)):\n",
    "        if nums[i] == target:\n",
    "            return i\n",
    "    return -1  # Return -1 if target is not found\n",
    "\n",
    "# Example usage\n",
    "nums = [5, 3, 8, 2, 7, 4]\n",
    "target = 8\n",
    "print(linear_search(nums, target))  \n"
   ]
  },
  {
   "cell_type": "markdown",
   "id": "5325b864",
   "metadata": {},
   "source": [
    "Problem 28 Calculate the factorial of a given number.\n",
    "Input: 5\n",
    "Output: 120 (as 5! = 5 * 4 * 3 * 2 * 1 = 120)"
   ]
  },
  {
   "cell_type": "code",
   "execution_count": 27,
   "id": "e2f7c7ce",
   "metadata": {},
   "outputs": [
    {
     "name": "stdout",
     "output_type": "stream",
     "text": [
      "120\n"
     ]
    }
   ],
   "source": [
    "def factorial(n):\n",
    "    if n == 0:\n",
    "        return 1\n",
    "    result = 1\n",
    "    for i in range(1, n + 1):\n",
    "        result *= i\n",
    "    return result\n",
    "\n",
    "# Example usage\n",
    "n = 5\n",
    "print(factorial(n))  \n"
   ]
  },
  {
   "cell_type": "markdown",
   "id": "7df2d17c",
   "metadata": {},
   "source": [
    "Problem 29: Check if a given number is a prime number.Input: 7\n",
    "Output: True"
   ]
  },
  {
   "cell_type": "code",
   "execution_count": 28,
   "id": "35698d71",
   "metadata": {},
   "outputs": [
    {
     "name": "stdout",
     "output_type": "stream",
     "text": [
      "True\n"
     ]
    }
   ],
   "source": [
    "import math\n",
    "\n",
    "def is_prime(n):\n",
    "    if n <= 1:\n",
    "        return False\n",
    "    for i in range(2, int(math.sqrt(n)) + 1):\n",
    "        if n % i == 0:\n",
    "            return False\n",
    "    return True\n",
    "\n",
    "# Example usage\n",
    "n = 7\n",
    "print(is_prime(n))  \n"
   ]
  },
  {
   "cell_type": "markdown",
   "id": "1cce0847",
   "metadata": {},
   "source": [
    "Problem 30: Generate the Fibonacci series up to a given number n.Input: 8\n",
    "Output: [0, 1, 1, 2, 3, 5, 8, 13]"
   ]
  },
  {
   "cell_type": "code",
   "execution_count": 29,
   "id": "f821724d",
   "metadata": {},
   "outputs": [
    {
     "name": "stdout",
     "output_type": "stream",
     "text": [
      "[0, 1, 1, 2, 3, 5, 8]\n"
     ]
    }
   ],
   "source": [
    "def fibonacci_series(n):\n",
    "    fibonacci = []\n",
    "    a, b = 0, 1\n",
    "    while a <= n:\n",
    "        fibonacci.append(a)\n",
    "        a, b = b, a + b\n",
    "    return fibonacci\n",
    "\n",
    "# Example usage\n",
    "n = 8\n",
    "print(fibonacci_series(n))  \n"
   ]
  },
  {
   "cell_type": "markdown",
   "id": "a3c6ce72",
   "metadata": {},
   "source": [
    "Problem 31: Calculate the power of a number using recursion.\n",
    "    Input: base = 3, exponent = 4\n",
    "Output: 81 (as 3^4 = 3 * 3 * 3 * 3 = 81)"
   ]
  },
  {
   "cell_type": "code",
   "execution_count": 30,
   "id": "0f0005c8",
   "metadata": {},
   "outputs": [
    {
     "name": "stdout",
     "output_type": "stream",
     "text": [
      "81\n"
     ]
    }
   ],
   "source": [
    "def power(base, exponent):\n",
    "    if exponent == 0:\n",
    "        return 1\n",
    "    return base * power(base, exponent - 1)\n",
    "\n",
    "# Example usage\n",
    "base = 3\n",
    "exponent = 4\n",
    "print(power(base, exponent))  "
   ]
  },
  {
   "cell_type": "markdown",
   "id": "5b674716",
   "metadata": {},
   "source": [
    "Problem 32: Reverse a given string.Input: \"hello\"\n",
    "Output: \"olleh\""
   ]
  },
  {
   "cell_type": "code",
   "execution_count": 31,
   "id": "80526b73",
   "metadata": {},
   "outputs": [
    {
     "name": "stdout",
     "output_type": "stream",
     "text": [
      "olleh\n"
     ]
    }
   ],
   "source": [
    "def reverse_string(s):\n",
    "    return s[::-1]\n",
    "\n",
    "# Example usage\n",
    "s = \"hello\"\n",
    "print(reverse_string(s))  \n"
   ]
  },
  {
   "cell_type": "code",
   "execution_count": null,
   "id": "93851049",
   "metadata": {},
   "outputs": [],
   "source": []
  }
 ],
 "metadata": {
  "kernelspec": {
   "display_name": "Python 3 (ipykernel)",
   "language": "python",
   "name": "python3"
  },
  "language_info": {
   "codemirror_mode": {
    "name": "ipython",
    "version": 3
   },
   "file_extension": ".py",
   "mimetype": "text/x-python",
   "name": "python",
   "nbconvert_exporter": "python",
   "pygments_lexer": "ipython3",
   "version": "3.11.5"
  }
 },
 "nbformat": 4,
 "nbformat_minor": 5
}
