{
 "cells": [
  {
   "cell_type": "markdown",
   "id": "ef5a19e4",
   "metadata": {},
   "source": [
    "Problem 1.Given an array of n numbers, give an algorithm which gives the element appearing maximum\n",
    "number of times?"
   ]
  },
  {
   "cell_type": "code",
   "execution_count": 1,
   "id": "3d37c923",
   "metadata": {},
   "outputs": [
    {
     "name": "stdout",
     "output_type": "stream",
     "text": [
      "The element appearing most frequently is: 2\n"
     ]
    }
   ],
   "source": [
    "def find_most_frequent_element(arr):\n",
    "    # Create a dictionary to store the frequency of each element\n",
    "    frequency_dict = {}\n",
    "\n",
    "    # Traverse the array and count the frequency of each element\n",
    "    for i in arr:\n",
    "        if i in frequency_dict:\n",
    "            frequency_dict[i] += 1\n",
    "        else:\n",
    "            frequency_dict[i] = 1\n",
    "\n",
    "    # Find the element with the maximum frequency\n",
    "    max_frequency_element = max(frequency_dict, key=frequency_dict.get)\n",
    "\n",
    "    return max_frequency_element\n",
    "\n",
    "# Example usage:\n",
    "arr = [1, 2, 3, 2, 4, 2, 5, 2, 6, 2, 7, 2]  # Replace this with your array\n",
    "result = find_most_frequent_element(arr)\n",
    "print(f\"The element appearing most frequently is: {result}\")\n"
   ]
  },
  {
   "cell_type": "markdown",
   "id": "795978c2",
   "metadata": {},
   "source": [
    "Problem 2 : We are given a list of n-1 integers and these integers are in the range of 1 to n . There are no\n",
    "duplicates in the list. One of the integers is missing in the list. Give an algorithm to find that element Ex:\n",
    "[1,2,4,6,3,7,8] 5 is the missing num."
   ]
  },
  {
   "cell_type": "code",
   "execution_count": 2,
   "id": "0cf202bb",
   "metadata": {},
   "outputs": [
    {
     "name": "stdout",
     "output_type": "stream",
     "text": [
      "5\n"
     ]
    }
   ],
   "source": [
    "def missing_num(arr):\n",
    "    n= len(arr)+1\n",
    "    expected_sum =(n*(n+1))//2\n",
    "    \n",
    "    actual_sum= sum(arr)\n",
    "    missing_num = expected_sum -actual_sum\n",
    "    return missing_num\n",
    "\n",
    "arr= [1,2,4,6,3,7,8]\n",
    "print(missing_num(arr))\n"
   ]
  },
  {
   "cell_type": "markdown",
   "id": "73bc0016",
   "metadata": {},
   "source": [
    "Problem 3 : Given an array of n positive numbers. All numbers occurs even number of times except 1 which\n",
    "occurs odd number of times. Find that number in O(n) time and O(1) space. Ex: [1,2,3,2,3,1,3]. 3 is repeats odd\n",
    "times."
   ]
  },
  {
   "cell_type": "code",
   "execution_count": 3,
   "id": "2825dc0c",
   "metadata": {},
   "outputs": [
    {
     "name": "stdout",
     "output_type": "stream",
     "text": [
      "3\n"
     ]
    }
   ],
   "source": [
    "def odd_occurance(arr):\n",
    "    result=0\n",
    "    # XOR all elements in the array\n",
    "    for num in arr:\n",
    "        result ^=num\n",
    "        \n",
    "    return result\n",
    "    \n",
    "arr=[1,2,3,2,3,1,3]\n",
    "print(odd_occurance(arr))\n",
    "    "
   ]
  },
  {
   "cell_type": "markdown",
   "id": "b61b32e1",
   "metadata": {},
   "source": [
    "Problem 4 : Given an array of n elements. Find two elements in the array such that their sum is equal to given\n",
    "element K."
   ]
  },
  {
   "cell_type": "code",
   "execution_count": 4,
   "id": "778b959f",
   "metadata": {},
   "outputs": [
    {
     "name": "stdout",
     "output_type": "stream",
     "text": [
      "Pair found: 2 + 5 = 7\n"
     ]
    }
   ],
   "source": [
    "def find_pair(arr, K):\n",
    "  \"\"\"\n",
    "  This function finds two elements in an array that sum to a given number K.\n",
    "\n",
    "  Args:\n",
    "    arr: A list of integers.\n",
    "    K: The target sum.\n",
    "\n",
    "  Returns:\n",
    "    A list of two integers that sum to K, or None if no such pair exists.\n",
    "  \"\"\"\n",
    "  # Use a hash set to store seen elements.\n",
    "  seen = set()\n",
    "  for num in arr:\n",
    "    # Check if the complement (K - num) is already in the set.\n",
    "    complement = K - num\n",
    "    if complement in seen:\n",
    "      return [num, complement]\n",
    "    else:\n",
    "      seen.add(num)\n",
    "  return None\n",
    "\n",
    "# Example usage\n",
    "arr = [3, 5, 2, -4, 8, 11]\n",
    "K = 7\n",
    "pair = find_pair(arr, K)\n",
    "if pair:\n",
    "  print(f\"Pair found: {pair[0]} + {pair[1]} = {K}\")\n",
    "else:\n",
    "  print(f\"No pair found for sum {K}\")\n"
   ]
  },
  {
   "cell_type": "markdown",
   "id": "f81de2dc",
   "metadata": {},
   "source": [
    "Problem 5 : Given an array of both positive and negative numbers, find two numbers such that their sum is\n",
    "closest to 0. Ex: [ 1 ,60 ,-10, 70, -80,85]. Ans : -80,85."
   ]
  },
  {
   "cell_type": "code",
   "execution_count": 5,
   "id": "9c54b1cd",
   "metadata": {},
   "outputs": [
    {
     "name": "stdout",
     "output_type": "stream",
     "text": [
      "The two numbers closest to 0 in sum are: -80 and 85\n"
     ]
    }
   ],
   "source": [
    "def closest_pair(arr):\n",
    "  \"\"\"\n",
    "  Finds the two numbers in an array that are closest to 0 in sum.\n",
    "\n",
    "  Args:\n",
    "      arr: A list of integers.\n",
    "\n",
    "  Returns:\n",
    "      A tuple containing the two numbers in the array that are closest to 0 in sum.\n",
    "  \"\"\"\n",
    "\n",
    "  # Sort the array in ascending order.\n",
    "  arr.sort()\n",
    "\n",
    "  # Initialize two pointers, one at the beginning and one at the end of the array.\n",
    "  left = 0\n",
    "  right = len(arr) - 1\n",
    "\n",
    "  # Initialize the minimum difference and the closest pair.\n",
    "  min_diff = float('inf')\n",
    "  closest_pair = (None, None)\n",
    "\n",
    "  # Iterate through the array until the pointers meet.\n",
    "  while left < right:\n",
    "    # Calculate the current difference.\n",
    "    current_diff = abs(arr[left] + arr[right])\n",
    "\n",
    "    # Update the minimum difference and closest pair if necessary.\n",
    "    if current_diff < min_diff:\n",
    "      min_diff = current_diff\n",
    "      closest_pair = (arr[left], arr[right])\n",
    "\n",
    "    # Move the pointers closer based on the current difference.\n",
    "    if arr[left] + arr[right] < 0:\n",
    "      left += 1\n",
    "    else:\n",
    "      right -= 1\n",
    "\n",
    "  return closest_pair\n",
    "\n",
    "# Example usage\n",
    "arr = [1, 60, -10, 70, -80, 85]\n",
    "closest_pair = closest_pair(arr)\n",
    "print(f\"The two numbers closest to 0 in sum are: {closest_pair[0]} and {closest_pair[1]}\")\n"
   ]
  },
  {
   "cell_type": "markdown",
   "id": "f9890278",
   "metadata": {},
   "source": [
    "Problem 6 : Given an array of n elements . Find three elements such that their sum is equal to the given\n",
    "number."
   ]
  },
  {
   "cell_type": "code",
   "execution_count": 6,
   "id": "ec7e02e7",
   "metadata": {},
   "outputs": [
    {
     "name": "stdout",
     "output_type": "stream",
     "text": [
      "Triplet with sum 22 found: (4, 8, 10)\n"
     ]
    }
   ],
   "source": [
    "def find_three_elements_with_sum(arr, target_sum):\n",
    "    arr.sort()\n",
    "\n",
    "    for i in range(len(arr) - 2):\n",
    "        left, right = i + 1, len(arr) - 1\n",
    "\n",
    "        while left < right:\n",
    "            current_sum = arr[i] + arr[left] + arr[right]\n",
    "\n",
    "            if current_sum == target_sum:\n",
    "                return (arr[i], arr[left], arr[right])\n",
    "            elif current_sum < target_sum:\n",
    "                left += 1\n",
    "            else:\n",
    "                right -= 1\n",
    "\n",
    "    return None  # Return None if no such triplet is found\n",
    "\n",
    "# Example usage:\n",
    "arr = [1, 4, 45, 6, 10, 8]\n",
    "target_sum = 22\n",
    "result = find_three_elements_with_sum(arr, target_sum)\n",
    "\n",
    "if result:\n",
    "    print(f\"Triplet with sum {target_sum} found: {result}\")\n",
    "else:\n",
    "    print(f\"No triplet found with sum {target_sum}\")\n"
   ]
  },
  {
   "cell_type": "markdown",
   "id": "db1d8697",
   "metadata": {},
   "source": [
    "Problem 7 : Given an array of n elements . Find three elements i, j, k in the array such that\n",
    "i * i + j * j = k*k."
   ]
  },
  {
   "cell_type": "code",
   "execution_count": 7,
   "id": "85a0a0ce",
   "metadata": {},
   "outputs": [
    {
     "name": "stdout",
     "output_type": "stream",
     "text": [
      "Pythagorean triplet found: (1, 4, 6)\n"
     ]
    }
   ],
   "source": [
    "def find_pythagorean_triplet(arr):\n",
    "    n = len(arr)\n",
    "\n",
    "    # Square each element in the array\n",
    "    arr_squared = [x * x for x in arr]\n",
    "\n",
    "    # Sort the squared array\n",
    "    arr_squared.sort()\n",
    "\n",
    "    for i in range(n - 1, 1, -1):\n",
    "        left, right = 0, i - 1\n",
    "\n",
    "        while left < right:\n",
    "            current_sum = arr_squared[left] + arr_squared[right]\n",
    "\n",
    "            if current_sum == arr_squared[i]:\n",
    "                return (arr[left], arr[right], arr[i])\n",
    "            elif current_sum < arr_squared[i]:\n",
    "                left += 1\n",
    "            else:\n",
    "                right -= 1\n",
    "\n",
    "    return None  # Return None if no such triplet is found\n",
    "\n",
    "# Example usage:\n",
    "arr = [3, 1, 4, 6, 5]\n",
    "result = find_pythagorean_triplet(arr)\n",
    "\n",
    "if result:\n",
    "    print(f\"Pythagorean triplet found: {result}\")\n",
    "else:\n",
    "    print(\"No Pythagorean triplet found.\")\n"
   ]
  },
  {
   "cell_type": "markdown",
   "id": "59b2b1cd",
   "metadata": {},
   "source": [
    "Problem 8 : An element is a majority if it appears more than n/2 times. Give an algorithm takes an array of n\n",
    "element as argument and identifies a majority (if it exists)."
   ]
  },
  {
   "cell_type": "code",
   "execution_count": 8,
   "id": "4ea9e615",
   "metadata": {},
   "outputs": [
    {
     "name": "stdout",
     "output_type": "stream",
     "text": [
      "The majority element is: 4\n"
     ]
    }
   ],
   "source": [
    "def find_majority_element(arr):\n",
    "    candidate = None\n",
    "    count = 0\n",
    "\n",
    "    # First pass to find potential candidate\n",
    "    for num in arr:\n",
    "        if count == 0:\n",
    "            candidate = num\n",
    "        count += 1 if candidate == num else -1\n",
    "\n",
    "    # Second pass to verify if the candidate is a majority element\n",
    "    count = 0\n",
    "    for num in arr:\n",
    "        if num == candidate:\n",
    "            count += 1\n",
    "\n",
    "    if count > len(arr) // 2:\n",
    "        return candidate\n",
    "    else:\n",
    "        return None  # No majority element found\n",
    "\n",
    "# Example usage:\n",
    "arr = [3, 3, 4, 2, 4, 4, 2, 4, 4]\n",
    "result = find_majority_element(arr)\n",
    "\n",
    "if result is not None:\n",
    "    print(f\"The majority element is: {result}\")\n",
    "else:\n",
    "    print(\"No majority element found.\")\n"
   ]
  },
  {
   "cell_type": "markdown",
   "id": "91ff024b",
   "metadata": {},
   "source": [
    "Problem 9 : Given n × n matrix, and in each row all 1’s are followed by 0’s. Find the row with the maximum\n",
    "number of 0’s."
   ]
  },
  {
   "cell_type": "code",
   "execution_count": 9,
   "id": "b15a81c8",
   "metadata": {},
   "outputs": [
    {
     "name": "stdout",
     "output_type": "stream",
     "text": [
      "The row with the maximum number of 0's is: 0\n"
     ]
    }
   ],
   "source": [
    "def find_row_with_max_zeros(matrix):\n",
    "    max_zeros_row = 0\n",
    "    max_zeros_count = 0\n",
    "\n",
    "    for i in range(len(matrix)):\n",
    "        zeros_count = matrix[i].count(0)\n",
    "        \n",
    "        if zeros_count > max_zeros_count:\n",
    "            max_zeros_count = zeros_count\n",
    "            max_zeros_row = i\n",
    "\n",
    "    return max_zeros_row\n",
    "\n",
    "# Example usage:\n",
    "matrix = [\n",
    "    [1, 1, 1, 0, 0],\n",
    "    [1, 1, 1, 1, 0],\n",
    "    [1, 1, 1, 1, 0],\n",
    "    [1, 1, 1, 1, 0],\n",
    "    [1, 1, 1, 1, 1]\n",
    "]\n",
    "\n",
    "result = find_row_with_max_zeros(matrix)\n",
    "print(f\"The row with the maximum number of 0's is: {result}\")\n"
   ]
  },
  {
   "cell_type": "markdown",
   "id": "09828e75",
   "metadata": {},
   "source": [
    "Problem 10 : Sort an array of 0’s, 1’s and 2’s [or R’s, G’s and B’s]: Given an array A[] consisting of 0’s, 1’s and\n",
    "2’s, give an algorithm for sorting A[].The algorithm should put all 0’s first, then all 1’s and finally all 2’s at the\n",
    "end. Example Input = {0,1,1,0,1,2,1,2,0,0,0,1}, Output = {0,0,0,0,0,1,1,1,1,1,2,2}"
   ]
  },
  {
   "cell_type": "code",
   "execution_count": 10,
   "id": "9b1dfaec",
   "metadata": {},
   "outputs": [
    {
     "name": "stdout",
     "output_type": "stream",
     "text": [
      "Sorted array: [0, 0, 0, 0, 0, 1, 1, 1, 1, 1, 2, 2]\n"
     ]
    }
   ],
   "source": [
    "def sort_array_012(arr):\n",
    "    low, mid, high = 0, 0, len(arr) - 1\n",
    "\n",
    "    while mid <= high:\n",
    "        if arr[mid] == 0:\n",
    "            arr[low], arr[mid] = arr[mid], arr[low]\n",
    "            low += 1\n",
    "            mid += 1\n",
    "        elif arr[mid] == 1:\n",
    "            mid += 1\n",
    "        else:\n",
    "            arr[mid], arr[high] = arr[high], arr[mid]\n",
    "            high -= 1\n",
    "\n",
    "# Example usage:\n",
    "arr = [0, 1, 1, 0, 1, 2, 1, 2, 0, 0, 0, 1]\n",
    "sort_array_012(arr)\n",
    "print(\"Sorted array:\", arr)\n"
   ]
  },
  {
   "cell_type": "code",
   "execution_count": null,
   "id": "6d208c01",
   "metadata": {},
   "outputs": [],
   "source": []
  }
 ],
 "metadata": {
  "kernelspec": {
   "display_name": "Python 3 (ipykernel)",
   "language": "python",
   "name": "python3"
  },
  "language_info": {
   "codemirror_mode": {
    "name": "ipython",
    "version": 3
   },
   "file_extension": ".py",
   "mimetype": "text/x-python",
   "name": "python",
   "nbconvert_exporter": "python",
   "pygments_lexer": "ipython3",
   "version": "3.11.5"
  }
 },
 "nbformat": 4,
 "nbformat_minor": 5
}
