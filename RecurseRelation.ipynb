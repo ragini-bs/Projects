{
 "cells": [
  {
   "cell_type": "markdown",
   "id": "6deaa369",
   "metadata": {},
   "source": [
    " Find the value of T(2) for the recurrence relation T(n) = 3T(n-1) + 12n, given that T(0)=5."
   ]
  },
  {
   "cell_type": "code",
   "execution_count": 2,
   "id": "194d442f",
   "metadata": {},
   "outputs": [
    {
     "name": "stdout",
     "output_type": "stream",
     "text": [
      "The value of T(2) is: 105\n"
     ]
    }
   ],
   "source": [
    "def find_T(n):\n",
    "    # Base case\n",
    "    if n == 0:\n",
    "        return 5\n",
    "    \n",
    "    # Recurrence relation\n",
    "    return 3 * find_T(n - 1) + 12 * n\n",
    "\n",
    "# Find the value of T(2)\n",
    "result_T2 = find_T(2)\n",
    "\n",
    "print(\"The value of T(2) is:\", result_T2)\n"
   ]
  },
  {
   "cell_type": "markdown",
   "id": "00db0c07",
   "metadata": {},
   "source": [
    "a. T(n) = T(n-1) + c "
   ]
  },
  {
   "cell_type": "code",
   "execution_count": 3,
   "id": "d6a37845",
   "metadata": {},
   "outputs": [
    {
     "name": "stdout",
     "output_type": "stream",
     "text": [
      "T(5) = 16\n"
     ]
    }
   ],
   "source": [
    "def solve_recurrence(n, c, d):\n",
    "  \"\"\"\n",
    "  Solves the recurrence relation T(n) = T(n-1) + c using the substitution method.\n",
    "\n",
    "  Args:\n",
    "    n: The term number.\n",
    "    c: The constant added at each step.\n",
    "    d: The initial value T(0).\n",
    "\n",
    "  Returns:\n",
    "    The value of T(n) based on the solved recurrence relation.\n",
    "  \"\"\"\n",
    "  # Guess a solution of the form T(n) = an + b\n",
    "  a = c\n",
    "  b = d\n",
    "\n",
    "  # Substitute and simplify\n",
    "  T_n = a * n + b\n",
    "\n",
    "  return T_n\n",
    "\n",
    "# Example usage\n",
    "n = 5\n",
    "c = 3\n",
    "d = 1\n",
    "\n",
    "T_n = solve_recurrence(n, c, d)\n",
    "print(f\"T({n}) = {T_n}\")\n"
   ]
  },
  {
   "cell_type": "markdown",
   "id": "a927455c",
   "metadata": {},
   "source": [
    "b. T(n) = 2T(n/2) + n"
   ]
  },
  {
   "cell_type": "code",
   "execution_count": 4,
   "id": "3a2fd0ac",
   "metadata": {},
   "outputs": [
    {
     "name": "stdout",
     "output_type": "stream",
     "text": [
      "T(16) = 64.0\n"
     ]
    }
   ],
   "source": [
    "import math\n",
    "\n",
    "def solve_recurrence(n):\n",
    "  \"\"\"\n",
    "  Calculates T(n) using the substitution method's solution for T(n) = 2T(n/2) + n.\n",
    "\n",
    "  Args:\n",
    "    n: The term number.\n",
    "\n",
    "  Returns:\n",
    "    The value of T(n) based on the solved recurrence relation.\n",
    "  \"\"\"\n",
    "  T_n = n * math.log2(n)  # Solution obtained from substitution\n",
    "  return T_n\n",
    "\n",
    "# Example usage\n",
    "n = 16\n",
    "T_n = solve_recurrence(n)\n",
    "print(f\"T({n}) = {T_n}\")\n"
   ]
  },
  {
   "cell_type": "markdown",
   "id": "608d6afa",
   "metadata": {},
   "source": [
    "c. T(n) = 2T(n/2) + c"
   ]
  },
  {
   "cell_type": "code",
   "execution_count": 5,
   "id": "4ccf0d93",
   "metadata": {},
   "outputs": [
    {
     "name": "stdout",
     "output_type": "stream",
     "text": [
      "T(16) = 112.0\n"
     ]
    }
   ],
   "source": [
    "import math\n",
    "\n",
    "def solve_recurrence(n, c):\n",
    "  \"\"\"\n",
    "  Calculates T(n) using the substitution method's solution for T(n) = 2T(n/2) + c.\n",
    "\n",
    "  Args:\n",
    "    n: The term number.\n",
    "    c: The constant value.\n",
    "\n",
    "  Returns:\n",
    "    The value of T(n) based on the solved recurrence relation.\n",
    "  \"\"\"\n",
    "  T_n = n * math.log2(n) + c * n  # Solution obtained from substitution\n",
    "  return T_n\n",
    "\n",
    "# Example usage\n",
    "n = 16\n",
    "c = 3\n",
    "T_n = solve_recurrence(n, c)\n",
    "print(f\"T({n}) = {T_n}\")\n"
   ]
  },
  {
   "cell_type": "markdown",
   "id": "99051ae0",
   "metadata": {},
   "source": [
    "d. T(n) = T(n/2) + c"
   ]
  },
  {
   "cell_type": "code",
   "execution_count": 6,
   "id": "20932593",
   "metadata": {},
   "outputs": [
    {
     "name": "stdout",
     "output_type": "stream",
     "text": [
      "T(16) = 13.0\n"
     ]
    }
   ],
   "source": [
    "import math\n",
    "\n",
    "def solve_recurrence(n, c):\n",
    "  \"\"\"\n",
    "  Calculates T(n) using the substitution method's solution for T(n) = T(n/2) + c.\n",
    "\n",
    "  Args:\n",
    "    n: The term number.\n",
    "    c: The constant value.\n",
    "\n",
    "  Returns:\n",
    "    The value of T(n) based on the solved recurrence relation.\n",
    "  \"\"\"\n",
    "  T_n = c * math.log2(n) + d  # Solution obtained from substitution\n",
    "  return T_n\n",
    "\n",
    "# Example usage\n",
    "n = 16\n",
    "c = 3\n",
    "d = 1  # Assuming a base case T(1) = 1\n",
    "T_n = solve_recurrence(n, c)\n",
    "print(f\"T({n}) = {T_n}\")\n"
   ]
  },
  {
   "cell_type": "markdown",
   "id": "4b6dab93",
   "metadata": {},
   "source": [
    "3. Given a recurrence relation, solve it using the recursive tree approach:\n",
    "\n",
    "a. T(n) = 2T(n-1) +1"
   ]
  },
  {
   "cell_type": "code",
   "execution_count": 8,
   "id": "033575b3",
   "metadata": {},
   "outputs": [
    {
     "name": "stdout",
     "output_type": "stream",
     "text": [
      "T(4) = 15\n"
     ]
    }
   ],
   "source": [
    "def solve_recurrence(n):\n",
    "  \"\"\"\n",
    "  Calculates T(n) using the recursive tree method's solution for T(n) = 2T(n-1) + 1.\n",
    "\n",
    "  Args:\n",
    "    n: The term number.\n",
    "\n",
    "  Returns:\n",
    "    The value of T(n) based on the solved recurrence relation.\n",
    "  \"\"\"\n",
    "  T_n = 2 ** n - 1  # Solution obtained from the recursive tree approach\n",
    "  return T_n\n",
    "\n",
    "# Example usage\n",
    "n = 4\n",
    "T_n = solve_recurrence(n)\n",
    "print(f\"T({n}) = {T_n}\")\n"
   ]
  },
  {
   "cell_type": "markdown",
   "id": "7e80e1ef",
   "metadata": {},
   "source": [
    "b. T(n) = 2T(n/2) + n"
   ]
  },
  {
   "cell_type": "code",
   "execution_count": 9,
   "id": "64834925",
   "metadata": {},
   "outputs": [
    {
     "name": "stdout",
     "output_type": "stream",
     "text": [
      "T(16) = 64.0\n"
     ]
    }
   ],
   "source": [
    "import math\n",
    "\n",
    "def solve_recurrence(n):\n",
    "  \"\"\"\n",
    "  Calculates T(n) using the recursive tree method's solution for T(n) = 2T(n/2) + n.\n",
    "\n",
    "  Args:\n",
    "    n: The term number.\n",
    "\n",
    "  Returns:\n",
    "    The value of T(n) based on the solved recurrence relation.\n",
    "  \"\"\"\n",
    "  T_n = n * math.log2(n)  # Solution obtained from the recursive tree approach\n",
    "  return T_n\n",
    "\n",
    "# Example usage\n",
    "n = 16\n",
    "T_n = solve_recurrence(n)\n",
    "print(f\"T({n}) = {T_n}\")\n"
   ]
  },
  {
   "cell_type": "code",
   "execution_count": null,
   "id": "27d0dcc7",
   "metadata": {},
   "outputs": [],
   "source": []
  }
 ],
 "metadata": {
  "kernelspec": {
   "display_name": "Python 3 (ipykernel)",
   "language": "python",
   "name": "python3"
  },
  "language_info": {
   "codemirror_mode": {
    "name": "ipython",
    "version": 3
   },
   "file_extension": ".py",
   "mimetype": "text/x-python",
   "name": "python",
   "nbconvert_exporter": "python",
   "pygments_lexer": "ipython3",
   "version": "3.11.5"
  }
 },
 "nbformat": 4,
 "nbformat_minor": 5
}
