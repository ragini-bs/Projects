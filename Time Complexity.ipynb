{
 "cells": [
  {
   "cell_type": "markdown",
   "id": "c36d8cd8",
   "metadata": {},
   "source": [
    "# Solve the following problems on recursion"
   ]
  },
  {
   "cell_type": "markdown",
   "id": "c11a3130",
   "metadata": {},
   "source": [
    "Problem 10 : N-Queens\n",
    "Implement a recursive function to solve the N Queens problem, where you have to place N queens on an N×N\n",
    "chessboard in such a way that no two queens threaten each other.\n",
    "n_queens(4)\n",
    "[\n",
    "[\".Q..\",\n",
    "\"...Q\",\n",
    "\"Q...\",\n",
    "\"..Q.\"],\n",
    "[\"..Q.\",\n",
    "\"Q...\",\n",
    "\"...Q\",\n",
    "\".Q..\"]\n",
    "]"
   ]
  },
  {
   "cell_type": "code",
   "execution_count": 1,
   "id": "c340238e",
   "metadata": {},
   "outputs": [],
   "source": [
    "def issafetoplacequeen(board,row,col,n):\n",
    "    # check left side\n",
    "    for i in range(col):\n",
    "        if board[row][i]==1:\n",
    "            return False\n",
    "        \n",
    "    # check in upper left diagnol\n",
    "    for i,j in zip(range(row,-1,-1),range(col,-1,-1)):\n",
    "        if board [i][j]==1:\n",
    "            return False\n",
    "        \n",
    "    # check in lower left diagnol\n",
    "    for i,j in zip(range(row,n,1), range(col,-1,-1)):\n",
    "        if board [i][j]==1:\n",
    "            return False\n",
    "        \n",
    "    return True\n",
    "\n",
    "def solveNQ(board,n):\n",
    "    if not solveNQUtil(board,0,n):\n",
    "        prinr('solution doesnt exist')\n",
    "        return\n",
    "    \n",
    "    printBoard(board,n)\n",
    "    \n",
    "def solveNQUtil(board,col,n):\n",
    "    if (col>=n): # base condition\n",
    "        return True #means we have been able to put queens in all the columns\n",
    "    \n",
    "    # check for all the rows\n",
    "    for row in range(n):\n",
    "        if issafetoplacequeen(board,row,col,n):\n",
    "            board[row][col]=1\n",
    "            \n",
    "            #recursivelt try foe thw next columns\n",
    "            if solveNQUtil(board,col+1,n):\n",
    "                return True\n",
    "            #Back tacj=king\n",
    "            board[row][col]=0 #queen cant be set here\n",
    "            \n",
    "    return False       \n",
    " \n",
    "def printBoard(board,n):\n",
    "    for i in range(n):\n",
    "        for j in range(n):\n",
    "            if board[i][j]==1:\n",
    "                print('Q',end=' ')\n",
    "            else:\n",
    "                print(',',end=' ')\n",
    "        print()      "
   ]
  },
  {
   "cell_type": "code",
   "execution_count": 2,
   "id": "6fdf3f8e",
   "metadata": {},
   "outputs": [
    {
     "name": "stdout",
     "output_type": "stream",
     "text": [
      ", , Q , \n",
      "Q , , , \n",
      ", , , Q \n",
      ", Q , , \n"
     ]
    }
   ],
   "source": [
    "board = [[0,0,0,0],\n",
    "         [0,0,0,0],\n",
    "         [0,0,0,0],\n",
    "         [0,0,0,0]\n",
    "         ]\n",
    "solveNQ(board,4)"
   ]
  },
  {
   "cell_type": "markdown",
   "id": "a9b71eb7",
   "metadata": {},
   "source": [
    "Problem 9: Word Break\n",
    "Given a non-empty string and a dictionary of words, write a recursive function to determine if the string can be\n",
    "segmented into a space-separated sequence of dictionary words.\n",
    "word_break( leetcode , [ leet , code ]) -> True"
   ]
  },
  {
   "cell_type": "code",
   "execution_count": 3,
   "id": "5dd5a174",
   "metadata": {},
   "outputs": [],
   "source": [
    "def wordBreak(wordlist,word):\n",
    "    if word =='':\n",
    "        return True\n",
    "    else:\n",
    "        wordlen=len(word)\n",
    "        for i in range(1,wordlen+1):\n",
    "            if word[:i]in wordlist and wordBreak(wordlist,word[i:]):\n",
    "                return True\n",
    "        return False"
   ]
  },
  {
   "cell_type": "code",
   "execution_count": 4,
   "id": "0620e931",
   "metadata": {},
   "outputs": [
    {
     "name": "stdout",
     "output_type": "stream",
     "text": [
      "True\n"
     ]
    }
   ],
   "source": [
    "print(wordBreak(['leet','code'],'leetcode'))"
   ]
  },
  {
   "cell_type": "markdown",
   "id": "2cc22e99",
   "metadata": {},
   "source": [
    "Problem 6 : Sum of Digits\n",
    "Write a recursive function to calculate the sum of digits of a given positive integer.\n",
    "sum_of_digits(123) -> 6"
   ]
  },
  {
   "cell_type": "code",
   "execution_count": 11,
   "id": "19afba89",
   "metadata": {},
   "outputs": [
    {
     "name": "stdout",
     "output_type": "stream",
     "text": [
      "6\n"
     ]
    }
   ],
   "source": [
    "def sum_of_digits(n):\n",
    "    #base condition\n",
    "    if n<10:\n",
    "        return n\n",
    "    #recurssion\n",
    "    else:\n",
    "        return (n%10) +sum_of_digits(n//10)\n",
    "    \n",
    "print(sum_of_digits(123))\n"
   ]
  },
  {
   "cell_type": "markdown",
   "id": "e4474914",
   "metadata": {},
   "source": [
    "Problem 7: Fibonacci Series\n",
    "Write a recursive function to generate the first n numbers of the Fibonacci series.\n",
    "fibonacci_series(6) -> [0, 1, 1, 2, 3, 5]"
   ]
  },
  {
   "cell_type": "code",
   "execution_count": 23,
   "id": "030ad67f",
   "metadata": {},
   "outputs": [
    {
     "name": "stdout",
     "output_type": "stream",
     "text": [
      "[0, 1, 1, 2, 3, 5]\n"
     ]
    }
   ],
   "source": [
    "def fibonacci_series(n):\n",
    "    if n<=0:\n",
    "        return []\n",
    "    elif n==1:\n",
    "        return [0]\n",
    "    elif n==2:\n",
    "        return [0,1]\n",
    "    else:\n",
    "        series=fibonacci_series(n-1)\n",
    "        series.append(series[-1]+series[-2])\n",
    "        return series\n",
    "  \n",
    "\n",
    "print(fibonacci_series(6))"
   ]
  },
  {
   "cell_type": "markdown",
   "id": "1823d2a5",
   "metadata": {},
   "source": [
    "Problem 8 : Subset Sum\n",
    "Given a set of positive integers and a target sum, write a recursive function to determine if there exists a subset\n",
    "of the integers that adds up to the target sum.\n",
    "subset_sum([3, 34, 4, 12, 5, 2], 9) -> True"
   ]
  },
  {
   "cell_type": "code",
   "execution_count": 39,
   "id": "796a22bd",
   "metadata": {},
   "outputs": [
    {
     "name": "stdout",
     "output_type": "stream",
     "text": [
      "True\n"
     ]
    }
   ],
   "source": [
    "def subset_sum(num,target):\n",
    "    if target ==0:\n",
    "        return True\n",
    "    elif not num or target<0:\n",
    "        return False\n",
    "    else:\n",
    "        return subset_sum(num[:-1], target-num[-1]) or subset_sum(num[:-1], target)\n",
    "    \n",
    "print(subset_sum([3, 34, 4, 12, 5, 2], 9) )    "
   ]
  },
  {
   "cell_type": "markdown",
   "id": "b1998e86",
   "metadata": {},
   "source": [
    "# Find time complexity of below code blocks :"
   ]
  },
  {
   "cell_type": "markdown",
   "id": "09315f1b",
   "metadata": {},
   "source": [
    "Problem 1 :\n",
    "def quicksort(arr):\n",
    "if len(arr) <= 1:\n",
    "return arr\n",
    "pivot = arr[len(arr) // 2]\n",
    "left = [x for x in arr if x < pivot]\n",
    "middle = [x for x in arr if x == pivot]\n",
    "right = [x for x in arr if x > pivot]\n",
    "return quicksort(left) + middle + quicksort(right)"
   ]
  },
  {
   "cell_type": "markdown",
   "id": "acfbd188",
   "metadata": {},
   "source": [
    " Time complexity is O(nlog n)"
   ]
  },
  {
   "cell_type": "markdown",
   "id": "ee5b2d0b",
   "metadata": {},
   "source": [
    "Problem 2 :\n",
    "def nested_loop_example(matrix):\n",
    "rows, cols = len(matrix), len(matrix[0])\n",
    "total = 0\n",
    "for i in range(rows):\n",
    "for j in range(cols):\n",
    "total += matrix[i][j]\n",
    "return total"
   ]
  },
  {
   "cell_type": "markdown",
   "id": "bfbbc3c8",
   "metadata": {},
   "source": [
    "Time complexity is O(m*n)"
   ]
  },
  {
   "cell_type": "markdown",
   "id": "91359808",
   "metadata": {},
   "source": [
    "Problem 3 :\n",
    "def example_function(arr):\n",
    "result = 0\n",
    "for element in arr:\n",
    "result += element\n",
    "return result"
   ]
  },
  {
   "cell_type": "markdown",
   "id": "39a41b1b",
   "metadata": {},
   "source": [
    "Time complexity is O(n)"
   ]
  },
  {
   "cell_type": "markdown",
   "id": "9afe4583",
   "metadata": {},
   "source": [
    "Problem 4 :\n",
    "def longest_increasing_subsequence(nums):\n",
    "n = len(nums)\n",
    "lis = [1] * n\n",
    "for i in range(1, n):\n",
    "for j in range(0, i):\n",
    "if nums[i] > nums[j] and lis[i] < lis[j] + 1:\n",
    "lis[i] = lis[j] + 1\n",
    "return max(lis)"
   ]
  },
  {
   "cell_type": "markdown",
   "id": "05a5a0c1",
   "metadata": {},
   "source": [
    "Time complexity is O(n^2)"
   ]
  },
  {
   "cell_type": "markdown",
   "id": "726f005e",
   "metadata": {},
   "source": [
    "Problem 5 :\n",
    "def mysterious_function(arr):\n",
    "n = len(arr)\n",
    "result = 0\n",
    "for i in range(n):\n",
    "for j in range(i, n):\n",
    "result += arr[i] * arr[j]\n",
    "return result"
   ]
  },
  {
   "cell_type": "markdown",
   "id": "e4ab4810",
   "metadata": {},
   "source": [
    "Time complexity is O(n^2)"
   ]
  },
  {
   "cell_type": "code",
   "execution_count": null,
   "id": "fbde0d6a",
   "metadata": {},
   "outputs": [],
   "source": []
  }
 ],
 "metadata": {
  "kernelspec": {
   "display_name": "Python 3 (ipykernel)",
   "language": "python",
   "name": "python3"
  },
  "language_info": {
   "codemirror_mode": {
    "name": "ipython",
    "version": 3
   },
   "file_extension": ".py",
   "mimetype": "text/x-python",
   "name": "python",
   "nbconvert_exporter": "python",
   "pygments_lexer": "ipython3",
   "version": "3.11.5"
  }
 },
 "nbformat": 4,
 "nbformat_minor": 5
}
