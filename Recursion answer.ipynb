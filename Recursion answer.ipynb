{
 "cells": [
  {
   "cell_type": "markdown",
   "id": "14a1e4f8",
   "metadata": {},
   "source": [
    "Q1.Can you explain the logic and working of the Tower of Hanoi algorithm by writing a Java program? How does the recursion work, and how are the movements of disks between rods accomplished?"
   ]
  },
  {
   "cell_type": "code",
   "execution_count": null,
   "id": "88ee37ad",
   "metadata": {},
   "outputs": [],
   "source": [
    "public class TowerOfHanoi {\n",
    "\n",
    "    public static void hanoi(int n, String source, String auxiliary, String destination) {\n",
    "        /*\n",
    "        Recursively moves n disks from source rod to destination rod using auxiliary rod.\n",
    "\n",
    "        Args:\n",
    "            n: Number of disks.\n",
    "            source: Rod containing the disks initially.\n",
    "            auxiliary: Rod used as temporary storage.\n",
    "            destination: Rod where the disks should be moved finally.\n",
    "        */\n",
    "\n",
    "        if (n == 1) {\n",
    "            // Base case: Move the single disk directly.\n",
    "            System.out.println(\"Move disk 1 from \" + source + \" to \" + destination);\n",
    "        } else {\n",
    "            // Recursive case:\n",
    "            // 1. Move n-1 disks from source to auxiliary using destination.\n",
    "            hanoi(n - 1, source, destination, auxiliary);\n",
    "            // 2. Move the largest disk from source to destination.\n",
    "            System.out.println(\"Move disk \" + n + \" from \" + source + \" to \" + destination);\n",
    "            // 3. Move n-1 disks from auxiliary to destination using source.\n",
    "            hanoi(n - 1, auxiliary, source, destination);\n",
    "        }\n",
    "    }\n",
    "\n",
    "    public static void main(String[] args) {\n",
    "        int n = 3;  // Number of disks\n",
    "        hanoi(n, \"A\", \"B\", \"C\");  // Move disks from rod A to rod C\n",
    "    }\n",
    "}\n"
   ]
  },
  {
   "cell_type": "markdown",
   "id": "d3ff001e",
   "metadata": {},
   "source": [
    "Q.2 Given two strings word1 and word2, return the minimum number of operations required to convert word1 \n",
    "\n",
    "to word2"
   ]
  },
  {
   "cell_type": "code",
   "execution_count": 1,
   "id": "f05ba878",
   "metadata": {},
   "outputs": [
    {
     "name": "stdout",
     "output_type": "stream",
     "text": [
      "Minimum edit distance: 3\n"
     ]
    }
   ],
   "source": [
    "def min_edit_distance(word1, word2):\n",
    "  \"\"\"\n",
    "  This function calculates the minimum edit distance between two strings.\n",
    "\n",
    "  Args:\n",
    "    word1: The first string.\n",
    "    word2: The second string.\n",
    "\n",
    "  Returns:\n",
    "    The minimum number of edits required to convert word1 to word2.\n",
    "  \"\"\"\n",
    "  # Create a DP table to store the minimum edit distances.\n",
    "  dp = [[0 for _ in range(len(word2) + 1)] for _ in range(len(word1) + 1)]\n",
    "\n",
    "  # Fill the base case (empty strings).\n",
    "  for i in range(len(word1) + 1):\n",
    "    dp[i][0] = i\n",
    "  for j in range(len(word2) + 1):\n",
    "    dp[0][j] = j\n",
    "\n",
    "  # Iterate over the strings and fill the DP table.\n",
    "  for i in range(1, len(word1) + 1):\n",
    "    for j in range(1, len(word2) + 1):\n",
    "      # If the characters are the same, no edit is needed.\n",
    "      if word1[i - 1] == word2[j - 1]:\n",
    "        dp[i][j] = dp[i - 1][j - 1]\n",
    "      else:\n",
    "        # Consider all possible edits (insertion, deletion, replacement).\n",
    "        dp[i][j] = min(\n",
    "            dp[i - 1][j] + 1,  # Insert\n",
    "            dp[i][j - 1] + 1,  # Delete\n",
    "            dp[i - 1][j - 1] + 1  # Replace\n",
    "        )\n",
    "\n",
    "  # Return the minimum edit distance at the end.\n",
    "  return dp[len(word1)][len(word2)]\n",
    "\n",
    "# Example usage\n",
    "word1 = \"horse\"\n",
    "word2 = \"ros\"\n",
    "distance = min_edit_distance(word1, word2)\n",
    "print(f\"Minimum edit distance: {distance}\")\n"
   ]
  },
  {
   "cell_type": "code",
   "execution_count": 2,
   "id": "045cbbd0",
   "metadata": {},
   "outputs": [
    {
     "name": "stdout",
     "output_type": "stream",
     "text": [
      "Minimum edit distance: 5\n"
     ]
    }
   ],
   "source": [
    "def min_edit_distance(word1, word2):\n",
    "  \"\"\"\n",
    "  This function calculates the minimum edit distance between two strings.\n",
    "\n",
    "  Args:\n",
    "    word1: The first string.\n",
    "    word2: The second string.\n",
    "\n",
    "  Returns:\n",
    "    The minimum number of edits required to convert word1 to word2.\n",
    "  \"\"\"\n",
    "  # Create a DP table to store the minimum edit distances.\n",
    "  dp = [[0 for _ in range(len(word2) + 1)] for _ in range(len(word1) + 1)]\n",
    "\n",
    "  # Fill the base case (empty strings).\n",
    "  for i in range(len(word1) + 1):\n",
    "    dp[i][0] = i\n",
    "  for j in range(len(word2) + 1):\n",
    "    dp[0][j] = j\n",
    "\n",
    "  # Iterate over the strings and fill the DP table.\n",
    "  for i in range(1, len(word1) + 1):\n",
    "    for j in range(1, len(word2) + 1):\n",
    "      # If the characters are the same, no edit is needed.\n",
    "      if word1[i - 1] == word2[j - 1]:\n",
    "        dp[i][j] = dp[i - 1][j - 1]\n",
    "      else:\n",
    "        # Consider all possible edits (insertion, deletion, replacement).\n",
    "        dp[i][j] = min(\n",
    "            dp[i - 1][j] + 1,  # Insert\n",
    "            dp[i][j - 1] + 1,  # Delete\n",
    "            dp[i - 1][j - 1] + 1  # Replace\n",
    "        )\n",
    "\n",
    "  # Return the minimum edit distance at the end.\n",
    "  return dp[len(word1)][len(word2)]\n",
    "\n",
    "# Example usage\n",
    "word1 = \"intention\"\n",
    "word2 = \"execution\"\n",
    "distance = min_edit_distance(word1, word2)\n",
    "print(f\"Minimum edit distance: {distance}\")\n"
   ]
  },
  {
   "cell_type": "markdown",
   "id": "7754bdbe",
   "metadata": {},
   "source": [
    "Q. 3 Print the max value of the array [ 13, 1, -3, 22, 5]"
   ]
  },
  {
   "cell_type": "code",
   "execution_count": 3,
   "id": "403c4475",
   "metadata": {},
   "outputs": [
    {
     "name": "stdout",
     "output_type": "stream",
     "text": [
      "Maximum value in the array: 22\n"
     ]
    }
   ],
   "source": [
    "def find_max_recursive(arr, n):\n",
    "  \"\"\"\n",
    "  This function recursively finds the maximum element in an array.\n",
    "\n",
    "  Args:\n",
    "    arr: The array to search.\n",
    "    n: The size of the array.\n",
    "\n",
    "  Returns:\n",
    "    The maximum element in the array.\n",
    "  \"\"\"\n",
    "  # Base case: If there is only one element, it is the maximum.\n",
    "  if n == 1:\n",
    "    return arr[0]\n",
    "\n",
    "  # Recursively find the maximum in the remaining sub-array.\n",
    "  max_so_far = find_max_recursive(arr, n - 1)\n",
    "\n",
    "  # Compare the current element with the maximum found so far.\n",
    "  return max(max_so_far, arr[n - 1])\n",
    "\n",
    "# Example usage\n",
    "arr = [13, 1, -3, 22, 5]\n",
    "max_value = find_max_recursive(arr, len(arr))\n",
    "print(f\"Maximum value in the array: {max_value}\")\n",
    "\n"
   ]
  },
  {
   "cell_type": "markdown",
   "id": "cd57275d",
   "metadata": {},
   "source": [
    "Q.4 Find the sum of the values of the array [92, 23, 15, -20, 10]"
   ]
  },
  {
   "cell_type": "code",
   "execution_count": 8,
   "id": "bceef403",
   "metadata": {},
   "outputs": [
    {
     "name": "stdout",
     "output_type": "stream",
     "text": [
      "Maximum value in the array: 120\n"
     ]
    }
   ],
   "source": [
    "def find_sum_recursive(arr, n):\n",
    "  \"\"\"\n",
    "  This function recursively finds the sum element in an array.\n",
    "\n",
    "  Args:\n",
    "    arr: The array to search.\n",
    "    n: The size of the array.\n",
    "\n",
    "  Returns:\n",
    "    The sum of element in the array.\n",
    "  \"\"\"\n",
    "  # Base case: If there is only one element, it is the maximum.\n",
    "  if n == 1:\n",
    "    return arr[0]\n",
    "\n",
    "  # Recursively find the maximum in the remaining sub-array.\n",
    "  sum_so_far = find_sum_recursive(arr, n - 1)\n",
    "\n",
    "  # Compare the current element with the maximum found so far.\n",
    "  return sum_so_far + arr[n - 1]\n",
    "\n",
    "\n",
    "# Example usage\n",
    "arr = [92, 23, 15, -20, 10]\n",
    "sum_value = find_sum_recursive(arr, len(arr))\n",
    "print(f\"Maximum value in the array: {sum_value}\")\n"
   ]
  },
  {
   "cell_type": "markdown",
   "id": "ae8846c1",
   "metadata": {},
   "source": [
    "Q.5 Given a number n. Print if it is an armstrong number or not.An armstrong number is a number if the sum \n",
    "of every digit in that number raised to the power of total digits in that number is equal to the number."
   ]
  },
  {
   "cell_type": "code",
   "execution_count": 9,
   "id": "5ad50262",
   "metadata": {},
   "outputs": [
    {
     "name": "stdout",
     "output_type": "stream",
     "text": [
      "153 is not an Armstrong number.\n"
     ]
    }
   ],
   "source": [
    "def is_armstrong(n):\n",
    " \"\"\"\n",
    " This function checks if a number is an Armstrong number using recursion.\n",
    "\n",
    " Args:\n",
    "   n: The number to check.\n",
    "\n",
    " Returns:\n",
    "   True if the number is an Armstrong number, False otherwise.\n",
    " \"\"\"\n",
    " # Base case: If the number is less than 10, it cannot be an Armstrong number.\n",
    " if n < 10:\n",
    "   return False\n",
    "\n",
    " # Extract the last digit of the number.\n",
    " digit = n % 10\n",
    "\n",
    " # Calculate the remaining digits.\n",
    " remaining_digits = n // 10\n",
    "\n",
    " # Recursively check if the remaining digits are part of an Armstrong number.\n",
    " is_remaining_armstrong = is_armstrong(remaining_digits)\n",
    "\n",
    " # Calculate the sum of the digits raised to the power of the number of digits.\n",
    " sum_of_digits_powered = digit**len(str(n)) + is_remaining_armstrong\n",
    "\n",
    " # Check if the sum of the digits raised to the power of the number of digits is equal to the number.\n",
    " return sum_of_digits_powered == n\n",
    "\n",
    "# Example usage\n",
    "number = 153\n",
    "if is_armstrong(number):\n",
    " print(f\"{number} is an Armstrong number.\")\n",
    "else:\n",
    " print(f\"{number} is not an Armstrong number.\")\n"
   ]
  },
  {
   "cell_type": "code",
   "execution_count": 10,
   "id": "e2eadfe0",
   "metadata": {},
   "outputs": [
    {
     "name": "stdout",
     "output_type": "stream",
     "text": [
      "134 is not an Armstrong number.\n"
     ]
    }
   ],
   "source": [
    "def is_armstrong(n):\n",
    " \"\"\"\n",
    " This function checks if a number is an Armstrong number using recursion.\n",
    "\n",
    " Args:\n",
    "   n: The number to check.\n",
    "\n",
    " Returns:\n",
    "   True if the number is an Armstrong number, False otherwise.\n",
    " \"\"\"\n",
    " # Base case: If the number is less than 10, it cannot be an Armstrong number.\n",
    " if n < 10:\n",
    "   return False\n",
    "\n",
    " # Extract the last digit of the number.\n",
    " digit = n % 10\n",
    "\n",
    " # Calculate the remaining digits.\n",
    " remaining_digits = n // 10\n",
    "\n",
    " # Recursively check if the remaining digits are part of an Armstrong number.\n",
    " is_remaining_armstrong = is_armstrong(remaining_digits)\n",
    "\n",
    " # Calculate the sum of the digits raised to the power of the number of digits.\n",
    " sum_of_digits_powered = digit**len(str(n)) + is_remaining_armstrong\n",
    "\n",
    " # Check if the sum of the digits raised to the power of the number of digits is equal to the number.\n",
    " return sum_of_digits_powered == n\n",
    "\n",
    "# Example usage\n",
    "number = 134\n",
    "if is_armstrong(number):\n",
    " print(f\"{number} is an Armstrong number.\")\n",
    "else:\n",
    " print(f\"{number} is not an Armstrong number.\")\n"
   ]
  },
  {
   "cell_type": "code",
   "execution_count": null,
   "id": "2aa6efe5",
   "metadata": {},
   "outputs": [],
   "source": []
  }
 ],
 "metadata": {
  "kernelspec": {
   "display_name": "Python 3 (ipykernel)",
   "language": "python",
   "name": "python3"
  },
  "language_info": {
   "codemirror_mode": {
    "name": "ipython",
    "version": 3
   },
   "file_extension": ".py",
   "mimetype": "text/x-python",
   "name": "python",
   "nbconvert_exporter": "python",
   "pygments_lexer": "ipython3",
   "version": "3.11.5"
  }
 },
 "nbformat": 4,
 "nbformat_minor": 5
}
