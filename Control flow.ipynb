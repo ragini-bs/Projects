{
 "cells": [
  {
   "cell_type": "markdown",
   "id": "bf8034ec",
   "metadata": {},
   "source": [
    "# Basic If-Else Statements:\n",
    "\n"
   ]
  },
  {
   "cell_type": "code",
   "execution_count": 1,
   "id": "f7de3285",
   "metadata": {},
   "outputs": [
    {
     "name": "stdout",
     "output_type": "stream",
     "text": [
      "enter a numb1\n",
      "positive\n"
     ]
    }
   ],
   "source": [
    "n=int(input(\"enter a numb\"))\n",
    "if n>=1:\n",
    "    print(\"positive\")\n",
    "else:\n",
    "    print(\"negative\")"
   ]
  },
  {
   "cell_type": "code",
   "execution_count": 3,
   "id": "4c158208",
   "metadata": {},
   "outputs": [
    {
     "name": "stdout",
     "output_type": "stream",
     "text": [
      "enter age23\n",
      "eligible\n"
     ]
    }
   ],
   "source": [
    "age=int(input(\"enter age\"))\n",
    "if age<=18:\n",
    "    print(\"not eligiblefor vote\")\n",
    "else:\n",
    "    print(\"eligible\")"
   ]
  },
  {
   "cell_type": "code",
   "execution_count": 4,
   "id": "090e5c41",
   "metadata": {},
   "outputs": [
    {
     "name": "stdout",
     "output_type": "stream",
     "text": [
      "enter first no1\n",
      "enter first no2\n",
      "max no 2\n"
     ]
    }
   ],
   "source": [
    "first_no=int(input(\"enter first no\"))\n",
    "second_no=int(input(\"enter first no\"))\n",
    "if first_no>=second_no:\n",
    "    print(\"max no\",first_no)\n",
    "else:\n",
    "    print(\"max no\",second_no)"
   ]
  },
  {
   "cell_type": "code",
   "execution_count": 5,
   "id": "c3514b1c",
   "metadata": {},
   "outputs": [
    {
     "name": "stdout",
     "output_type": "stream",
     "text": [
      "enter a year2000\n",
      "its a leap year\n"
     ]
    }
   ],
   "source": [
    "year=int(input(\"enter a year\"))\n",
    "if year%4==0:\n",
    "    print(\"its a leap year\")\n",
    "else:\n",
    "    print(\"not a leap year\")"
   ]
  },
  {
   "cell_type": "code",
   "execution_count": 6,
   "id": "49e9248a",
   "metadata": {},
   "outputs": [
    {
     "name": "stdout",
     "output_type": "stream",
     "text": [
      "enter a chardghjj\n",
      "consonant\n"
     ]
    }
   ],
   "source": [
    "char=str(input(\"enter a char\"))\n",
    "if char in \"AEIOUaeiou\":\n",
    "    print(\"vowel\")\n",
    "else:\n",
    "    print(\"consonant\")\n",
    "    "
   ]
  },
  {
   "cell_type": "code",
   "execution_count": 7,
   "id": "527ef991",
   "metadata": {},
   "outputs": [
    {
     "name": "stdout",
     "output_type": "stream",
     "text": [
      "enter a numb12\n",
      "Even\n"
     ]
    }
   ],
   "source": [
    "n=int(input(\"enter a numb\"))\n",
    "if n%2==0:\n",
    "    print(\"Even\")\n",
    "else:\n",
    "    print(\"odd\")"
   ]
  },
  {
   "cell_type": "code",
   "execution_count": 8,
   "id": "cc2fdcde",
   "metadata": {},
   "outputs": [
    {
     "name": "stdout",
     "output_type": "stream",
     "text": [
      "enter no1\n",
      "enter no2\n",
      "enter no3\n",
      "largest no 3\n"
     ]
    }
   ],
   "source": [
    "num1=int(input(\"enter no\"))\n",
    "num2=int(input(\"enter no\"))\n",
    "num3=int(input(\"enter no\"))\n",
    "\n",
    "if (num1>=num2) and (num1>=num3):\n",
    "    print(\"largest no\",num1)\n",
    "elif (num2>=num3) and (num2>=num1):\n",
    "    print(\"largest no\",num2)\n",
    "elif (num3>=num2) and (num3>=num1):\n",
    "    print(\"largest no\",num3)\n",
    "        \n",
    "    "
   ]
  },
  {
   "cell_type": "code",
   "execution_count": 9,
   "id": "48142785",
   "metadata": {},
   "outputs": [
    {
     "name": "stdout",
     "output_type": "stream",
     "text": [
      "enter a score lessthan or equal to b234\n",
      "grade is c\n"
     ]
    }
   ],
   "source": [
    "score= int(input(\"enter a score lessthan or equal to b\"))\n",
    "b=600\n",
    "if (score/b*100)>=85:\n",
    "    print(\" grade is A\")\n",
    "elif (score/b*100>= 60) and  (score/b*100<= 85):\n",
    "    print(\" grade is B\")\n",
    "elif (score/b*100<=60) and     (score/b*100>=35):\n",
    "    print(\"grade is c\")\n",
    "elif score/b*100<35:\n",
    "    print(\"Fail\")\n",
    "    "
   ]
  },
  {
   "cell_type": "code",
   "execution_count": 10,
   "id": "3bb88f54",
   "metadata": {},
   "outputs": [
    {
     "name": "stdout",
     "output_type": "stream",
     "text": [
      "enter a no1\n",
      "1\n"
     ]
    }
   ],
   "source": [
    "n=int(input(\"enter a no\"))\n",
    "\n",
    "if n<0:\n",
    "    print(n*-1)\n",
    "else:\n",
    "    print(n)"
   ]
  },
  {
   "cell_type": "code",
   "execution_count": 12,
   "id": "aaec3a70",
   "metadata": {},
   "outputs": [
    {
     "name": "stdout",
     "output_type": "stream",
     "text": [
      "enter a stringdffg\n",
      "not a polindrome\n"
     ]
    }
   ],
   "source": [
    "s= str(input(\"enter a string\"))\n",
    "\n",
    "if s==s[::-1]:\n",
    "    print(\"String is palindrome\")\n",
    "else:\n",
    "    print (\"not a polindrome\")"
   ]
  },
  {
   "cell_type": "markdown",
   "id": "0bedc6ec",
   "metadata": {},
   "source": [
    "# Nested If-Else Statements:"
   ]
  },
  {
   "cell_type": "code",
   "execution_count": 13,
   "id": "a878a5df",
   "metadata": {},
   "outputs": [
    {
     "name": "stdout",
     "output_type": "stream",
     "text": [
      "enter no1\n",
      "enter no2\n",
      "enter no3\n",
      "The largest number among 1, 2, and 3 is 3\n"
     ]
    }
   ],
   "source": [
    "num1=int(input(\"enter no\"))\n",
    "num2=int(input(\"enter no\"))\n",
    "num3=int(input(\"enter no\"))\n",
    "\n",
    "if num1 >= num2:\n",
    "    if num1 >= num3:\n",
    "        largest = num1\n",
    "    else:\n",
    "        largest = num3\n",
    "else:\n",
    "    if num2 >= num3:\n",
    "        largest = num2\n",
    "    else:\n",
    "        largest = num3\n",
    "        \n",
    "print(f\"The largest number among {num1}, {num2}, and {num3} is {largest}\")        "
   ]
  },
  {
   "cell_type": "code",
   "execution_count": 14,
   "id": "0848d768",
   "metadata": {},
   "outputs": [
    {
     "name": "stdout",
     "output_type": "stream",
     "text": [
      "enter one side1\n",
      "enter one side2\n",
      "enter one side3\n",
      " scalene traingle\n"
     ]
    }
   ],
   "source": [
    "x=float(input(\"enter one side\"))\n",
    "y=float(input(\"enter one side\"))\n",
    "z=float(input(\"enter one side\"))\n",
    "if x==y==z:\n",
    "    print(\"equilateral traingle\")\n",
    "elif x==y or y==z or z==x:\n",
    "    print(\"Isosceles trainle\")\n",
    "else:\n",
    "    print(\" scalene traingle\")\n"
   ]
  },
  {
   "cell_type": "code",
   "execution_count": 15,
   "id": "7882cebd",
   "metadata": {},
   "outputs": [
    {
     "name": "stdout",
     "output_type": "stream",
     "text": [
      "enter a year1234\n",
      "not a leap and century yr\n"
     ]
    }
   ],
   "source": [
    "year=int(input(\"enter a year\"))\n",
    "if year%4==0 and year%400==0:\n",
    "    print(\"its a leap year and century yr\")\n",
    "\n",
    "else :\n",
    "    print(\"not a leap and century yr\")"
   ]
  },
  {
   "cell_type": "code",
   "execution_count": 16,
   "id": "8a721010",
   "metadata": {},
   "outputs": [
    {
     "name": "stdout",
     "output_type": "stream",
     "text": [
      "enter a numb2\n",
      "positive\n"
     ]
    }
   ],
   "source": [
    "n=int(input(\"enter a numb\"))\n",
    "if n>=1:\n",
    "    print(\"positive\")\n",
    "elif n<0:\n",
    "    print(\"negative\")\n",
    "else:\n",
    "    print(\"zero\")"
   ]
  },
  {
   "cell_type": "code",
   "execution_count": 17,
   "id": "5e29d0e3",
   "metadata": {},
   "outputs": [
    {
     "name": "stdout",
     "output_type": "stream",
     "text": [
      "enter a age23\n",
      "old\n"
     ]
    }
   ],
   "source": [
    "age= int(input(\"enter a age\"))\n",
    "\n",
    "if 13<=age<=19:\n",
    "    print(\"teenager\")\n",
    "\n",
    "elif age>19:\n",
    "    print(\"old\")"
   ]
  },
  {
   "cell_type": "markdown",
   "id": "072a6454",
   "metadata": {},
   "source": [
    "a=int(input(\"enter angle\"))\n",
    "if 0<=a<90:\n",
    "    print(\"acute\")\n",
    "elif a==90:\n",
    "    print(\"right angle\")\n",
    "else:\n",
    "    print(\"obtuse\")"
   ]
  },
  {
   "cell_type": "code",
   "execution_count": 18,
   "id": "e549323e",
   "metadata": {},
   "outputs": [
    {
     "name": "stdout",
     "output_type": "stream",
     "text": [
      "Enter the coefficient 'a': 2\n",
      "Enter the coefficient 'b': 3\n",
      "Enter the coefficient 'c': 3\n",
      "The roots of the quadratic equation are:\n",
      "Root 1: (-0.75+0.9682458365518543j)\n",
      "Root 2: (-0.75-0.9682458365518543j)\n"
     ]
    }
   ],
   "source": [
    "import cmath  # Import the complex math module\n",
    "\n",
    "# Get the coefficients of the quadratic equation from the user\n",
    "a = float(input(\"Enter the coefficient 'a': \"))\n",
    "b = float(input(\"Enter the coefficient 'b': \"))\n",
    "c = float(input(\"Enter the coefficient 'c': \"))\n",
    "\n",
    "# Calculate the roots using the quadratic formula\n",
    "root1 = (-b + cmath.sqrt(b**2 - 4*a*c)) / (2*a)\n",
    "root2 = (-b - cmath.sqrt(b**2 - 4*a*c)) / (2*a)\n",
    "\n",
    "# Print the roots\n",
    "print(f\"The roots of the quadratic equation are:\")\n",
    "print(f\"Root 1: {root1}\")\n",
    "print(f\"Root 2: {root2}\")\n"
   ]
  },
  {
   "cell_type": "code",
   "execution_count": 19,
   "id": "e2ab101f",
   "metadata": {},
   "outputs": [
    {
     "name": "stdout",
     "output_type": "stream",
     "text": [
      "Enter a number (1 for Monday, 2 for Tuesday, etc.): 2\n",
      "The day corresponding to number 2 is Tuesday.\n"
     ]
    }
   ],
   "source": [
    "# Get the user input for the day number\n",
    "day_number = int(input(\"Enter a number (1 for Monday, 2 for Tuesday, etc.): \"))\n",
    "\n",
    "# Create a list of days of the week\n",
    "days_of_week = [\"Monday\", \"Tuesday\", \"Wednesday\", \"Thursday\", \"Friday\", \"Saturday\", \"Sunday\"]\n",
    "\n",
    "# Check if the provided number is within a valid range\n",
    "if 1 <= day_number <= 7:\n",
    "    # Subtract 1 from the input to access the correct index in the list\n",
    "    day_name = days_of_week[day_number - 1]\n",
    "    print(f\"The day corresponding to number {day_number} is {day_name}.\")\n",
    "else:\n",
    "    print(\"Invalid input. Please enter a number between 1 and 7.\")\n"
   ]
  },
  {
   "cell_type": "code",
   "execution_count": 20,
   "id": "ecdcaefc",
   "metadata": {},
   "outputs": [
    {
     "name": "stdout",
     "output_type": "stream",
     "text": [
      "enter a year2345\n",
      "not a leap and century yr\n"
     ]
    }
   ],
   "source": [
    "year=int(input(\"enter a year\"))\n",
    "if year%4==0 and year%400==0:\n",
    "    print(\"its a leap year and century yr\")\n",
    "\n",
    "else :\n",
    "    print(\"not a leap and century yr\")"
   ]
  },
  {
   "cell_type": "code",
   "execution_count": 21,
   "id": "f3959768",
   "metadata": {},
   "outputs": [
    {
     "name": "stdout",
     "output_type": "stream",
     "text": [
      "enter a num23\n",
      "prime num\n"
     ]
    }
   ],
   "source": [
    "n=int(input(\"enter a num\"))\n",
    "\n",
    "if n<2:\n",
    "    print(\"not prime num\")\n",
    "else:\n",
    "    print(\"prime num\")"
   ]
  },
  {
   "cell_type": "code",
   "execution_count": 23,
   "id": "3d38f4f1",
   "metadata": {},
   "outputs": [],
   "source": [
    "def check_prime(n):\n",
    "    if n <= 1 : \n",
    "        return False \n",
    "    elif n <=3 :\n",
    "        return  True \n",
    "    elif n%2 == 0 or n%3 == 0 :\n",
    "        return False \n",
    "    i = 5 \n",
    "    while i*i <=n:\n",
    "        if n %i == 0 or n %(i+2) == 0 :\n",
    "            return False \n",
    "        i+=6 \n",
    "    return True "
   ]
  },
  {
   "cell_type": "code",
   "execution_count": 24,
   "id": "9535f378",
   "metadata": {},
   "outputs": [
    {
     "data": {
      "text/plain": [
       "True"
      ]
     },
     "execution_count": 24,
     "metadata": {},
     "output_type": "execute_result"
    }
   ],
   "source": [
    "check_prime(5)"
   ]
  },
  {
   "cell_type": "markdown",
   "id": "da003f0a",
   "metadata": {},
   "source": [
    "# Elif Statements:"
   ]
  },
  {
   "cell_type": "code",
   "execution_count": 25,
   "id": "59df7b4a",
   "metadata": {},
   "outputs": [
    {
     "name": "stdout",
     "output_type": "stream",
     "text": [
      "enter a score lessthan or equal to b23\n",
      "Fail\n"
     ]
    }
   ],
   "source": [
    "score= int(input(\"enter a score lessthan or equal to b\"))\n",
    "b=600\n",
    "if (score/b*100)>=85:\n",
    "    print(\" grade is A\")\n",
    "elif (score/b*100>= 60) and  (score/b*100<= 85):\n",
    "    print(\" grade is B\")\n",
    "elif (score/b*100<=60) and     (score/b*100>=35):\n",
    "    print(\"grade is c\")\n",
    "elif score/b*100<35:\n",
    "    print(\"Fail\")\n",
    "    "
   ]
  },
  {
   "cell_type": "code",
   "execution_count": 26,
   "id": "626944a5",
   "metadata": {},
   "outputs": [
    {
     "name": "stdout",
     "output_type": "stream",
     "text": [
      "enter angle34\n",
      "acute angle trianle\n"
     ]
    }
   ],
   "source": [
    "a=int(input(\"enter angle\"))\n",
    "\n",
    "if 0<=a<90:\n",
    "    print(\"acute angle trianle\")\n",
    "elif a==90:\n",
    "    print(\"right angle trianle \")\n",
    "else:\n",
    "    print(\"obtuse angle trianle\")"
   ]
  },
  {
   "cell_type": "code",
   "execution_count": 27,
   "id": "8d680b59",
   "metadata": {},
   "outputs": [
    {
     "name": "stdout",
     "output_type": "stream",
     "text": [
      "enter a weight24\n",
      "morbidly obese\n"
     ]
    }
   ],
   "source": [
    "wt=int(input('enter a weight'))\n",
    "\n",
    "if wt <18.5:\n",
    "    print(\"under weight\")\n",
    "elif 18.5<=wt<-24.9:\n",
    "    print(\"Healthy weight\")\n",
    "elif 25<=wt<=29.9:\n",
    "    print(\"over weight\")\n",
    "elif 30<=wt<=34.9:\n",
    "    print(\"obese\")\n",
    "elif 35<=wt<=39.9:\n",
    "    print(\"severely obese\")\n",
    "else:\n",
    "    print(\"morbidly obese\")"
   ]
  },
  {
   "cell_type": "code",
   "execution_count": 28,
   "id": "9c87b992",
   "metadata": {},
   "outputs": [
    {
     "name": "stdout",
     "output_type": "stream",
     "text": [
      "enter a numb23\n",
      "positive\n"
     ]
    }
   ],
   "source": [
    "n=int(input(\"enter a numb\"))\n",
    "if n>=1:\n",
    "    print(\"positive\")\n",
    "elif n<0:\n",
    "    print(\"negative\")\n",
    "else:\n",
    "    print(\"zero\")"
   ]
  },
  {
   "cell_type": "code",
   "execution_count": 29,
   "id": "bc5d7bcf",
   "metadata": {},
   "outputs": [
    {
     "name": "stdout",
     "output_type": "stream",
     "text": [
      "enter a stringdfg\n",
      "lowercase\n"
     ]
    }
   ],
   "source": [
    "chr=str(input(\"enter a string\"))\n",
    "\n",
    "if chr.isupper():\n",
    "    print(\"uppercase\")\n",
    "elif chr.islower():\n",
    "    print(\"lowercase\")    \n",
    "else :\n",
    "    print(\"specia case\")"
   ]
  },
  {
   "cell_type": "code",
   "execution_count": 30,
   "id": "3b031b3a",
   "metadata": {
    "scrolled": true
   },
   "outputs": [
    {
     "name": "stdout",
     "output_type": "stream",
     "text": [
      "Enter the purchase amount: 23\n",
      "Discounted Price: $23.00\n"
     ]
    }
   ],
   "source": [
    "# Get the purchase amount from the user\n",
    "purchase_amount = float(input(\"Enter the purchase amount: \"))\n",
    "\n",
    "# Initialize discount variables\n",
    "discount = 0.0\n",
    "final_price = purchase_amount\n",
    "\n",
    "# Apply discounts based on different purchase amounts using elif statements\n",
    "if purchase_amount >= 100:\n",
    "    discount = 0.1  # 10% discount for purchases over $100\n",
    "elif purchase_amount >= 50:\n",
    "    discount = 0.05  # 5% discount for purchases over $50\n",
    "elif purchase_amount >= 25:\n",
    "    discount = 0.03  # 3% discount for purchases over $25\n",
    "\n",
    "# Calculate the final price after applying the discount\n",
    "final_price = purchase_amount - (purchase_amount * discount)\n",
    "\n",
    "# Print the discounted price\n",
    "print(f\"Discounted Price: ${final_price:.2f}\")\n"
   ]
  },
  {
   "cell_type": "code",
   "execution_count": 31,
   "id": "586bac42",
   "metadata": {},
   "outputs": [
    {
     "name": "stdout",
     "output_type": "stream",
     "text": [
      "enter yr2345\n",
      "enter monthjun\n",
      "not a leap yr and 30 days\n"
     ]
    }
   ],
   "source": [
    "yr=int(input(\"enter yr\"))\n",
    "mt=str(input(\"enter month\"))\n",
    "a=[\"jan\",\"mar\",\"may\",\"july\",\"sep\",\"nov\"]\n",
    "b=[\"feb\",\"april\",\"jun\",\"aug\",\"oct\",\"dec\"]\n",
    "mt=[a,b]\n",
    "\n",
    "if yr%4==0:\n",
    "    print(\"leap yr\")\n",
    "elif mt==a:\n",
    "    print(\"31 days\")\n",
    "elif mt==b:\n",
    "    print(\"30 days\")    \n",
    "else:    \n",
    "    print(\"not a leap yr and 30 days\")\n"
   ]
  },
  {
   "cell_type": "code",
   "execution_count": 32,
   "id": "199ea443",
   "metadata": {},
   "outputs": [
    {
     "name": "stdout",
     "output_type": "stream",
     "text": [
      "Enter the coefficient 'a': 2\n",
      "Enter the coefficient 'b': 33\n",
      "Enter the coefficient 'c': 4\n",
      "The roots of the quadratic equation are:\n",
      "Root 1: (-0.1221158964955702+0j)\n",
      "Root 2: (-16.377884103504428+0j)\n"
     ]
    }
   ],
   "source": [
    "import cmath  # Import the complex math module\n",
    "\n",
    "# Get the coefficients of the quadratic equation from the user\n",
    "a = float(input(\"Enter the coefficient 'a': \"))\n",
    "b = float(input(\"Enter the coefficient 'b': \"))\n",
    "c = float(input(\"Enter the coefficient 'c': \"))\n",
    "\n",
    "# Calculate the roots using the quadratic formula\n",
    "root1 = (-b + cmath.sqrt(b**2 - 4*a*c)) / (2*a)\n",
    "root2 = (-b - cmath.sqrt(b**2 - 4*a*c)) / (2*a)\n",
    "\n",
    "# Print the roots\n",
    "print(f\"The roots of the quadratic equation are:\")\n",
    "print(f\"Root 1: {root1}\")\n",
    "print(f\"Root 2: {root2}\")\n"
   ]
  },
  {
   "cell_type": "code",
   "execution_count": 33,
   "id": "f3eb75e3",
   "metadata": {},
   "outputs": [
    {
     "name": "stdout",
     "output_type": "stream",
     "text": [
      "Enter a number (1 for Monday, 2 for Tuesday, etc.): 3\n",
      "The day corresponding to number 3 is Wednesday.\n"
     ]
    }
   ],
   "source": [
    "# Get the user input for the day number\n",
    "day_number = int(input(\"Enter a number (1 for Monday, 2 for Tuesday, etc.): \"))\n",
    "\n",
    "# Create a list of days of the week\n",
    "days_of_week = [\"Monday\", \"Tuesday\", \"Wednesday\", \"Thursday\", \"Friday\", \"Saturday\", \"Sunday\"]\n",
    "\n",
    "# Check if the provided number is within a valid range\n",
    "if 1 <= day_number <= 7:\n",
    "    # Subtract 1 from the input to access the correct index in the list\n",
    "    day_name = days_of_week[day_number - 1]\n",
    "    print(f\"The day corresponding to number {day_number} is {day_name}.\")\n",
    "else:\n",
    "    print(\"Invalid input. Please enter a number between 1 and 7.\")\n"
   ]
  },
  {
   "cell_type": "code",
   "execution_count": 34,
   "id": "440bef97",
   "metadata": {},
   "outputs": [
    {
     "name": "stdout",
     "output_type": "stream",
     "text": [
      "Enter a non-negative integer to calculate its factorial: 23\n",
      "The factorial of 23 is 25852016738884976640000\n"
     ]
    }
   ],
   "source": [
    "# Define a recursive function to calculate the factorial\n",
    "def factorial(n):\n",
    "    if n == 0:\n",
    "        return 1\n",
    "    else:\n",
    "        return n * factorial(n - 1)\n",
    "\n",
    "# Get the input number from the user\n",
    "num = int(input(\"Enter a non-negative integer to calculate its factorial: \"))\n",
    "\n",
    "# Check if the input is non-negative\n",
    "if num < 0:\n",
    "    print(\"Factorial is not defined for negative numbers.\")\n",
    "else:\n",
    "    result = factorial(num)\n",
    "    print(f\"The factorial of {num} is {result}\")\n"
   ]
  },
  {
   "cell_type": "code",
   "execution_count": 35,
   "id": "7d05d9cb",
   "metadata": {},
   "outputs": [
    {
     "name": "stdout",
     "output_type": "stream",
     "text": [
      "enter no2\n",
      "enter no3\n",
      "enter no4\n",
      "largest no 4\n"
     ]
    }
   ],
   "source": [
    "num1=int(input(\"enter no\"))\n",
    "num2=int(input(\"enter no\"))\n",
    "num3=int(input(\"enter no\"))\n",
    "\n",
    "if (num1>=num2) and (num1>=num3):\n",
    "    print(\"largest no\",num1)\n",
    "elif (num2>=num3) and (num2>=num1):\n",
    "    print(\"largest no\",num2)\n",
    "elif (num3>=num2) and (num3>=num1):\n",
    "    print(\"largest no\",num3)"
   ]
  },
  {
   "cell_type": "code",
   "execution_count": 36,
   "id": "a7e968f5",
   "metadata": {},
   "outputs": [
    {
     "name": "stdout",
     "output_type": "stream",
     "text": [
      "The average of the list excluding the extremes is: 33.80\n"
     ]
    }
   ],
   "source": [
    "def calculate_average_excluding_extremes(numbers):\n",
    "    if len(numbers) < 3:\n",
    "        return \"The list must have at least three numbers to calculate an average.\"\n",
    "\n",
    "    # Sort the list in ascending order\n",
    "    sorted_numbers = sorted(numbers)\n",
    "\n",
    "    # Remove the smallest and largest values\n",
    "    trimmed_numbers = sorted_numbers[1:-1]\n",
    "\n",
    "    # Calculate the average of the trimmed list\n",
    "    average = sum(trimmed_numbers) / len(trimmed_numbers)\n",
    "\n",
    "    return average\n",
    "\n",
    "# Example usage:\n",
    "numbers = [12, 45, 67, 23, 9, 58, 31]\n",
    "average = calculate_average_excluding_extremes(numbers)\n",
    "print(f\"The average of the list excluding the extremes is: {average:.2f}\")\n"
   ]
  },
  {
   "cell_type": "code",
   "execution_count": 37,
   "id": "f8b1d795",
   "metadata": {},
   "outputs": [
    {
     "name": "stdout",
     "output_type": "stream",
     "text": [
      "Enter a temperature in Celsius: 13\n",
      "13.0 degrees Celsius is equal to 55.40 degrees Fahrenheit.\n"
     ]
    }
   ],
   "source": [
    "# Function to convert Celsius to Fahrenheit\n",
    "def celsius_to_fahrenheit(celsius):\n",
    "    fahrenheit = (celsius * 9/5) + 32\n",
    "    return fahrenheit\n",
    "\n",
    "# Input from the user\n",
    "celsius = float(input(\"Enter a temperature in Celsius: \"))\n",
    "\n",
    "# Call the conversion function\n",
    "fahrenheit = celsius_to_fahrenheit(celsius)\n",
    "\n",
    "# Display the result\n",
    "print(f\"{celsius} degrees Celsius is equal to {fahrenheit:.2f} degrees Fahrenheit.\")\n"
   ]
  },
  {
   "cell_type": "code",
   "execution_count": 41,
   "id": "32ece219",
   "metadata": {},
   "outputs": [
    {
     "name": "stdout",
     "output_type": "stream",
     "text": [
      "enter a num1\n",
      "enter a num2\n"
     ]
    },
    {
     "ename": "TypeError",
     "evalue": "'int' object is not iterable",
     "output_type": "error",
     "traceback": [
      "\u001b[1;31m---------------------------------------------------------------------------\u001b[0m",
      "\u001b[1;31mTypeError\u001b[0m                                 Traceback (most recent call last)",
      "\u001b[1;32m~\\AppData\\Local\\Temp/ipykernel_12240/3133684764.py\u001b[0m in \u001b[0;36m<module>\u001b[1;34m\u001b[0m\n\u001b[0;32m      7\u001b[0m \u001b[1;33m\u001b[0m\u001b[0m\n\u001b[0;32m      8\u001b[0m \u001b[1;32mif\u001b[0m \u001b[0madd\u001b[0m\u001b[1;33m:\u001b[0m\u001b[1;33m\u001b[0m\u001b[1;33m\u001b[0m\u001b[0m\n\u001b[1;32m----> 9\u001b[1;33m     \u001b[0mprint\u001b[0m\u001b[1;33m(\u001b[0m\u001b[0msum\u001b[0m\u001b[1;33m(\u001b[0m\u001b[0ma\u001b[0m\u001b[1;33m,\u001b[0m\u001b[0mb\u001b[0m\u001b[1;33m)\u001b[0m\u001b[1;33m)\u001b[0m\u001b[1;33m\u001b[0m\u001b[1;33m\u001b[0m\u001b[0m\n\u001b[0m\u001b[0;32m     10\u001b[0m \u001b[1;32melif\u001b[0m \u001b[0msub\u001b[0m\u001b[1;33m:\u001b[0m\u001b[1;33m\u001b[0m\u001b[1;33m\u001b[0m\u001b[0m\n\u001b[0;32m     11\u001b[0m     \u001b[0mprint\u001b[0m\u001b[1;33m(\u001b[0m\u001b[0ma\u001b[0m\u001b[1;33m-\u001b[0m\u001b[0mb\u001b[0m\u001b[1;33m)\u001b[0m\u001b[1;33m\u001b[0m\u001b[1;33m\u001b[0m\u001b[0m\n",
      "\u001b[1;31mTypeError\u001b[0m: 'int' object is not iterable"
     ]
    }
   ],
   "source": [
    "a= int(input(\"enter a num\"))\n",
    "b=int(input(\"enter a num\"))\n",
    "add=a+b\n",
    "sub=a-b\n",
    "multi=a*b\n",
    "dev=a/b\n",
    "\n",
    "if add:\n",
    "    print(sum(a,b))\n",
    "elif sub:\n",
    "    print(a-b)\n",
    "elif multi:\n",
    "    print(a*b)\n",
    "elif dev:\n",
    "    print(a/b)\n",
    "else:\n",
    "    print(\"none\")"
   ]
  },
  {
   "cell_type": "code",
   "execution_count": 42,
   "id": "5c0ff10a",
   "metadata": {},
   "outputs": [
    {
     "name": "stdout",
     "output_type": "stream",
     "text": [
      "Enter coefficient a: 1\n",
      "Enter coefficient b: 2\n",
      "Enter coefficient c: 3\n",
      "Enter coefficient d: 3\n",
      "Roots of the cubic equation:\n",
      "Root 1: (-1.7540917377419287+0j)\n",
      "Root 2: (-0.12295413112903553+0.35401463254542864j)\n",
      "Root 3: (-0.12295413112903553-0.35401463254542864j)\n"
     ]
    }
   ],
   "source": [
    "### import cmath  # Import the complex math module for handling complex roots\n",
    "\n",
    "# Function to calculate the real roots of a cubic equation using Cardano's formula\n",
    "def cubic_roots(a, b, c, d):\n",
    "    # Calculate the discriminant and its square root\n",
    "    discriminant = (18 * a * b * c * d) - (4 * b**3 * d) + (b**2 * c**2) - (4 * a * c**3) - (27 * a**2 * d**2)\n",
    "    discriminant_sqrt = cmath.sqrt(discriminant)\n",
    "\n",
    "    # Calculate the intermediate values\n",
    "    alpha = ((3 * a * c - b**2) + discriminant_sqrt) / (2 * (a**2))\n",
    "    beta = ((3 * a * c - b**2) - discriminant_sqrt) / (2 * (a**2))\n",
    "\n",
    "    # Calculate the cube roots of alpha and beta\n",
    "    cube_root_alpha = alpha ** (1 / 3)\n",
    "    cube_root_beta = beta ** (1 / 3)\n",
    "\n",
    "    # Calculate the roots using Cardano's formula\n",
    "    root1 = -b / (3 * a) - (1 / (3 * a)) * (cube_root_alpha + cube_root_beta)\n",
    "    root2 = -b / (3 * a) + (1 / (6 * a)) * (cube_root_alpha + cube_root_beta) + (1 / (6 * a)) * cmath.sqrt(3) * (cube_root_alpha - cube_root_beta)\n",
    "    root3 = -b / (3 * a) + (1 / (6 * a)) * (cube_root_alpha + cube_root_beta) - (1 / (6 * a)) * cmath.sqrt(3) * (cube_root_alpha - cube_root_beta)\n",
    "\n",
    "    return root1, root2, root3\n",
    "\n",
    "# Input coefficients for the cubic equation\n",
    "a = float(input(\"Enter coefficient a: \"))\n",
    "b = float(input(\"Enter coefficient b: \"))\n",
    "c = float(input(\"Enter coefficient c: \"))\n",
    "d = float(input(\"Enter coefficient d: \"))\n",
    "\n",
    "# Calculate the roots\n",
    "roots = cubic_roots(a, b, c, d)\n",
    "\n",
    "# Display the roots\n",
    "print(\"Roots of the cubic equation:\")\n",
    "for i, root in enumerate(roots, start=1):\n",
    "    print(f\"Root {i}: {root}\")\n"
   ]
  },
  {
   "cell_type": "code",
   "execution_count": 45,
   "id": "2e5a21d6",
   "metadata": {},
   "outputs": [
    {
     "name": "stdout",
     "output_type": "stream",
     "text": [
      "Enter your income: $2345\n",
      "Your income tax is: $234.50\n"
     ]
    }
   ],
   "source": [
    "# Define tax brackets and corresponding tax rates\n",
    "tax_brackets = [(0, 9875), (9876, 40125), (40126, 85525), (85526, 163300), (163301, 207350), (207351, 518400), (518401, float('inf'))]\n",
    "tax_rates = [0.10, 0.12, 0.22, 0.24, 0.32, 0.35, 0.37]\n",
    "\n",
    "# Function to calculate income tax\n",
    "def calculate_income_tax(income):\n",
    "    tax_owed = 0\n",
    "    remaining_income = income\n",
    "\n",
    "    for i in range(len(tax_brackets)):\n",
    "        low, high = tax_brackets[i]\n",
    "        rate = tax_rates[i]\n",
    "\n",
    "        if remaining_income <= 0:\n",
    "            break\n",
    "\n",
    "        if remaining_income >= (high - low):\n",
    "            tax_owed += (high - low) * rate\n",
    "            remaining_income -= (high - low)\n",
    "        else:\n",
    "            tax_owed += remaining_income * rate\n",
    "            remaining_income = 0\n",
    "\n",
    "    return tax_owed\n",
    "\n",
    "# Input income from the user\n",
    "income = float(input(\"Enter your income: $\"))\n",
    "\n",
    "# Calculate income tax\n",
    "tax_owed = calculate_income_tax(income)\n",
    "\n",
    "# Display the calculated income tax\n",
    "print(f\"Your income tax is: ${tax_owed:.2f}\")\n"
   ]
  },
  {
   "cell_type": "code",
   "execution_count": 46,
   "id": "90306e75",
   "metadata": {},
   "outputs": [
    {
     "name": "stdout",
     "output_type": "stream",
     "text": [
      "Enter your choice (rock, paper, or scissors): rock\n",
      "You chose rock.\n",
      "Computer chose paper.\n",
      "Computer wins!\n",
      "Do you want to play again? (yes/no): no\n"
     ]
    }
   ],
   "source": [
    "import random\n",
    "\n",
    "# Function to get the user's choice\n",
    "def get_user_choice():\n",
    "    user_choice = input(\"Enter your choice (rock, paper, or scissors): \").lower()\n",
    "    while user_choice not in [\"rock\", \"paper\", \"scissors\"]:\n",
    "        print(\"Invalid choice. Please enter 'rock', 'paper', or 'scissors'.\")\n",
    "        user_choice = input(\"Enter your choice (rock, paper, or scissors): \").lower()\n",
    "    return user_choice\n",
    "\n",
    "# Function to get the computer's choice\n",
    "def get_computer_choice():\n",
    "    computer_choice = random.choice([\"rock\", \"paper\", \"scissors\"])\n",
    "    return computer_choice\n",
    "\n",
    "# Function to determine the winner\n",
    "def determine_winner(user_choice, computer_choice):\n",
    "    if user_choice == computer_choice:\n",
    "        return \"It's a tie!\"\n",
    "    elif (user_choice == \"rock\" and computer_choice == \"scissors\") or \\\n",
    "         (user_choice == \"scissors\" and computer_choice == \"paper\") or \\\n",
    "         (user_choice == \"paper\" and computer_choice == \"rock\"):\n",
    "        return \"You win!\"\n",
    "    else:\n",
    "        return \"Computer wins!\"\n",
    "\n",
    "# Main game loop\n",
    "while True:\n",
    "    user_choice = get_user_choice()\n",
    "    computer_choice = get_computer_choice()\n",
    "\n",
    "    print(f\"You chose {user_choice}.\")\n",
    "    print(f\"Computer chose {computer_choice}.\")\n",
    "\n",
    "    result = determine_winner(user_choice, computer_choice)\n",
    "    print(result)\n",
    "\n",
    "    play_again = input(\"Do you want to play again? (yes/no): \").lower()\n",
    "    if play_again != \"yes\":\n",
    "        break\n"
   ]
  },
  {
   "cell_type": "code",
   "execution_count": 47,
   "id": "361a7b29",
   "metadata": {},
   "outputs": [
    {
     "name": "stdout",
     "output_type": "stream",
     "text": [
      "Enter the desired password length: 4\n",
      "Do you want to include special characters? (yes/no): yes\n",
      "Generated Password: <nI:\n"
     ]
    }
   ],
   "source": [
    "import random\n",
    "import string\n",
    "\n",
    "# Function to generate a random password\n",
    "def generate_password(length, complex_chars):\n",
    "    if complex_chars:\n",
    "        characters = string.ascii_letters + string.digits + string.punctuation\n",
    "    else:\n",
    "        characters = string.ascii_letters + string.digits\n",
    "\n",
    "    password = ''.join(random.choice(characters) for _ in range(length))\n",
    "    return password\n",
    "\n",
    "# Input preferences from the user\n",
    "length = int(input(\"Enter the desired password length: \"))\n",
    "complexity = input(\"Do you want to include special characters? (yes/no): \").lower()\n",
    "\n",
    "if complexity == \"yes\":\n",
    "    complex_chars = True\n",
    "else:\n",
    "    complex_chars = False\n",
    "\n",
    "# Generate the password\n",
    "password = generate_password(length, complex_chars)\n",
    "\n",
    "# Display the generated password\n",
    "print(\"Generated Password:\", password)\n"
   ]
  },
  {
   "cell_type": "code",
   "execution_count": 48,
   "id": "8cc8e7dc",
   "metadata": {},
   "outputs": [
    {
     "name": "stdout",
     "output_type": "stream",
     "text": [
      "Welcome to the Text-Based Adventure Game!\n",
      "You find yourself standing at a fork in the road.\n",
      "Each path leads to a different adventure.\n",
      "Choose wisely!\n",
      "\n",
      "You can go 'left' or 'right'.\n",
      "Which path do you choose? right\n",
      "You wander into a dark cave and encounter a group of trolls. You lose!\n",
      "\n",
      "Do you want to play again? (yes/no): no\n",
      "Thanks for playing! Goodbye.\n"
     ]
    }
   ],
   "source": [
    "import time\n",
    "\n",
    "# Function for introducing the game\n",
    "def introduction():\n",
    "    print(\"Welcome to the Text-Based Adventure Game!\")\n",
    "    time.sleep(1)\n",
    "    print(\"You find yourself standing at a fork in the road.\")\n",
    "    time.sleep(1)\n",
    "    print(\"Each path leads to a different adventure.\")\n",
    "    time.sleep(1)\n",
    "    print(\"Choose wisely!\")\n",
    "\n",
    "# Function to handle the first decision\n",
    "def first_decision():\n",
    "    print(\"\\nYou can go 'left' or 'right'.\")\n",
    "    choice = input(\"Which path do you choose? \").lower()\n",
    "    if choice == \"left\":\n",
    "        print(\"You encounter a friendly dragon who gives you a treasure. You win!\")\n",
    "    elif choice == \"right\":\n",
    "        print(\"You wander into a dark cave and encounter a group of trolls. You lose!\")\n",
    "    else:\n",
    "        print(\"Invalid choice. Please enter 'left' or 'right'.\")\n",
    "        first_decision()\n",
    "\n",
    "# Function to replay or end the game\n",
    "def play_again():\n",
    "    choice = input(\"\\nDo you want to play again? (yes/no): \").lower()\n",
    "    if choice == \"yes\":\n",
    "        start_game()\n",
    "    else:\n",
    "        print(\"Thanks for playing! Goodbye.\")\n",
    "\n",
    "# Function to start the game\n",
    "def start_game():\n",
    "    introduction()\n",
    "    first_decision()\n",
    "    play_again()\n",
    "\n",
    "# Start the game\n",
    "start_game()\n"
   ]
  },
  {
   "cell_type": "code",
   "execution_count": 49,
   "id": "9d04e6ac",
   "metadata": {},
   "outputs": [
    {
     "name": "stdout",
     "output_type": "stream",
     "text": [
      "Enter the coefficient a: 1\n",
      "Enter the coefficient b: 2\n",
      "The solution is x = -2.0\n"
     ]
    }
   ],
   "source": [
    "# Function to solve a linear equation of the form ax + b = 0\n",
    "def solve_linear_equation(a, b):\n",
    "    if a == 0:\n",
    "        if b == 0:\n",
    "            return \"Infinite solutions (0x = 0)\"\n",
    "        else:\n",
    "            return \"No solution (0x = b, where b is non-zero)\"\n",
    "    else:\n",
    "        x = -b / a\n",
    "        return f\"The solution is x = {x}\"\n",
    "\n",
    "# Input coefficients from the user\n",
    "a = float(input(\"Enter the coefficient a: \"))\n",
    "b = float(input(\"Enter the coefficient b: \"))\n",
    "\n",
    "# Solve the linear equation\n",
    "solution = solve_linear_equation(a, b)\n",
    "\n",
    "# Display the solution\n",
    "print(solution)\n"
   ]
  },
  {
   "cell_type": "code",
   "execution_count": 51,
   "id": "e702ebb7",
   "metadata": {},
   "outputs": [
    {
     "name": "stdout",
     "output_type": "stream",
     "text": [
      "Welcome to the Quiz Game!\n",
      "Enter your name: ragini\n",
      "Hello, ragini! Let's start the quiz.\n",
      "\n",
      "Question 1: What is the capital of France?\n",
      "A) Paris\n",
      "B) London\n",
      "C) Berlin\n",
      "D) Madrid\n",
      "Your answer (A/B/C/D): A\n",
      "Correct!\n",
      "\n",
      "\n",
      "Question 2: Which planet is known as the Red Planet?\n",
      "A) Earth\n",
      "B) Mars\n",
      "C) Venus\n",
      "D) Jupiter\n",
      "Your answer (A/B/C/D): B\n",
      "Correct!\n",
      "\n",
      "\n",
      "Question 3: What is the largest mammal in the world?\n",
      "A) Elephant\n",
      "B) Giraffe\n",
      "C) Blue Whale\n",
      "D) Lion\n",
      "Your answer (A/B/C/D): C\n",
      "Correct!\n",
      "\n",
      "\n",
      "Congratulations, ragini! Your score is: 3/3\n"
     ]
    }
   ],
   "source": [
    "# Quiz questions and answers\n",
    "questions = [\n",
    "    {\n",
    "        \"question\": \"What is the capital of France?\",\n",
    "        \"options\": [\"A) Paris\", \"B) London\", \"C) Berlin\", \"D) Madrid\"],\n",
    "        \"correct_answer\": \"A\"\n",
    "    },\n",
    "    {\n",
    "        \"question\": \"Which planet is known as the Red Planet?\",\n",
    "        \"options\": [\"A) Earth\", \"B) Mars\", \"C) Venus\", \"D) Jupiter\"],\n",
    "        \"correct_answer\": \"B\"\n",
    "    },\n",
    "    {\n",
    "        \"question\": \"What is the largest mammal in the world?\",\n",
    "        \"options\": [\"A) Elephant\", \"B) Giraffe\", \"C) Blue Whale\", \"D) Lion\"],\n",
    "        \"correct_answer\": \"C\"\n",
    "    }\n",
    "]\n",
    "\n",
    "# Function to display and score the quiz\n",
    "def play_quiz(questions):\n",
    "    score = 0\n",
    "    for i, question in enumerate(questions, start=1):\n",
    "        print(f\"\\nQuestion {i}: {question['question']}\")\n",
    "        for option in question['options']:\n",
    "            print(option)\n",
    "\n",
    "        user_answer = input(\"Your answer (A/B/C/D): \").upper()\n",
    "\n",
    "        if user_answer == question['correct_answer']:\n",
    "            print(\"Correct!\\n\")\n",
    "            score += 1\n",
    "        else:\n",
    "            print(f\"Wrong! The correct answer is {question['correct_answer']}.\\n\")\n",
    "\n",
    "    return score\n",
    "\n",
    "# Main program\n",
    "print(\"Welcome to the Quiz Game!\")\n",
    "player_name = input(\"Enter your name: \")\n",
    "print(f\"Hello, {player_name}! Let's start the quiz.\")\n",
    "\n",
    "player_score = play_quiz(questions)\n",
    "\n",
    "print(f\"\\nCongratulations, {player_name}! Your score is: {player_score}/{len(questions)}\")\n"
   ]
  },
  {
   "cell_type": "code",
   "execution_count": 52,
   "id": "3bc1d189",
   "metadata": {},
   "outputs": [
    {
     "name": "stdout",
     "output_type": "stream",
     "text": [
      "Enter the first number: 2\n",
      "Enter the second number: 4\n",
      "Enter the third number: 5\n",
      "Numbers in ascending order: 2.0 4.0 5.0\n"
     ]
    }
   ],
   "source": [
    "# Input three numbers from the user\n",
    "num1 = float(input(\"Enter the first number: \"))\n",
    "num2 = float(input(\"Enter the second number: \"))\n",
    "num3 = float(input(\"Enter the third number: \"))\n",
    "\n",
    "# Sort the numbers in ascending order using conditional statements\n",
    "if num1 <= num2 and num1 <= num3:\n",
    "    smallest = num1\n",
    "    if num2 <= num3:\n",
    "        middle = num2\n",
    "        largest = num3\n",
    "    else:\n",
    "        middle = num3\n",
    "        largest = num2\n",
    "elif num2 <= num1 and num2 <= num3:\n",
    "    smallest = num2\n",
    "    if num1 <= num3:\n",
    "        middle = num1\n",
    "        largest = num3\n",
    "    else:\n",
    "        middle = num3\n",
    "        largest = num1\n",
    "else:\n",
    "    smallest = num3\n",
    "    if num1 <= num2:\n",
    "        middle = num1\n",
    "        largest = num2\n",
    "    else:\n",
    "        middle = num2\n",
    "        largest = num1\n",
    "\n",
    "# Display the sorted numbers\n",
    "print(\"Numbers in ascending order:\", smallest, middle, largest)\n"
   ]
  },
  {
   "cell_type": "code",
   "execution_count": 53,
   "id": "32d02f5a",
   "metadata": {},
   "outputs": [
    {
     "name": "stdout",
     "output_type": "stream",
     "text": [
      "Enter a password: ragibi\n",
      "Password is not valid. Please ensure it is at least 8 characters long and contains both uppercase and lowercase letters, as well as at least one digit.\n"
     ]
    }
   ],
   "source": [
    "# Function to validate a password\n",
    "def is_valid_password(password):\n",
    "    if len(password) < 8:\n",
    "        return False\n",
    "\n",
    "    has_lowercase = any(char.islower() for char in password)\n",
    "    has_uppercase = any(char.isupper() for char in password)\n",
    "    has_digit = any(char.isdigit() for char in password)\n",
    "\n",
    "    return has_lowercase and has_uppercase and has_digit\n",
    "\n",
    "# Input a password from the user\n",
    "password = input(\"Enter a password: \")\n",
    "\n",
    "# Check if the password is valid\n",
    "if is_valid_password(password):\n",
    "    print(\"Password is valid.\")\n",
    "else:\n",
    "    print(\"Password is not valid. Please ensure it is at least 8 characters long and contains both uppercase and lowercase letters, as well as at least one digit.\")\n"
   ]
  },
  {
   "cell_type": "code",
   "execution_count": 54,
   "id": "e4fd4869",
   "metadata": {},
   "outputs": [
    {
     "name": "stdout",
     "output_type": "stream",
     "text": [
      "Enter the first number: 3\n",
      "Enter the second number: 4\n",
      "The GCD of 3 and 4 is: 1\n"
     ]
    }
   ],
   "source": [
    "# Function to calculate the GCD using the Euclidean algorithm\n",
    "def calculate_gcd(a, b):\n",
    "    while b:\n",
    "        a, b = b, a % b\n",
    "    return a\n",
    "\n",
    "# Input two numbers from the user\n",
    "num1 = int(input(\"Enter the first number: \"))\n",
    "num2 = int(input(\"Enter the second number: \"))\n",
    "\n",
    "# Calculate the GCD\n",
    "gcd = calculate_gcd(num1, num2)\n",
    "\n",
    "# Display the GCD\n",
    "print(f\"The GCD of {num1} and {num2} is: {gcd}\")\n"
   ]
  },
  {
   "cell_type": "code",
   "execution_count": 60,
   "id": "e511015e",
   "metadata": {},
   "outputs": [
    {
     "name": "stdout",
     "output_type": "stream",
     "text": [
      "Enter the number of Fibonacci terms to generate: 12\n",
      "Fibonacci Sequence (up to the 12 term):\n",
      "[0, 1, 1, 2, 3, 5, 8, 13, 21, 34, 55, 89, 144]\n"
     ]
    }
   ],
   "source": [
    "# Function to generate Fibonacci numbers iteratively\n",
    "def generate_fibonacci(n):\n",
    "    fibonacci_sequence = [0, 1]\n",
    "\n",
    "    if n <= 1:\n",
    "        return fibonacci_sequence[:n+1]\n",
    "\n",
    "    for i in range(2, n+1):\n",
    "        next_number = fibonacci_sequence[i-1] + fibonacci_sequence[i-2]\n",
    "        fibonacci_sequence.append(next_number)\n",
    "\n",
    "    return fibonacci_sequence\n",
    "\n",
    "# Input the number of terms from the user\n",
    "n = int(input(\"Enter the number of Fibonacci terms to generate: \"))\n",
    "\n",
    "# Generate and display the Fibonacci sequence\n",
    "if n <= 0:\n",
    "    print(\"Please enter a positive number.\")\n",
    "else:\n",
    "    fibonacci_sequence = generate_fibonacci(n)\n",
    "    print(\"Fibonacci Sequence (up to the\", n, \"term):\")\n",
    "    print(fibonacci_sequence)\n"
   ]
  },
  {
   "cell_type": "code",
   "execution_count": 62,
   "id": "838bc866",
   "metadata": {},
   "outputs": [
    {
     "name": "stdout",
     "output_type": "stream",
     "text": [
      "Welcome to Blackjack!\n",
      "\n",
      "Your hand: ['3', '2']\n",
      "Computer's face-up card: 5\n",
      "Do you want to 'hit' or 'stand'? hit\n",
      "Your hand: ['3', '2', '4']\n",
      "Do you want to 'hit' or 'stand'? stand\n",
      "\n",
      "Your hand: ['3', '2', '4']\n",
      "Computer's hand: ['5', '4', 'Q']\n",
      "You lose.\n"
     ]
    }
   ],
   "source": [
    "import random\n",
    "\n",
    "# Function to calculate the total value of a hand\n",
    "def calculate_hand_value(hand):\n",
    "    value = 0\n",
    "    num_aces = 0\n",
    "\n",
    "    for card in hand:\n",
    "        if card in 'JQK':\n",
    "            value += 10\n",
    "        elif card == 'A':\n",
    "            value += 11\n",
    "            num_aces += 1\n",
    "        else:\n",
    "            value += int(card)\n",
    "\n",
    "    while value > 21 and num_aces:\n",
    "        value -= 10\n",
    "        num_aces -= 1\n",
    "\n",
    "    return value\n",
    "\n",
    "# Function to deal a card\n",
    "def deal_card():\n",
    "    return random.choice('23456789TJQKA')\n",
    "\n",
    "# Main game loop\n",
    "def blackjack_game():\n",
    "    player_hand = [deal_card(), deal_card()]\n",
    "    computer_hand = [deal_card(), deal_card()]\n",
    "\n",
    "    print(\"Welcome to Blackjack!\\n\")\n",
    "    print(\"Your hand:\", player_hand)\n",
    "    print(\"Computer's face-up card:\", computer_hand[0])\n",
    "\n",
    "    while calculate_hand_value(player_hand) < 21:\n",
    "        action = input(\"Do you want to 'hit' or 'stand'? \").lower()\n",
    "        if action == 'hit':\n",
    "            player_hand.append(deal_card())\n",
    "            print(\"Your hand:\", player_hand)\n",
    "        elif action == 'stand':\n",
    "            break\n",
    "\n",
    "    while calculate_hand_value(computer_hand) < 17:\n",
    "        computer_hand.append(deal_card())\n",
    "\n",
    "    print(\"\\nYour hand:\", player_hand)\n",
    "    print(\"Computer's hand:\", computer_hand)\n",
    "\n",
    "    player_value = calculate_hand_value(player_hand)\n",
    "    computer_value = calculate_hand_value(computer_hand)\n",
    "\n",
    "    if player_value > 21:\n",
    "        print(\"Bust! You lose.\")\n",
    "    elif computer_value > 21:\n",
    "        print(\"Computer busts! You win.\")\n",
    "    elif player_value > computer_value:\n",
    "        print(\"You win!\")\n",
    "    elif player_value < computer_value:\n",
    "        print(\"You lose.\")\n",
    "    else:\n",
    "        print(\"It's a tie!\")\n",
    "\n",
    "# Start the game\n",
    "blackjack_game()\n"
   ]
  },
  {
   "cell_type": "code",
   "execution_count": 68,
   "id": "f0d134ad",
   "metadata": {},
   "outputs": [
    {
     "name": "stdout",
     "output_type": "stream",
     "text": [
      "Enter a number to find its prime factors: 23\n",
      "The prime factors of 23 are: [23]\n"
     ]
    }
   ],
   "source": [
    "# Function to find and print the prime factors of a number\n",
    "def prime_factors(n):\n",
    "    factors = []\n",
    "    div = 2\n",
    "\n",
    "    while n > 1:\n",
    "        while n % div == 0:\n",
    "            factors.append(div)\n",
    "            n //= div\n",
    "        div += 1\n",
    "\n",
    "    return factors\n",
    "\n",
    "# Input a number from the user\n",
    "number = int(input(\"Enter a number to find its prime factors: \"))\n",
    "\n",
    "if number < 2:\n",
    "    print(\"Prime factors are not defined for numbers less than 2.\")\n",
    "else:\n",
    "    factors = prime_factors(number)\n",
    "    if len(factors) == 0:\n",
    "        print(f\"{number} is a prime number, and it has no prime factors.\")\n",
    "    else:\n",
    "        print(f\"The prime factors of {number} are: {factors}\")\n"
   ]
  },
  {
   "cell_type": "code",
   "execution_count": null,
   "id": "bd513ba7",
   "metadata": {},
   "outputs": [],
   "source": []
  }
 ],
 "metadata": {
  "kernelspec": {
   "display_name": "Python 3 (ipykernel)",
   "language": "python",
   "name": "python3"
  },
  "language_info": {
   "codemirror_mode": {
    "name": "ipython",
    "version": 3
   },
   "file_extension": ".py",
   "mimetype": "text/x-python",
   "name": "python",
   "nbconvert_exporter": "python",
   "pygments_lexer": "ipython3",
   "version": "3.9.7"
  }
 },
 "nbformat": 4,
 "nbformat_minor": 5
}
