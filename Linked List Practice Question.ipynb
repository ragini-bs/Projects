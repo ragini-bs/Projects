{
 "cells": [
  {
   "cell_type": "markdown",
   "id": "b7bec9bf",
   "metadata": {},
   "source": [
    "1. Define a doubly linked list  [ Will be done in the class ]"
   ]
  },
  {
   "cell_type": "markdown",
   "id": "ecb80c82",
   "metadata": {},
   "source": [
    "A doubly linked list is a type of linked list where each node contains a data element and two pointers: one that points to the next node in the sequence, and another that points to the previous node. "
   ]
  },
  {
   "cell_type": "markdown",
   "id": "e9b829aa",
   "metadata": {},
   "source": [
    "2. Write a function to reverse a linked list in-place"
   ]
  },
  {
   "cell_type": "code",
   "execution_count": 2,
   "id": "ee310238",
   "metadata": {},
   "outputs": [
    {
     "name": "stdout",
     "output_type": "stream",
     "text": [
      "Original linked list:\n",
      "1 2 3 4 \n",
      "Reversed linked list:\n",
      "4 3 2 1 \n"
     ]
    }
   ],
   "source": [
    "class Node:\n",
    "    def __init__(self, data=None):\n",
    "        self.data = data\n",
    "        self.next = None\n",
    "\n",
    "def reverse_linked_list(head):\n",
    "    prev_node = None\n",
    "    curr_node = head\n",
    "    while curr_node:\n",
    "        next_node = curr_node.next\n",
    "        curr_node.next = prev_node\n",
    "        prev_node = curr_node\n",
    "        curr_node = next_node\n",
    "    return prev_node\n",
    "\n",
    "def print_linked_list(head):\n",
    "    curr_node = head\n",
    "    while curr_node:\n",
    "        print(curr_node.data, end=\" \")\n",
    "        curr_node = curr_node.next\n",
    "    print()\n",
    "\n",
    "# Example usage\n",
    "head = Node(1)\n",
    "head.next = Node(2)\n",
    "head.next.next = Node(3)\n",
    "head.next.next.next = Node(4)\n",
    "\n",
    "print(\"Original linked list:\")\n",
    "print_linked_list(head)\n",
    "\n",
    "head = reverse_linked_list(head)\n",
    "\n",
    "print(\"Reversed linked list:\")\n",
    "print_linked_list(head)\n"
   ]
  },
  {
   "cell_type": "markdown",
   "id": "b805f6ca",
   "metadata": {},
   "source": [
    " 3.Detect cycle in a linked list"
   ]
  },
  {
   "cell_type": "code",
   "execution_count": 12,
   "id": "ee45faeb",
   "metadata": {},
   "outputs": [
    {
     "name": "stdout",
     "output_type": "stream",
     "text": [
      "The linked list has a cycle\n"
     ]
    }
   ],
   "source": [
    "class Node:\n",
    "    def __init__(self, data=None):\n",
    "        self.data = data\n",
    "        self.next = None\n",
    "\n",
    "def has_cycle(head):\n",
    "    if not head or not head.next:\n",
    "        return False\n",
    "    slow = head\n",
    "    fast = head.next\n",
    "    while slow != fast:\n",
    "        if not fast or not fast.next:\n",
    "            return False\n",
    "        slow = slow.next\n",
    "        fast = fast.next.next\n",
    "    return True\n",
    "\n",
    "# Example usage\n",
    "head = Node(1)\n",
    "head.next = Node(2)\n",
    "head.next.next = Node(3)\n",
    "head.next.next.next = Node(4)\n",
    "head.next.next.next.next = head.next  # Create a cycle\n",
    "\n",
    "if has_cycle(head):\n",
    "    print(\"The linked list has a cycle\")\n",
    "else:\n",
    "    print(\"The linked list does not have a cycle\")\n"
   ]
  },
  {
   "cell_type": "markdown",
   "id": "a60abb16",
   "metadata": {},
   "source": [
    " 4.Merge two sorted linked list into one\n",
    " 1->3->5->6->null and 2->4->6->8->null should be merged to make\n",
    " 1->2->3->4->5->6->7->8"
   ]
  },
  {
   "cell_type": "code",
   "execution_count": 4,
   "id": "76e02530",
   "metadata": {},
   "outputs": [
    {
     "name": "stdout",
     "output_type": "stream",
     "text": [
      "1->2->3->4->5->6->6->8->None\n"
     ]
    }
   ],
   "source": [
    "class Node:\n",
    "    def __init__(self, data=None):\n",
    "        self.data = data\n",
    "        self.next = None\n",
    "\n",
    "def merge_sorted_lists(l1, l2):\n",
    "    dummy = Node()\n",
    "    tail = dummy\n",
    "\n",
    "    while l1 and l2:\n",
    "        if l1.data <= l2.data:\n",
    "            tail.next = l1\n",
    "            l1 = l1.next\n",
    "        else:\n",
    "            tail.next = l2\n",
    "            l2 = l2.next\n",
    "        tail = tail.next\n",
    "\n",
    "    tail.next = l1 or l2\n",
    "\n",
    "    return dummy.next\n",
    "\n",
    "def print_linked_list(head):\n",
    "    curr = head\n",
    "    while curr:\n",
    "        print(curr.data, end=\"->\")\n",
    "        curr = curr.next\n",
    "    print(\"None\")\n",
    "\n",
    "# Example usage\n",
    "l1 = Node(1)\n",
    "l1.next = Node(3)\n",
    "l1.next.next = Node(5)\n",
    "l1.next.next.next = Node(6)\n",
    "\n",
    "l2 = Node(2)\n",
    "l2.next = Node(4)\n",
    "l2.next.next = Node(6)\n",
    "l2.next.next.next = Node(8)\n",
    "\n",
    "merged = merge_sorted_lists(l1, l2)\n",
    "print_linked_list(merged)\n"
   ]
  },
  {
   "cell_type": "markdown",
   "id": "a66f2a10",
   "metadata": {},
   "source": [
    "5. Write a function to remove nth node from the end in a linked list\n",
    " 1->2->3->4->5->6, removing 2nd node from end will return 1->2->3->4->6"
   ]
  },
  {
   "cell_type": "code",
   "execution_count": 5,
   "id": "4987e616",
   "metadata": {},
   "outputs": [
    {
     "name": "stdout",
     "output_type": "stream",
     "text": [
      "1->2->3->4->6->None\n"
     ]
    }
   ],
   "source": [
    "class Node:\n",
    "    def __init__(self, data=None):\n",
    "        self.data = data\n",
    "        self.next = None\n",
    "\n",
    "def remove_nth_from_end(head, n):\n",
    "    dummy = Node()\n",
    "    dummy.next = head\n",
    "    first = dummy\n",
    "    second = dummy\n",
    "\n",
    "    # Move second pointer n steps ahead\n",
    "    for _ in range(n + 1):\n",
    "        if not second:\n",
    "            return None  # n is greater than the length of the list\n",
    "        second = second.next\n",
    "\n",
    "    # Move both pointers together until second pointer reaches the end\n",
    "    while second:\n",
    "        first = first.next\n",
    "        second = second.next\n",
    "\n",
    "    # Remove the nth node from the end\n",
    "    first.next = first.next.next\n",
    "\n",
    "    return dummy.next\n",
    "\n",
    "def print_linked_list(head):\n",
    "    curr = head\n",
    "    while curr:\n",
    "        print(curr.data, end=\"->\")\n",
    "        curr = curr.next\n",
    "    print(\"None\")\n",
    "\n",
    "# Example usage\n",
    "head = Node(1)\n",
    "head.next = Node(2)\n",
    "head.next.next = Node(3)\n",
    "head.next.next.next = Node(4)\n",
    "head.next.next.next.next = Node(5)\n",
    "head.next.next.next.next.next = Node(6)\n",
    "\n",
    "n = 2\n",
    "new_head = remove_nth_from_end(head, n)\n",
    "print_linked_list(new_head)\n"
   ]
  },
  {
   "cell_type": "markdown",
   "id": "6e9f9ead",
   "metadata": {},
   "source": [
    "6.Remove duplicates from a sorted linked list\n",
    " 1->2->3->3->4->4->4->5  should be changed to 1->2->3->4->5"
   ]
  },
  {
   "cell_type": "code",
   "execution_count": 6,
   "id": "e312acf0",
   "metadata": {},
   "outputs": [
    {
     "name": "stdout",
     "output_type": "stream",
     "text": [
      "1->2->3->4->5->None\n"
     ]
    }
   ],
   "source": [
    "class Node:\n",
    "    def __init__(self, data=None):\n",
    "        self.data = data\n",
    "        self.next = None\n",
    "\n",
    "def remove_duplicates(head):\n",
    "    curr = head\n",
    "    while curr and curr.next:\n",
    "        if curr.data == curr.next.data:\n",
    "            curr.next = curr.next.next\n",
    "        else:\n",
    "            curr = curr.next\n",
    "    return head\n",
    "\n",
    "def print_linked_list(head):\n",
    "    curr = head\n",
    "    while curr:\n",
    "        print(curr.data, end=\"->\")\n",
    "        curr = curr.next\n",
    "    print(\"None\")\n",
    "\n",
    "# Example usage\n",
    "head = Node(1)\n",
    "head.next = Node(2)\n",
    "head.next.next = Node(3)\n",
    "head.next.next.next = Node(3)\n",
    "head.next.next.next.next = Node(4)\n",
    "head.next.next.next.next.next = Node(4)\n",
    "head.next.next.next.next.next.next = Node(4)\n",
    "head.next.next.next.next.next.next.next = Node(5)\n",
    "\n",
    "new_head = remove_duplicates(head)\n",
    "print_linked_list(new_head)\n"
   ]
  },
  {
   "cell_type": "markdown",
   "id": "acb0e3d8",
   "metadata": {},
   "source": [
    "7.Find the intersection of the two linked lists\n",
    " 1->2->3->4->8->6->9  5->1->6->7  , intersection 1->6"
   ]
  },
  {
   "cell_type": "code",
   "execution_count": 7,
   "id": "9cceed4f",
   "metadata": {},
   "outputs": [
    {
     "name": "stdout",
     "output_type": "stream",
     "text": [
      "Intersection node: 3\n"
     ]
    }
   ],
   "source": [
    "class Node:\n",
    "    def __init__(self, data=None):\n",
    "        self.data = data\n",
    "        self.next = None\n",
    "\n",
    "def get_intersection(head1, head2):\n",
    "    node_set = set()\n",
    "    curr = head1\n",
    "    while curr:\n",
    "        node_set.add(curr)\n",
    "        curr = curr.next\n",
    "\n",
    "    curr = head2\n",
    "    while curr:\n",
    "        if curr in node_set:\n",
    "            return curr\n",
    "        curr = curr.next\n",
    "\n",
    "    return None\n",
    "\n",
    "def print_linked_list(head):\n",
    "    curr = head\n",
    "    while curr:\n",
    "        print(curr.data, end=\"->\")\n",
    "        curr = curr.next\n",
    "    print(\"None\")\n",
    "\n",
    "# Example usage\n",
    "# Linked list 1: 1->2->3->4->8->6->9\n",
    "head1 = Node(1)\n",
    "head1.next = Node(2)\n",
    "head1.next.next = Node(3)\n",
    "head1.next.next.next = Node(4)\n",
    "head1.next.next.next.next = Node(8)\n",
    "head1.next.next.next.next.next = Node(6)\n",
    "head1.next.next.next.next.next.next = Node(9)\n",
    "\n",
    "# Linked list 2: 5->1->6->7\n",
    "head2 = Node(5)\n",
    "head2.next = head1.next.next  # Connecting to the node with value 1 in the first list\n",
    "head2.next.next = Node(6)\n",
    "head2.next.next.next = Node(7)\n",
    "\n",
    "intersection_node = get_intersection(head1, head2)\n",
    "if intersection_node:\n",
    "    print(\"Intersection node:\", intersection_node.data)\n",
    "else:\n",
    "    print(\"No intersection found\")\n"
   ]
  },
  {
   "cell_type": "markdown",
   "id": "7c708059",
   "metadata": {},
   "source": [
    " 8.Rotate a linked list by k positions to the right\n",
    " 1->2->3->4->8->6->9 , after rotating for 2 times becomes , 3->4->8->6->9->1->2"
   ]
  },
  {
   "cell_type": "code",
   "execution_count": 8,
   "id": "414a21f4",
   "metadata": {},
   "outputs": [
    {
     "name": "stdout",
     "output_type": "stream",
     "text": [
      "6->9->1->2->3->4->8->None\n"
     ]
    }
   ],
   "source": [
    "class Node:\n",
    "    def __init__(self, data=None):\n",
    "        self.data = data\n",
    "        self.next = None\n",
    "\n",
    "def rotate_linked_list(head, k):\n",
    "    if not head or k == 0:\n",
    "        return head\n",
    "\n",
    "    # Find the length of the linked list\n",
    "    length = 1\n",
    "    tail = head\n",
    "    while tail.next:\n",
    "        length += 1\n",
    "        tail = tail.next\n",
    "\n",
    "    # Adjust k to be within the length of the linked list\n",
    "    k = k % length\n",
    "\n",
    "    if k == 0:\n",
    "        return head\n",
    "\n",
    "    # Find the new tail position after rotation\n",
    "    new_tail_position = length - k - 1\n",
    "    new_tail = head\n",
    "    for _ in range(new_tail_position):\n",
    "        new_tail = new_tail.next\n",
    "\n",
    "    # Rotate the linked list\n",
    "    new_head = new_tail.next\n",
    "    new_tail.next = None\n",
    "    tail.next = head\n",
    "\n",
    "    return new_head\n",
    "\n",
    "def print_linked_list(head):\n",
    "    curr = head\n",
    "    while curr:\n",
    "        print(curr.data, end=\"->\")\n",
    "        curr = curr.next\n",
    "    print(\"None\")\n",
    "\n",
    "# Example usage\n",
    "head = Node(1)\n",
    "head.next = Node(2)\n",
    "head.next.next = Node(3)\n",
    "head.next.next.next = Node(4)\n",
    "head.next.next.next.next = Node(8)\n",
    "head.next.next.next.next.next = Node(6)\n",
    "head.next.next.next.next.next.next = Node(9)\n",
    "\n",
    "k = 2\n",
    "rotated_head = rotate_linked_list(head, k)\n",
    "print_linked_list(rotated_head)\n"
   ]
  },
  {
   "cell_type": "markdown",
   "id": "98869429",
   "metadata": {},
   "source": [
    " 9.Add Two Numbers Represented by LinkedLists:\n",
    " Given two non-empty linked lists representing two non-negative integers, where the digits are stored in \n",
    "reverse order, add the two numbers and return it as a linked list."
   ]
  },
  {
   "cell_type": "code",
   "execution_count": 9,
   "id": "38415176",
   "metadata": {},
   "outputs": [
    {
     "name": "stdout",
     "output_type": "stream",
     "text": [
      "7->0->8->None\n"
     ]
    }
   ],
   "source": [
    "class Node:\n",
    "    def __init__(self, data=None):\n",
    "        self.data = data\n",
    "        self.next = None\n",
    "\n",
    "def add_two_numbers(l1, l2):\n",
    "    dummy_head = Node()\n",
    "    curr = dummy_head\n",
    "    carry = 0\n",
    "\n",
    "    while l1 or l2 or carry:\n",
    "        val1 = l1.data if l1 else 0\n",
    "        val2 = l2.data if l2 else 0\n",
    "\n",
    "        # Calculate sum and carry\n",
    "        total = val1 + val2 + carry\n",
    "        carry = total // 10\n",
    "        digit = total % 10\n",
    "\n",
    "        # Create a new node with the digit\n",
    "        curr.next = Node(digit)\n",
    "        curr = curr.next\n",
    "\n",
    "        # Move to the next nodes in the input lists\n",
    "        l1 = l1.next if l1 else None\n",
    "        l2 = l2.next if l2 else None\n",
    "\n",
    "    return dummy_head.next\n",
    "\n",
    "def print_linked_list(head):\n",
    "    curr = head\n",
    "    while curr:\n",
    "        print(curr.data, end=\"->\")\n",
    "        curr = curr.next\n",
    "    print(\"None\")\n",
    "\n",
    "# Example usage\n",
    "# l1: 2->4->3 (represents the number 342)\n",
    "l1 = Node(2)\n",
    "l1.next = Node(4)\n",
    "l1.next.next = Node(3)\n",
    "\n",
    "# l2: 5->6->4 (represents the number 465)\n",
    "l2 = Node(5)\n",
    "l2.next = Node(6)\n",
    "l2.next.next = Node(4)\n",
    "\n",
    "# Add the two numbers\n",
    "result = add_two_numbers(l1, l2)\n",
    "\n",
    "# Output the result\n",
    "print_linked_list(result)\n"
   ]
  },
  {
   "cell_type": "markdown",
   "id": "51dd0955",
   "metadata": {},
   "source": [
    " 10.Clone a Linked List with next and Random Pointer\n",
    " Given a linked list of size N where each node has two links: one pointer points to the next node and the \n",
    "second pointer points to any node in the list. The task is to create a clone of this linked list in O(N) time. \n",
    "Note: The pointer pointing to the next node is ‘next‘ pointer and the one pointing to an arbitrary node is \n",
    "called ‘arbit’ pointer as it can point to any arbitrary node in the linked list. "
   ]
  },
  {
   "cell_type": "code",
   "execution_count": 10,
   "id": "40ac9030",
   "metadata": {},
   "outputs": [
    {
     "name": "stdout",
     "output_type": "stream",
     "text": [
      "Data: 1, Next: 2, Random: 3\n",
      "Data: 2, Next: 3, Random: 1\n",
      "Data: 3, Next: 4, Random: 4\n",
      "Data: 4, Next: None, Random: 2\n"
     ]
    }
   ],
   "source": [
    "class Node:\n",
    "    def __init__(self, data=None, next=None, random=None):\n",
    "        self.data = data\n",
    "        self.next = next\n",
    "        self.random = random\n",
    "\n",
    "def clone_linked_list(head):\n",
    "    if not head:\n",
    "        return None\n",
    "\n",
    "    # Create a mapping between original nodes and their clones\n",
    "    node_map = {}\n",
    "    curr = head\n",
    "    while curr:\n",
    "        node_map[curr] = Node(curr.data)\n",
    "        curr = curr.next\n",
    "\n",
    "    # Clone the next and random pointers\n",
    "    curr = head\n",
    "    while curr:\n",
    "        node_map[curr].next = node_map.get(curr.next)\n",
    "        node_map[curr].random = node_map.get(curr.random)\n",
    "        curr = curr.next\n",
    "\n",
    "    return node_map[head]\n",
    "\n",
    "def print_linked_list(head):\n",
    "    curr = head\n",
    "    while curr:\n",
    "        random_data = curr.random.data if curr.random else None\n",
    "        print(f\"Data: {curr.data}, Next: {curr.next.data if curr.next else None}, Random: {random_data}\")\n",
    "        curr = curr.next\n",
    "\n",
    "# Example usage\n",
    "# Original linked list: 1 -> 2 -> 3 -> 4 -> None\n",
    "head = Node(1)\n",
    "head.next = Node(2)\n",
    "head.next.next = Node(3)\n",
    "head.next.next.next = Node(4)\n",
    "\n",
    "# Set random pointers\n",
    "head.random = head.next.next  # 1's random points to 3\n",
    "head.next.random = head  # 2's random points to 1\n",
    "head.next.next.random = head.next.next.next  # 3's random points to 4\n",
    "head.next.next.next.random = head.next  # 4's random points to 2\n",
    "\n",
    "# Clone the linked list\n",
    "cloned_head = clone_linked_list(head)\n",
    "\n",
    "# Output the cloned linked list\n",
    "print_linked_list(cloned_head)\n"
   ]
  },
  {
   "cell_type": "code",
   "execution_count": null,
   "id": "03f12044",
   "metadata": {},
   "outputs": [],
   "source": []
  }
 ],
 "metadata": {
  "kernelspec": {
   "display_name": "Python 3 (ipykernel)",
   "language": "python",
   "name": "python3"
  },
  "language_info": {
   "codemirror_mode": {
    "name": "ipython",
    "version": 3
   },
   "file_extension": ".py",
   "mimetype": "text/x-python",
   "name": "python",
   "nbconvert_exporter": "python",
   "pygments_lexer": "ipython3",
   "version": "3.11.5"
  }
 },
 "nbformat": 4,
 "nbformat_minor": 5
}
