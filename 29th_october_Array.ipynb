{
 "cells": [
  {
   "cell_type": "markdown",
   "id": "9fd77d0a",
   "metadata": {},
   "source": [
    "# 1. Given an array, check if it contains any duplicates or not."
   ]
  },
  {
   "cell_type": "code",
   "execution_count": 8,
   "id": "c66b32ae",
   "metadata": {},
   "outputs": [],
   "source": [
    "a=[1,2,4,2,5,9]"
   ]
  },
  {
   "cell_type": "code",
   "execution_count": 12,
   "id": "0ae3a6f1",
   "metadata": {},
   "outputs": [
    {
     "name": "stdout",
     "output_type": "stream",
     "text": [
      "True\n"
     ]
    }
   ],
   "source": [
    "for i in range(0,len(a)):\n",
    "    for j in range (i+1,len(a)):\n",
    "        if a[i]==a[j]:\n",
    "            print ('True')# it will show at which index the duplicate is present\n",
    "        "
   ]
  },
  {
   "cell_type": "markdown",
   "id": "7f0aa91f",
   "metadata": {},
   "source": [
    "# 2. Given an array and an integer k, rotate the array to the right by k steps."
   ]
  },
  {
   "cell_type": "code",
   "execution_count": 13,
   "id": "c7c70a6f",
   "metadata": {},
   "outputs": [
    {
     "name": "stdout",
     "output_type": "stream",
     "text": [
      "[5, 6, 7, 1, 2, 3, 4]\n"
     ]
    }
   ],
   "source": [
    "def right_rotate_array(arr, k):\n",
    "    k = k % len(arr)\n",
    "    arr[:] = arr[-k:] + arr[:-k]\n",
    "    return arr\n",
    "\n",
    "arr = [1, 2, 3, 4, 5, 6, 7]\n",
    "k = 3\n",
    "print(right_rotate_array(arr, k)) "
   ]
  },
  {
   "cell_type": "markdown",
   "id": "40c68497",
   "metadata": {},
   "source": [
    "# 3. Reverse the given array in-place, means without using any extra data structure.\n"
   ]
  },
  {
   "cell_type": "code",
   "execution_count": 23,
   "id": "2280805c",
   "metadata": {},
   "outputs": [
    {
     "name": "stdout",
     "output_type": "stream",
     "text": [
      "[12, 9, 7, 5, 4, 2]\n"
     ]
    }
   ],
   "source": [
    "def reverse_array(arr):\n",
    "    i, j = 0, len(arr) - 1\n",
    "    while i < j:\n",
    "        arr[i], arr[j] = arr[j], arr[i]\n",
    "        i += 1\n",
    "        j -= 1\n",
    "    return arr\n",
    "\n",
    "arr = [2, 4, 5, 7, 9, 12]\n",
    "print(reverse_array(arr))"
   ]
  },
  {
   "cell_type": "code",
   "execution_count": 17,
   "id": "c40c9d59",
   "metadata": {},
   "outputs": [
    {
     "data": {
      "text/plain": [
       "[12, 9, 7, 5, 4, 2]"
      ]
     },
     "execution_count": 17,
     "metadata": {},
     "output_type": "execute_result"
    }
   ],
   "source": [
    "# we can do directly like this also\n",
    "arr = [2, 4, 5, 7, 9, 12]\n",
    "arr[::-1]"
   ]
  },
  {
   "cell_type": "markdown",
   "id": "03a07311",
   "metadata": {},
   "source": [
    "# 4. Given an array of integers, find the maximum element in an array\n"
   ]
  },
  {
   "cell_type": "code",
   "execution_count": 20,
   "id": "ed1b51e5",
   "metadata": {},
   "outputs": [
    {
     "name": "stdout",
     "output_type": "stream",
     "text": [
      "20\n"
     ]
    }
   ],
   "source": [
    "def max_element(arr):\n",
    "    return max(arr)\n",
    "\n",
    "\n",
    "arr = [10, 5, 20, 8, 15]\n",
    "print(max_element(arr))"
   ]
  },
  {
   "cell_type": "markdown",
   "id": "99d745b6",
   "metadata": {},
   "source": [
    "# 5. Given a sorted array, remove the duplicate element without using any extra data structure."
   ]
  },
  {
   "cell_type": "code",
   "execution_count": 22,
   "id": "39f0c97e",
   "metadata": {},
   "outputs": [
    {
     "name": "stdout",
     "output_type": "stream",
     "text": [
      "[1, 2, 3, 4, 5]\n"
     ]
    }
   ],
   "source": [
    "def remove_duplicates(arr):\n",
    "    if not arr:\n",
    "        return []\n",
    "    j = 0\n",
    "    for i in range(1, len(arr)):\n",
    "        if arr[i] != arr[j]:\n",
    "            j += 1\n",
    "            arr[j] = arr[i]\n",
    "    return arr[:j+1]\n",
    "\n",
    "arr = [1, 1, 2, 2, 2, 3, 3, 4, 4, 4, 5, 5]\n",
    "print(remove_duplicates(arr))"
   ]
  },
  {
   "cell_type": "code",
   "execution_count": null,
   "id": "c6296bef",
   "metadata": {},
   "outputs": [],
   "source": []
  }
 ],
 "metadata": {
  "kernelspec": {
   "display_name": "Python 3 (ipykernel)",
   "language": "python",
   "name": "python3"
  },
  "language_info": {
   "codemirror_mode": {
    "name": "ipython",
    "version": 3
   },
   "file_extension": ".py",
   "mimetype": "text/x-python",
   "name": "python",
   "nbconvert_exporter": "python",
   "pygments_lexer": "ipython3",
   "version": "3.11.5"
  }
 },
 "nbformat": 4,
 "nbformat_minor": 5
}
