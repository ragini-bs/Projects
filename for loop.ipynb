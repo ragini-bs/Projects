{
 "cells": [
  {
   "cell_type": "code",
   "execution_count": 1,
   "id": "cfb50b70",
   "metadata": {},
   "outputs": [
    {
     "name": "stdout",
     "output_type": "stream",
     "text": [
      "1\n",
      "2\n",
      "3\n",
      "4\n",
      "5\n",
      "6\n",
      "7\n",
      "8\n",
      "9\n",
      "10\n"
     ]
    }
   ],
   "source": [
    "for i in  range(1, 11):\n",
    "    print(i)\n"
   ]
  },
  {
   "cell_type": "code",
   "execution_count": 2,
   "id": "47891dce",
   "metadata": {},
   "outputs": [
    {
     "name": "stdout",
     "output_type": "stream",
     "text": [
      "15\n"
     ]
    }
   ],
   "source": [
    "x=[1,2,3,4,5]\n",
    "sum=0\n",
    "for s in range(0,len(x)):\n",
    "   sum=sum+x[s]\n",
    "print (sum)   "
   ]
  },
  {
   "cell_type": "code",
   "execution_count": 1,
   "id": "32bc2d6e",
   "metadata": {},
   "outputs": [
    {
     "name": "stdout",
     "output_type": "stream",
     "text": [
      "!dlroW ,olleH\n"
     ]
    }
   ],
   "source": [
    "\n",
    "input_string = \"Hello, World!\"\n",
    "reversed_string = \"\"\n",
    "\n",
    "for char in reversed(input_string):\n",
    "    reversed_string += char\n",
    "\n",
    "\n",
    "print(reversed_string)\n",
    "\n"
   ]
  },
  {
   "cell_type": "code",
   "execution_count": 4,
   "id": "7518d967",
   "metadata": {},
   "outputs": [],
   "source": [
    "def fact_num(n) :\n",
    "    a=1\n",
    "    for i in range(1,n+1):\n",
    "        a=i*a\n",
    "        \n",
    "    return a\n"
   ]
  },
  {
   "cell_type": "code",
   "execution_count": 5,
   "id": "26518bc3",
   "metadata": {},
   "outputs": [
    {
     "data": {
      "text/plain": [
       "24"
      ]
     },
     "execution_count": 5,
     "metadata": {},
     "output_type": "execute_result"
    }
   ],
   "source": [
    "fact_num(4)"
   ]
  },
  {
   "cell_type": "code",
   "execution_count": 6,
   "id": "36fdb0f7",
   "metadata": {},
   "outputs": [],
   "source": [
    "def fact_num(n):\n",
    "    if n==0 :\n",
    "        return 1\n",
    "    else:\n",
    "        return n*fact_num(n-1)"
   ]
  },
  {
   "cell_type": "code",
   "execution_count": 7,
   "id": "a4a87519",
   "metadata": {},
   "outputs": [
    {
     "data": {
      "text/plain": [
       "2"
      ]
     },
     "execution_count": 7,
     "metadata": {},
     "output_type": "execute_result"
    }
   ],
   "source": [
    "fact_num(2)"
   ]
  },
  {
   "cell_type": "code",
   "execution_count": 8,
   "id": "dfbbf658",
   "metadata": {},
   "outputs": [],
   "source": [
    "def multi_table(n):\n",
    "    i=1\n",
    "    for i in range(1,11):\n",
    "        product = n* i\n",
    "        print(n,'*',i,'=',product)\n",
    "        i= i+1\n",
    "    "
   ]
  },
  {
   "cell_type": "code",
   "execution_count": 9,
   "id": "e90e80b8",
   "metadata": {},
   "outputs": [
    {
     "name": "stdout",
     "output_type": "stream",
     "text": [
      "9 * 1 = 9\n",
      "9 * 2 = 18\n",
      "9 * 3 = 27\n",
      "9 * 4 = 36\n",
      "9 * 5 = 45\n",
      "9 * 6 = 54\n",
      "9 * 7 = 63\n",
      "9 * 8 = 72\n",
      "9 * 9 = 81\n",
      "9 * 10 = 90\n"
     ]
    }
   ],
   "source": [
    "multi_table(9)"
   ]
  },
  {
   "cell_type": "code",
   "execution_count": 2,
   "id": "2fb612da",
   "metadata": {},
   "outputs": [
    {
     "name": "stdout",
     "output_type": "stream",
     "text": [
      "Number of even numbers: 5\n",
      "Number of odd numbers: 5\n"
     ]
    }
   ],
   "source": [
    "\n",
    "numbers = [1, 2, 3, 4, 5, 6, 7, 8, 9, 10]\n",
    "\n",
    "# Initialize counters for even and odd numbers\n",
    "even_count = 0\n",
    "odd_count = 0\n",
    "\n",
    "\n",
    "for number in numbers:\n",
    "    if number % 2 == 0:\n",
    "        even_count += 1\n",
    "    else:\n",
    "        odd_count += 1\n",
    "\n",
    "# Print the counts\n",
    "print(\"Number of even numbers:\", even_count)\n",
    "print(\"Number of odd numbers:\", odd_count)\n"
   ]
  },
  {
   "cell_type": "code",
   "execution_count": 12,
   "id": "64b22765",
   "metadata": {},
   "outputs": [
    {
     "name": "stdout",
     "output_type": "stream",
     "text": [
      "1\n",
      "4\n",
      "9\n",
      "16\n",
      "25\n"
     ]
    }
   ],
   "source": [
    "for i in range(1,6):\n",
    "    i=i**2\n",
    "    print(i)\n",
    "        "
   ]
  },
  {
   "cell_type": "code",
   "execution_count": 15,
   "id": "307cb8ea",
   "metadata": {},
   "outputs": [
    {
     "name": "stdout",
     "output_type": "stream",
     "text": [
      "0\n"
     ]
    }
   ],
   "source": [
    "x=[1,2,3,4,5]\n",
    "\n",
    "for s in range(0,len(x)):\n",
    "   sum=(sum+x[s])%len(x)\n",
    "print (sum)   "
   ]
  },
  {
   "cell_type": "code",
   "execution_count": 17,
   "id": "83aa6123",
   "metadata": {},
   "outputs": [],
   "source": [
    "def gen_fib(n) : \n",
    "    if n <=1 :\n",
    "        return n \n",
    "    else:\n",
    "        return gen_fib(n-1) + gen_fib(n-2)"
   ]
  },
  {
   "cell_type": "code",
   "execution_count": 18,
   "id": "f5847ae2",
   "metadata": {},
   "outputs": [
    {
     "data": {
      "text/plain": [
       "5"
      ]
     },
     "execution_count": 18,
     "metadata": {},
     "output_type": "execute_result"
    }
   ],
   "source": [
    "gen_fib(5)"
   ]
  },
  {
   "cell_type": "code",
   "execution_count": 19,
   "id": "3e75c1e5",
   "metadata": {},
   "outputs": [
    {
     "name": "stdout",
     "output_type": "stream",
     "text": [
      "[1, 2, 5, 9]\n"
     ]
    }
   ],
   "source": [
    "lis = [1, 2, 1, 2, 3, 4, 5, 1, 1, 2, 5, 6, 7, 8, 9, 9]\n",
    " \n",
    "uniqueList = []\n",
    "duplicateList = []\n",
    " \n",
    "for i in lis:\n",
    "    if i not in uniqueList:\n",
    "        uniqueList.append(i)\n",
    "    elif i not in duplicateList:\n",
    "        duplicateList.append(i)\n",
    " \n",
    "print(duplicateList)"
   ]
  },
  {
   "cell_type": "code",
   "execution_count": 20,
   "id": "ae679e3b",
   "metadata": {},
   "outputs": [
    {
     "name": "stdout",
     "output_type": "stream",
     "text": [
      "[1, 2, 3, 4, 5, 6, 7, 8, 9]\n"
     ]
    }
   ],
   "source": [
    "print(uniqueList)"
   ]
  },
  {
   "cell_type": "code",
   "execution_count": 21,
   "id": "d73698da",
   "metadata": {},
   "outputs": [],
   "source": [
    "def check_prime(n):\n",
    "    if n <= 1 : \n",
    "        return False \n",
    "    elif n <=3 :\n",
    "        return  True \n",
    "    elif n%2 == 0 or n%3 == 0 :\n",
    "        return False \n",
    "    i = 5 \n",
    "    while i*i <=n:\n",
    "        if n %i == 0 or n %(i+2) == 0 :\n",
    "            return False \n",
    "        i+=6 \n",
    "    return True \n",
    "\n",
    "prime = [i for i in range(2,10) if check_prime(i)]\n",
    "        "
   ]
  },
  {
   "cell_type": "code",
   "execution_count": 22,
   "id": "6539910c",
   "metadata": {},
   "outputs": [
    {
     "data": {
      "text/plain": [
       "[2, 3, 5, 7]"
      ]
     },
     "execution_count": 22,
     "metadata": {},
     "output_type": "execute_result"
    }
   ],
   "source": [
    "prime"
   ]
  },
  {
   "cell_type": "code",
   "execution_count": 23,
   "id": "83bec244",
   "metadata": {},
   "outputs": [
    {
     "name": "stdout",
     "output_type": "stream",
     "text": [
      "5\n",
      "['e', 'e', 'o', 'e', 'e']\n"
     ]
    }
   ],
   "source": [
    "def Check_Vow(string, vowels):\n",
    "    final = [each for each in string if each in vowels]\n",
    "    print(len(final))\n",
    "    print(final)\n",
    "\n",
    "string = \"Geeks for Geeks\"\n",
    "vowels = \"AaEeIiOoUu\"\n",
    "Check_Vow(string, vowels);"
   ]
  },
  {
   "cell_type": "code",
   "execution_count": 24,
   "id": "ef0235ae",
   "metadata": {},
   "outputs": [
    {
     "name": "stdout",
     "output_type": "stream",
     "text": [
      "10\n"
     ]
    }
   ],
   "source": [
    "my_list = [2,4,6,[5,10,3]]\n",
    "print(max(max(x) if isinstance(x, list) else x for x in my_list))"
   ]
  },
  {
   "cell_type": "code",
   "execution_count": 25,
   "id": "3c95a8ae",
   "metadata": {},
   "outputs": [
    {
     "name": "stdout",
     "output_type": "stream",
     "text": [
      "[1, 3, 4, 3]\n"
     ]
    }
   ],
   "source": [
    "def remove_values_from_list(the_list, val):\n",
    "   return [value for value in the_list if value != val]\n",
    "\n",
    "x = [1, 2, 3, 4, 2, 2, 3]\n",
    "x = remove_values_from_list(x, 2)\n",
    "print (x)\n"
   ]
  },
  {
   "cell_type": "code",
   "execution_count": 26,
   "id": "111a432a",
   "metadata": {},
   "outputs": [],
   "source": [
    "def rem_val(the_list,val):\n",
    "    for i in the_list:\n",
    "        if i!= val:\n",
    "            print(i)"
   ]
  },
  {
   "cell_type": "code",
   "execution_count": 27,
   "id": "a999cdc4",
   "metadata": {},
   "outputs": [
    {
     "name": "stdout",
     "output_type": "stream",
     "text": [
      "1\n",
      "3\n",
      "4\n",
      "3\n",
      "45\n",
      "1\n"
     ]
    }
   ],
   "source": [
    "rem_val([1,2,3,4,2,3,45,1],2)"
   ]
  },
  {
   "cell_type": "code",
   "execution_count": 28,
   "id": "edf14d07",
   "metadata": {},
   "outputs": [],
   "source": [
    "\n",
    "def multi_table(n):\n",
    "    i=1\n",
    "    while i<=10:\n",
    "        product=i*n\n",
    "        print(n,\"*\",i,\"=\",product)\n",
    "        i=1+i"
   ]
  },
  {
   "cell_type": "code",
   "execution_count": 29,
   "id": "d471e74f",
   "metadata": {},
   "outputs": [
    {
     "name": "stdout",
     "output_type": "stream",
     "text": [
      "1 * 1 = 1\n",
      "1 * 2 = 2\n",
      "1 * 3 = 3\n",
      "1 * 4 = 4\n",
      "1 * 5 = 5\n",
      "1 * 6 = 6\n",
      "1 * 7 = 7\n",
      "1 * 8 = 8\n",
      "1 * 9 = 9\n",
      "1 * 10 = 10\n"
     ]
    }
   ],
   "source": [
    "multi_table(1)"
   ]
  },
  {
   "cell_type": "code",
   "execution_count": 30,
   "id": "d3a12890",
   "metadata": {},
   "outputs": [],
   "source": [
    "def fat_cel(f):\n",
    "    c=float(f-32)*5/9\n",
    "    return c"
   ]
  },
  {
   "cell_type": "code",
   "execution_count": 31,
   "id": "a29a1fc4",
   "metadata": {},
   "outputs": [
    {
     "data": {
      "text/plain": [
       "13.333333333333334"
      ]
     },
     "execution_count": 31,
     "metadata": {},
     "output_type": "execute_result"
    }
   ],
   "source": [
    "fat_cel(56)"
   ]
  },
  {
   "cell_type": "code",
   "execution_count": 32,
   "id": "f7d6ce02",
   "metadata": {},
   "outputs": [],
   "source": [
    "a=[1,2,3,4,5,6,7]\n",
    "b=[2,1,7,9,5,6,8]\n",
    "c=[]\n",
    "for i in a:\n",
    "     if i in b:\n",
    "        c.append(i)\n",
    "        "
   ]
  },
  {
   "cell_type": "code",
   "execution_count": 33,
   "id": "d8d24553",
   "metadata": {},
   "outputs": [
    {
     "name": "stdout",
     "output_type": "stream",
     "text": [
      "[1, 2, 5, 6, 7]\n"
     ]
    }
   ],
   "source": [
    "print(c)"
   ]
  },
  {
   "cell_type": "code",
   "execution_count": 34,
   "id": "dc5b2533",
   "metadata": {},
   "outputs": [
    {
     "name": "stdout",
     "output_type": "stream",
     "text": [
      "*\n",
      "**\n",
      "***\n",
      "****\n",
      "*****\n",
      "******\n"
     ]
    }
   ],
   "source": [
    "for i in range(6):\n",
    "    for j in range(i+1):\n",
    "        print(\"*\", end=\"\")\n",
    "    print()\n",
    "    "
   ]
  },
  {
   "cell_type": "code",
   "execution_count": 6,
   "id": "79984d5d",
   "metadata": {},
   "outputs": [],
   "source": [
    "def gcd(x,y):\n",
    "    \n",
    "    gcd = 1\n",
    "    if x % y == 0:\n",
    "        return y\n",
    "    for k in range(int(y / 2), 0, -1):\n",
    "        if x % k == 0 and y % k == 0:\n",
    "            gcd = k\n",
    "            break \n",
    "            return gcd\n",
    "    "
   ]
  },
  {
   "cell_type": "code",
   "execution_count": 9,
   "id": "c8f5c216",
   "metadata": {},
   "outputs": [
    {
     "name": "stdout",
     "output_type": "stream",
     "text": [
      "3\n"
     ]
    }
   ],
   "source": [
    "print(gcd(6,3))"
   ]
  },
  {
   "cell_type": "code",
   "execution_count": 19,
   "id": "eeb9f2f9",
   "metadata": {},
   "outputs": [],
   "source": [
    " def product_of(input):\n",
    "        result = 1\n",
    "        for i in input:\n",
    "            result *i+i\n",
    "            return result"
   ]
  },
  {
   "cell_type": "code",
   "execution_count": 18,
   "id": "a310b607",
   "metadata": {},
   "outputs": [
    {
     "data": {
      "text/plain": [
       "1"
      ]
     },
     "execution_count": 18,
     "metadata": {},
     "output_type": "execute_result"
    }
   ],
   "source": [
    "product_of([1,2,3])"
   ]
  },
  {
   "cell_type": "code",
   "execution_count": 20,
   "id": "0d268604",
   "metadata": {},
   "outputs": [
    {
     "name": "stdout",
     "output_type": "stream",
     "text": [
      " Please Enter any Number: 4\n",
      " 2 is a Prime Factor of a Given Number 4\n"
     ]
    }
   ],
   "source": [
    "Number = int(input(\" Please Enter any Number: \"))\n",
    "\n",
    "for i in range(2, Number + 1):\n",
    "    if(Number % i == 0):\n",
    "        isprime = 1\n",
    "        for j in range(2, (i //2 + 1)):\n",
    "            if(i % j == 0):\n",
    "                isprime = 0\n",
    "                break\n",
    "            \n",
    "        if (isprime == 1):\n",
    "            print(\" %d is a Prime Factor of a Given Number %d\" %(i, Number))"
   ]
  },
  {
   "cell_type": "code",
   "execution_count": 22,
   "id": "8d258bf6",
   "metadata": {},
   "outputs": [],
   "source": [
    "def unique(list1):\n",
    "    unique_list = []\n",
    "    for x in list1:\n",
    "        if x not in unique_list:\n",
    "            unique_list.append(x)\n",
    "    for x in unique_list:\n",
    "        print(x,end=\"\")"
   ]
  },
  {
   "cell_type": "code",
   "execution_count": 23,
   "id": "21ed220d",
   "metadata": {},
   "outputs": [
    {
     "name": "stdout",
     "output_type": "stream",
     "text": [
      "1243567"
     ]
    }
   ],
   "source": [
    "list1=[1,2,2,1,4,2,3,4,5,6,7,7]\n",
    "unique(list1)"
   ]
  },
  {
   "cell_type": "code",
   "execution_count": 17,
   "id": "0b01314e",
   "metadata": {},
   "outputs": [],
   "source": [
    "def is_palindrome(number):\n",
    "    return str(number) == str(number)[::-1]\n",
    "\n",
    "def generate_palindromic_numbers(limit):\n",
    "    return [num for num in range(limit + 1) if is_palindrome(num)]"
   ]
  },
  {
   "cell_type": "code",
   "execution_count": 18,
   "id": "5bb3bada",
   "metadata": {},
   "outputs": [
    {
     "data": {
      "text/plain": [
       "[0, 1, 2, 3, 4, 5, 6, 7, 8, 9, 11, 22, 33, 44, 55, 66, 77, 88, 99]"
      ]
     },
     "execution_count": 18,
     "metadata": {},
     "output_type": "execute_result"
    }
   ],
   "source": [
    "generate_palindromic_numbers(100)"
   ]
  },
  {
   "cell_type": "code",
   "execution_count": 19,
   "id": "dc607602",
   "metadata": {},
   "outputs": [],
   "source": [
    "def flatten_list(nested_list):\n",
    "    return [item for sublist in nested_list for item in sublist]"
   ]
  },
  {
   "cell_type": "code",
   "execution_count": 21,
   "id": "227bb588",
   "metadata": {},
   "outputs": [
    {
     "data": {
      "text/plain": [
       "[1, 2, 3, 34, 5, 6, 2, 3, 4, 65, 6, 7]"
      ]
     },
     "execution_count": 21,
     "metadata": {},
     "output_type": "execute_result"
    }
   ],
   "source": [
    "flatten_list([[1,2,3],[34,5,6],[2,3,4,65,6,7]])"
   ]
  },
  {
   "cell_type": "code",
   "execution_count": 87,
   "id": "6b0e2df9",
   "metadata": {},
   "outputs": [],
   "source": [
    "def sum_even_odd(n):\n",
    "    l1=[]\n",
    "    l2=[]\n",
    "    for i in n:\n",
    "        if i %2 ==0:\n",
    "            l1.append(i)\n",
    "            print(i)\n",
    "    for i in n:\n",
    "        if i%2!=0:\n",
    "            l2.append(i)\n",
    "            print(i)\n",
    "        "
   ]
  },
  {
   "cell_type": "code",
   "execution_count": 88,
   "id": "f2924ee4",
   "metadata": {
    "scrolled": true
   },
   "outputs": [
    {
     "name": "stdout",
     "output_type": "stream",
     "text": [
      "2\n",
      "4\n",
      "6\n",
      "8\n",
      "1\n",
      "3\n",
      "5\n",
      "7\n"
     ]
    }
   ],
   "source": [
    "sum_even_odd([1,2,3,4,5,6,7,8])"
   ]
  },
  {
   "cell_type": "code",
   "execution_count": 71,
   "id": "4234a1ca",
   "metadata": {},
   "outputs": [],
   "source": [
    "def sum_evenodd(n):\n",
    "    n=[1,2,3,4,5,6,7]\n",
    "    \n",
    "    sum_even=sum([i for i in n if i%2==0])\n",
    "    sum_odd=sum([i for i in n if i%2!=0])\n",
    "    return sum_even,sum_odd\n",
    "\n",
    "\n",
    "#print(\"Original list of numbers:\", n)\n",
    "#print(\"Sum of even numbers:\", sum_even)\n",
    "#print(\"Sum of odd numbers:\", sum_odd)"
   ]
  },
  {
   "cell_type": "code",
   "execution_count": 72,
   "id": "9c1fe829",
   "metadata": {},
   "outputs": [
    {
     "data": {
      "text/plain": [
       "(12, 16)"
      ]
     },
     "execution_count": 72,
     "metadata": {},
     "output_type": "execute_result"
    }
   ],
   "source": [
    "sum_evenodd([1,2,3,4,5,6,7])"
   ]
  },
  {
   "cell_type": "code",
   "execution_count": 91,
   "id": "ed44db39",
   "metadata": {},
   "outputs": [
    {
     "name": "stdout",
     "output_type": "stream",
     "text": [
      "1\n",
      "9\n",
      "25\n",
      "49\n",
      "81\n"
     ]
    }
   ],
   "source": [
    "for i in range(1,11):\n",
    "    if i % 2!=0:\n",
    "        print(i**2)"
   ]
  },
  {
   "cell_type": "code",
   "execution_count": 94,
   "id": "70acd3fd",
   "metadata": {},
   "outputs": [
    {
     "name": "stdout",
     "output_type": "stream",
     "text": [
      "Combined Dictionary: {'name': 'Alice', 'age': 30, 'city': 'New York'}\n"
     ]
    }
   ],
   "source": [
    "keys = [\"name\", \"age\", \"city\"]\n",
    "values = [\"Alice\", 30, \"New York\"]\n",
    "\n",
    "combined_dict = {keys[i]: values[i] for i in range(len(keys))}\n",
    "print(\"Combined Dictionary:\", combined_dict)"
   ]
  },
  {
   "cell_type": "code",
   "execution_count": 106,
   "id": "9455d4f7",
   "metadata": {},
   "outputs": [
    {
     "name": "stdout",
     "output_type": "stream",
     "text": [
      "enter a string iam in my home\n",
      "i\n",
      "a\n",
      "i\n",
      "o\n",
      "e\n"
     ]
    }
   ],
   "source": [
    "n=input(\"enter a string\")\n",
    "for i in n:\n",
    "    if i.lower() in \"aeiou\":\n",
    "        print(i)\n",
    "   "
   ]
  },
  {
   "cell_type": "code",
   "execution_count": 107,
   "id": "cbc00422",
   "metadata": {},
   "outputs": [
    {
     "name": "stdout",
     "output_type": "stream",
     "text": [
      "Original list of strings: ['abc123', '456def', '789xyz', '1a2b3c']\n",
      "List with non-numeric characters removed: ['123', '456', '789', '123']\n"
     ]
    }
   ],
   "source": [
    "\n",
    "strings = [\"abc123\", \"456def\", \"789xyz\", \"1a2b3c\"]\n",
    "\n",
    "\n",
    "numeric_strings = [''.join(filter(str.isdigit, s)) for s in strings]\n",
    "\n",
    "print(\"Original list of strings:\", strings)\n",
    "print(\"List with non-numeric characters removed:\", numeric_strings)\n"
   ]
  },
  {
   "cell_type": "markdown",
   "id": "0864f463",
   "metadata": {},
   "source": [
    "Challenge Level:"
   ]
  },
  {
   "cell_type": "code",
   "execution_count": 1,
   "id": "3f9ed049",
   "metadata": {},
   "outputs": [
    {
     "name": "stdout",
     "output_type": "stream",
     "text": [
      "[2, 3, 5, 7, 11, 13, 17, 19, 23, 29, 31, 37, 41, 43, 47]\n"
     ]
    }
   ],
   "source": [
    "def sieve_of_eratosthenes(n):\n",
    "    # Create a boolean list \"is_prime\" and initialize\n",
    "    # all entries as True. A value in is_prime[i]\n",
    "    # will finally be False if i is Not a prime, else True.\n",
    "    is_prime = [True] * (n + 1)\n",
    "    is_prime[0] = is_prime[1] = False  # 0 and 1 are not prime numbers\n",
    "    \n",
    "    # Start with the first prime number, 2\n",
    "    p = 2\n",
    "    \n",
    "    while p**2 <= n:\n",
    "        # If is_prime[p] is not changed, then it is a prime\n",
    "        if is_prime[p]:\n",
    "            # Update all multiples of p\n",
    "            for i in range(p**2, n + 1, p):\n",
    "                is_prime[i] = False\n",
    "        p += 1\n",
    "\n",
    "    # Use list comprehension to extract prime numbers\n",
    "    primes = [i for i in range(2, n + 1) if is_prime[i]]\n",
    "    \n",
    "    return primes\n",
    "\n",
    "# Example: Generate a list of prime numbers up to 50\n",
    "n = 50\n",
    "prime_list = sieve_of_eratosthenes(n)\n",
    "print(prime_list)\n"
   ]
  },
  {
   "cell_type": "code",
   "execution_count": 2,
   "id": "3f22fba6",
   "metadata": {},
   "outputs": [
    {
     "name": "stdout",
     "output_type": "stream",
     "text": [
      "[(3, 4, 5), (5, 12, 13), (6, 8, 10), (8, 15, 17), (9, 12, 15), (12, 16, 20)]\n"
     ]
    }
   ],
   "source": [
    "def generate_pythagorean_triplets(limit):\n",
    "    # Use list comprehension to generate Pythagorean triplets\n",
    "    triplets = [(a, b, c) for a in range(1, limit + 1) for b in range(a, limit + 1)\n",
    "                for c in range(b, limit + 1) if a**2 + b**2 == c**2]\n",
    "    \n",
    "    return triplets\n",
    "\n",
    "# Example: Generate Pythagorean triplets up to a limit of 20\n",
    "limit = 20\n",
    "pythagorean_triplets = generate_pythagorean_triplets(limit)\n",
    "print(pythagorean_triplets)\n"
   ]
  },
  {
   "cell_type": "code",
   "execution_count": 3,
   "id": "6f8db629",
   "metadata": {},
   "outputs": [
    {
     "name": "stdout",
     "output_type": "stream",
     "text": [
      "[(1, 'a'), (1, 'b'), (2, 'a'), (2, 'b')]\n"
     ]
    }
   ],
   "source": [
    "from itertools import product\n",
    "\n",
    "# Two example lists\n",
    "list1 = [1, 2]\n",
    "list2 = ['a', 'b']\n",
    "\n",
    "# Generate all possible combinations using list comprehension\n",
    "combinations = [(x, y) for x, y in product(list1, list2)]\n",
    "\n",
    "# Print the list of combinations\n",
    "print(combinations)\n"
   ]
  },
  {
   "cell_type": "code",
   "execution_count": 10,
   "id": "4f47227e",
   "metadata": {},
   "outputs": [
    {
     "name": "stdout",
     "output_type": "stream",
     "text": [
      "4.0 4.5 5\n"
     ]
    }
   ],
   "source": [
    "import statistics\n",
    "n = [1, 2, 2, 3, 4, 5, 5, 5, 6, 7]\n",
    "mean=sum(n)/len(n)\n",
    "median=statistics.median(n)\n",
    "mode=statistics.mode(n)\n",
    "\n",
    "print(mean ,median ,mode)"
   ]
  },
  {
   "cell_type": "code",
   "execution_count": 11,
   "id": "713434e5",
   "metadata": {},
   "outputs": [
    {
     "name": "stdout",
     "output_type": "stream",
     "text": [
      "[1]\n",
      "[1, 1]\n",
      "[1, 2, 1]\n",
      "[1, 3, 3, 1]\n",
      "[1, 4, 6, 4, 1]\n"
     ]
    }
   ],
   "source": [
    "def generate_pascals_triangle(num_rows):\n",
    "    if num_rows <= 0:\n",
    "        return []\n",
    "\n",
    "    # Initialize Pascal's triangle with the first row\n",
    "    triangle = [[1]]\n",
    "\n",
    "    # Generate Pascal's triangle using list comprehension\n",
    "    while len(triangle) < num_rows:\n",
    "        last_row = triangle[-1]\n",
    "        new_row = [1] + [last_row[i] + last_row[i + 1] for i in range(len(last_row) - 1)] + [1]\n",
    "        triangle.append(new_row)\n",
    "\n",
    "    return triangle\n",
    "\n",
    "# Example: Generate Pascal's triangle with 5 rows\n",
    "num_rows = 5\n",
    "pascals_triangle = generate_pascals_triangle(num_rows)\n",
    "\n",
    "# Print Pascal's triangle\n",
    "for row in pascals_triangle:\n",
    "    print(row)\n"
   ]
  },
  {
   "cell_type": "code",
   "execution_count": 12,
   "id": "2f30bbb0",
   "metadata": {},
   "outputs": [
    {
     "name": "stdout",
     "output_type": "stream",
     "text": [
      "Sum of digits of 1! = 1\n",
      "Sum of digits of 2! = 2\n",
      "Sum of digits of 3! = 6\n",
      "Sum of digits of 4! = 6\n",
      "Sum of digits of 5! = 3\n"
     ]
    }
   ],
   "source": [
    "def factorial(n):\n",
    "    if n == 0:\n",
    "        return 1\n",
    "    else:\n",
    "        return n * factorial(n - 1)\n",
    "\n",
    "def sum_of_digits(number):\n",
    "    return sum(int(digit) for digit in str(number))\n",
    "\n",
    "# Calculate the sum of digits of factorial for numbers from 1 to 5 using list comprehension\n",
    "n_values = [1, 2, 3, 4, 5]\n",
    "factorial_sums = [sum_of_digits(factorial(n)) for n in n_values]\n",
    "\n",
    "# Print the results\n",
    "for n, result in zip(n_values, factorial_sums):\n",
    "    print(f\"Sum of digits of {n}! =\", result)\n"
   ]
  },
  {
   "cell_type": "code",
   "execution_count": 13,
   "id": "0753fd5b",
   "metadata": {},
   "outputs": [
    {
     "name": "stdout",
     "output_type": "stream",
     "text": [
      "The longest word is: sentence\n"
     ]
    }
   ],
   "source": [
    "# Input sentence\n",
    "sentence = \"This is a sample sentence with some long words.\"\n",
    "\n",
    "# Split the sentence into words\n",
    "words = sentence.split()\n",
    "\n",
    "# Find the longest word using list comprehension\n",
    "longest_word = max(words, key=lambda word: len(word))\n",
    "\n",
    "# Print the longest word\n",
    "print(\"The longest word is:\", longest_word)\n"
   ]
  },
  {
   "cell_type": "code",
   "execution_count": 14,
   "id": "8e3855cf",
   "metadata": {},
   "outputs": [
    {
     "name": "stdout",
     "output_type": "stream",
     "text": [
      "Strings with more than three vowels: []\n"
     ]
    }
   ],
   "source": [
    "# List of strings\n",
    "string_list = [\"hello\", \"world\", \"python\", \"programming\", \"example\"]\n",
    "\n",
    "# Function to count vowels in a string\n",
    "def count_vowels(string):\n",
    "    vowels = \"AEIOUaeiou\"\n",
    "    return sum(1 for char in string if char in vowels)\n",
    "\n",
    "# Filter strings with more than three vowels using list comprehension\n",
    "filtered_strings = [string for string in string_list if count_vowels(string) > 3]\n",
    "\n",
    "# Print the filtered strings\n",
    "print(\"Strings with more than three vowels:\", filtered_strings)\n"
   ]
  },
  {
   "cell_type": "code",
   "execution_count": 15,
   "id": "0787fd2c",
   "metadata": {},
   "outputs": [
    {
     "name": "stdout",
     "output_type": "stream",
     "text": [
      "The sum of the digits of numbers from 1 to 1000 is: 13501\n"
     ]
    }
   ],
   "source": [
    "# Function to calculate the sum of digits of a number\n",
    "def sum_of_digits(number):\n",
    "    return sum(int(digit) for digit in str(number))\n",
    "\n",
    "# Calculate the sum of digits for numbers from 1 to 1000 using list comprehension\n",
    "numbers = range(1, 1001)\n",
    "digit_sums = [sum_of_digits(number) for number in numbers]\n",
    "\n",
    "# Calculate the total sum of the digit sums\n",
    "total_sum = sum(digit_sums)\n",
    "\n",
    "# Print the result\n",
    "print(\"The sum of the digits of numbers from 1 to 1000 is:\", total_sum)\n",
    "\n"
   ]
  },
  {
   "cell_type": "code",
   "execution_count": 16,
   "id": "d3f1d3ab",
   "metadata": {},
   "outputs": [
    {
     "name": "stdout",
     "output_type": "stream",
     "text": [
      "Prime palindromic numbers up to 1000 are: [2, 3, 5, 7, 11, 101, 131, 151, 181, 191, 313, 353, 373, 383, 727, 757, 787, 797, 919, 929]\n"
     ]
    }
   ],
   "source": [
    "def is_prime(n):\n",
    "    if n <= 1:\n",
    "        return False\n",
    "    if n <= 3:\n",
    "        return True\n",
    "    if n % 2 == 0 or n % 3 == 0:\n",
    "        return False\n",
    "    i = 5\n",
    "    while i * i <= n:\n",
    "        if n % i == 0 or n % (i + 2) == 0:\n",
    "            return False\n",
    "        i += 6\n",
    "    return True\n",
    "\n",
    "def is_palindrome(n):\n",
    "    return str(n) == str(n)[::-1]\n",
    "\n",
    "# Generate a list of prime palindromic numbers up to a specified limit\n",
    "limit = 1000\n",
    "prime_palindromic_numbers = [n for n in range(2, limit) if is_prime(n) and is_palindrome(n)]\n",
    "\n",
    "# Print the list of prime palindromic numbers\n",
    "print(\"Prime palindromic numbers up to\", limit, \"are:\", prime_palindromic_numbers)\n"
   ]
  },
  {
   "cell_type": "code",
   "execution_count": null,
   "id": "a9827e0b",
   "metadata": {},
   "outputs": [],
   "source": []
  }
 ],
 "metadata": {
  "kernelspec": {
   "display_name": "Python 3 (ipykernel)",
   "language": "python",
   "name": "python3"
  },
  "language_info": {
   "codemirror_mode": {
    "name": "ipython",
    "version": 3
   },
   "file_extension": ".py",
   "mimetype": "text/x-python",
   "name": "python",
   "nbconvert_exporter": "python",
   "pygments_lexer": "ipython3",
   "version": "3.9.7"
  }
 },
 "nbformat": 4,
 "nbformat_minor": 5
}
